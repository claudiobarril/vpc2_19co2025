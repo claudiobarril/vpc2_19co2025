{
 "nbformat": 4,
 "nbformat_minor": 0,
 "metadata": {
  "colab": {
   "provenance": [],
   "gpuType": "T4"
  },
  "kernelspec": {
   "name": "python3",
   "display_name": "Python 3"
  },
  "language_info": {
   "name": "python"
  },
  "accelerator": "GPU"
 },
 "cells": [
  {
   "metadata": {},
   "cell_type": "markdown",
   "source": [
    "## Class Weights\n",
    "\n",
    "En este dataset usaremos técnicas de pesos en las clases con menos representación para analizar si así logramos mejorar el recall de las enfermedades.\n",
    "\n",
    "Este notebook será una antesala al modelo final"
   ]
  },
  {
   "cell_type": "code",
   "execution_count": 1,
   "metadata": {
    "colab": {
     "base_uri": "https://localhost:8080/",
     "height": 1000
    },
    "id": "6eh0V-8aO4pM",
    "outputId": "ed4137b9-b07f-4c7e-da39-d64f993c79f9"
   },
   "outputs": [
    {
     "output_type": "stream",
     "name": "stdout",
     "text": [
      "Collecting torchmetrics\n",
      "  Downloading torchmetrics-1.8.1-py3-none-any.whl.metadata (22 kB)\n",
      "Requirement already satisfied: numpy>1.20.0 in /usr/local/lib/python3.11/dist-packages (from torchmetrics) (2.0.2)\n",
      "Requirement already satisfied: packaging>17.1 in /usr/local/lib/python3.11/dist-packages (from torchmetrics) (25.0)\n",
      "Requirement already satisfied: torch>=2.0.0 in /usr/local/lib/python3.11/dist-packages (from torchmetrics) (2.6.0+cu124)\n",
      "Collecting lightning-utilities>=0.8.0 (from torchmetrics)\n",
      "  Downloading lightning_utilities-0.15.2-py3-none-any.whl.metadata (5.7 kB)\n",
      "Requirement already satisfied: setuptools in /usr/local/lib/python3.11/dist-packages (from lightning-utilities>=0.8.0->torchmetrics) (75.2.0)\n",
      "Requirement already satisfied: typing_extensions in /usr/local/lib/python3.11/dist-packages (from lightning-utilities>=0.8.0->torchmetrics) (4.14.1)\n",
      "Requirement already satisfied: filelock in /usr/local/lib/python3.11/dist-packages (from torch>=2.0.0->torchmetrics) (3.18.0)\n",
      "Requirement already satisfied: networkx in /usr/local/lib/python3.11/dist-packages (from torch>=2.0.0->torchmetrics) (3.5)\n",
      "Requirement already satisfied: jinja2 in /usr/local/lib/python3.11/dist-packages (from torch>=2.0.0->torchmetrics) (3.1.6)\n",
      "Requirement already satisfied: fsspec in /usr/local/lib/python3.11/dist-packages (from torch>=2.0.0->torchmetrics) (2025.3.0)\n",
      "Collecting nvidia-cuda-nvrtc-cu12==12.4.127 (from torch>=2.0.0->torchmetrics)\n",
      "  Downloading nvidia_cuda_nvrtc_cu12-12.4.127-py3-none-manylinux2014_x86_64.whl.metadata (1.5 kB)\n",
      "Collecting nvidia-cuda-runtime-cu12==12.4.127 (from torch>=2.0.0->torchmetrics)\n",
      "  Downloading nvidia_cuda_runtime_cu12-12.4.127-py3-none-manylinux2014_x86_64.whl.metadata (1.5 kB)\n",
      "Collecting nvidia-cuda-cupti-cu12==12.4.127 (from torch>=2.0.0->torchmetrics)\n",
      "  Downloading nvidia_cuda_cupti_cu12-12.4.127-py3-none-manylinux2014_x86_64.whl.metadata (1.6 kB)\n",
      "Collecting nvidia-cudnn-cu12==9.1.0.70 (from torch>=2.0.0->torchmetrics)\n",
      "  Downloading nvidia_cudnn_cu12-9.1.0.70-py3-none-manylinux2014_x86_64.whl.metadata (1.6 kB)\n",
      "Collecting nvidia-cublas-cu12==12.4.5.8 (from torch>=2.0.0->torchmetrics)\n",
      "  Downloading nvidia_cublas_cu12-12.4.5.8-py3-none-manylinux2014_x86_64.whl.metadata (1.5 kB)\n",
      "Collecting nvidia-cufft-cu12==11.2.1.3 (from torch>=2.0.0->torchmetrics)\n",
      "  Downloading nvidia_cufft_cu12-11.2.1.3-py3-none-manylinux2014_x86_64.whl.metadata (1.5 kB)\n",
      "Collecting nvidia-curand-cu12==10.3.5.147 (from torch>=2.0.0->torchmetrics)\n",
      "  Downloading nvidia_curand_cu12-10.3.5.147-py3-none-manylinux2014_x86_64.whl.metadata (1.5 kB)\n",
      "Collecting nvidia-cusolver-cu12==11.6.1.9 (from torch>=2.0.0->torchmetrics)\n",
      "  Downloading nvidia_cusolver_cu12-11.6.1.9-py3-none-manylinux2014_x86_64.whl.metadata (1.6 kB)\n",
      "Collecting nvidia-cusparse-cu12==12.3.1.170 (from torch>=2.0.0->torchmetrics)\n",
      "  Downloading nvidia_cusparse_cu12-12.3.1.170-py3-none-manylinux2014_x86_64.whl.metadata (1.6 kB)\n",
      "Requirement already satisfied: nvidia-cusparselt-cu12==0.6.2 in /usr/local/lib/python3.11/dist-packages (from torch>=2.0.0->torchmetrics) (0.6.2)\n",
      "Collecting nvidia-nccl-cu12==2.21.5 (from torch>=2.0.0->torchmetrics)\n",
      "  Downloading nvidia_nccl_cu12-2.21.5-py3-none-manylinux2014_x86_64.whl.metadata (1.8 kB)\n",
      "Requirement already satisfied: nvidia-nvtx-cu12==12.4.127 in /usr/local/lib/python3.11/dist-packages (from torch>=2.0.0->torchmetrics) (12.4.127)\n",
      "Collecting nvidia-nvjitlink-cu12==12.4.127 (from torch>=2.0.0->torchmetrics)\n",
      "  Downloading nvidia_nvjitlink_cu12-12.4.127-py3-none-manylinux2014_x86_64.whl.metadata (1.5 kB)\n",
      "Requirement already satisfied: triton==3.2.0 in /usr/local/lib/python3.11/dist-packages (from torch>=2.0.0->torchmetrics) (3.2.0)\n",
      "Requirement already satisfied: sympy==1.13.1 in /usr/local/lib/python3.11/dist-packages (from torch>=2.0.0->torchmetrics) (1.13.1)\n",
      "Requirement already satisfied: mpmath<1.4,>=1.1.0 in /usr/local/lib/python3.11/dist-packages (from sympy==1.13.1->torch>=2.0.0->torchmetrics) (1.3.0)\n",
      "Requirement already satisfied: MarkupSafe>=2.0 in /usr/local/lib/python3.11/dist-packages (from jinja2->torch>=2.0.0->torchmetrics) (3.0.2)\n",
      "Downloading torchmetrics-1.8.1-py3-none-any.whl (982 kB)\n",
      "\u001B[2K   \u001B[90m━━━━━━━━━━━━━━━━━━━━━━━━━━━━━━━━━━━━━━━━\u001B[0m \u001B[32m983.0/983.0 kB\u001B[0m \u001B[31m16.4 MB/s\u001B[0m eta \u001B[36m0:00:00\u001B[0m\n",
      "\u001B[?25hDownloading lightning_utilities-0.15.2-py3-none-any.whl (29 kB)\n",
      "Downloading nvidia_cublas_cu12-12.4.5.8-py3-none-manylinux2014_x86_64.whl (363.4 MB)\n",
      "\u001B[2K   \u001B[90m━━━━━━━━━━━━━━━━━━━━━━━━━━━━━━━━━━━━━━━━\u001B[0m \u001B[32m363.4/363.4 MB\u001B[0m \u001B[31m3.8 MB/s\u001B[0m eta \u001B[36m0:00:00\u001B[0m\n",
      "\u001B[?25hDownloading nvidia_cuda_cupti_cu12-12.4.127-py3-none-manylinux2014_x86_64.whl (13.8 MB)\n",
      "\u001B[2K   \u001B[90m━━━━━━━━━━━━━━━━━━━━━━━━━━━━━━━━━━━━━━━━\u001B[0m \u001B[32m13.8/13.8 MB\u001B[0m \u001B[31m41.7 MB/s\u001B[0m eta \u001B[36m0:00:00\u001B[0m\n",
      "\u001B[?25hDownloading nvidia_cuda_nvrtc_cu12-12.4.127-py3-none-manylinux2014_x86_64.whl (24.6 MB)\n",
      "\u001B[2K   \u001B[90m━━━━━━━━━━━━━━━━━━━━━━━━━━━━━━━━━━━━━━━━\u001B[0m \u001B[32m24.6/24.6 MB\u001B[0m \u001B[31m58.7 MB/s\u001B[0m eta \u001B[36m0:00:00\u001B[0m\n",
      "\u001B[?25hDownloading nvidia_cuda_runtime_cu12-12.4.127-py3-none-manylinux2014_x86_64.whl (883 kB)\n",
      "\u001B[2K   \u001B[90m━━━━━━━━━━━━━━━━━━━━━━━━━━━━━━━━━━━━━━━━\u001B[0m \u001B[32m883.7/883.7 kB\u001B[0m \u001B[31m29.1 MB/s\u001B[0m eta \u001B[36m0:00:00\u001B[0m\n",
      "\u001B[?25hDownloading nvidia_cudnn_cu12-9.1.0.70-py3-none-manylinux2014_x86_64.whl (664.8 MB)\n",
      "\u001B[2K   \u001B[90m━━━━━━━━━━━━━━━━━━━━━━━━━━━━━━━━━━━━━━━━\u001B[0m \u001B[32m664.8/664.8 MB\u001B[0m \u001B[31m1.3 MB/s\u001B[0m eta \u001B[36m0:00:00\u001B[0m\n",
      "\u001B[?25hDownloading nvidia_cufft_cu12-11.2.1.3-py3-none-manylinux2014_x86_64.whl (211.5 MB)\n",
      "\u001B[2K   \u001B[90m━━━━━━━━━━━━━━━━━━━━━━━━━━━━━━━━━━━━━━━━\u001B[0m \u001B[32m211.5/211.5 MB\u001B[0m \u001B[31m6.0 MB/s\u001B[0m eta \u001B[36m0:00:00\u001B[0m\n",
      "\u001B[?25hDownloading nvidia_curand_cu12-10.3.5.147-py3-none-manylinux2014_x86_64.whl (56.3 MB)\n",
      "\u001B[2K   \u001B[90m━━━━━━━━━━━━━━━━━━━━━━━━━━━━━━━━━━━━━━━━\u001B[0m \u001B[32m56.3/56.3 MB\u001B[0m \u001B[31m12.4 MB/s\u001B[0m eta \u001B[36m0:00:00\u001B[0m\n",
      "\u001B[?25hDownloading nvidia_cusolver_cu12-11.6.1.9-py3-none-manylinux2014_x86_64.whl (127.9 MB)\n",
      "\u001B[2K   \u001B[90m━━━━━━━━━━━━━━━━━━━━━━━━━━━━━━━━━━━━━━━━\u001B[0m \u001B[32m127.9/127.9 MB\u001B[0m \u001B[31m7.4 MB/s\u001B[0m eta \u001B[36m0:00:00\u001B[0m\n",
      "\u001B[?25hDownloading nvidia_cusparse_cu12-12.3.1.170-py3-none-manylinux2014_x86_64.whl (207.5 MB)\n",
      "\u001B[2K   \u001B[90m━━━━━━━━━━━━━━━━━━━━━━━━━━━━━━━━━━━━━━━━\u001B[0m \u001B[32m207.5/207.5 MB\u001B[0m \u001B[31m5.6 MB/s\u001B[0m eta \u001B[36m0:00:00\u001B[0m\n",
      "\u001B[?25hDownloading nvidia_nccl_cu12-2.21.5-py3-none-manylinux2014_x86_64.whl (188.7 MB)\n",
      "\u001B[2K   \u001B[90m━━━━━━━━━━━━━━━━━━━━━━━━━━━━━━━━━━━━━━━━\u001B[0m \u001B[32m188.7/188.7 MB\u001B[0m \u001B[31m5.6 MB/s\u001B[0m eta \u001B[36m0:00:00\u001B[0m\n",
      "\u001B[?25hDownloading nvidia_nvjitlink_cu12-12.4.127-py3-none-manylinux2014_x86_64.whl (21.1 MB)\n",
      "\u001B[2K   \u001B[90m━━━━━━━━━━━━━━━━━━━━━━━━━━━━━━━━━━━━━━━━\u001B[0m \u001B[32m21.1/21.1 MB\u001B[0m \u001B[31m92.7 MB/s\u001B[0m eta \u001B[36m0:00:00\u001B[0m\n",
      "\u001B[?25hInstalling collected packages: nvidia-nvjitlink-cu12, nvidia-nccl-cu12, nvidia-curand-cu12, nvidia-cufft-cu12, nvidia-cuda-runtime-cu12, nvidia-cuda-nvrtc-cu12, nvidia-cuda-cupti-cu12, nvidia-cublas-cu12, lightning-utilities, nvidia-cusparse-cu12, nvidia-cudnn-cu12, nvidia-cusolver-cu12, torchmetrics\n",
      "  Attempting uninstall: nvidia-nvjitlink-cu12\n",
      "    Found existing installation: nvidia-nvjitlink-cu12 12.5.82\n",
      "    Uninstalling nvidia-nvjitlink-cu12-12.5.82:\n",
      "      Successfully uninstalled nvidia-nvjitlink-cu12-12.5.82\n",
      "  Attempting uninstall: nvidia-nccl-cu12\n",
      "    Found existing installation: nvidia-nccl-cu12 2.23.4\n",
      "    Uninstalling nvidia-nccl-cu12-2.23.4:\n",
      "      Successfully uninstalled nvidia-nccl-cu12-2.23.4\n",
      "  Attempting uninstall: nvidia-curand-cu12\n",
      "    Found existing installation: nvidia-curand-cu12 10.3.6.82\n",
      "    Uninstalling nvidia-curand-cu12-10.3.6.82:\n",
      "      Successfully uninstalled nvidia-curand-cu12-10.3.6.82\n",
      "  Attempting uninstall: nvidia-cufft-cu12\n",
      "    Found existing installation: nvidia-cufft-cu12 11.2.3.61\n",
      "    Uninstalling nvidia-cufft-cu12-11.2.3.61:\n",
      "      Successfully uninstalled nvidia-cufft-cu12-11.2.3.61\n",
      "  Attempting uninstall: nvidia-cuda-runtime-cu12\n",
      "    Found existing installation: nvidia-cuda-runtime-cu12 12.5.82\n",
      "    Uninstalling nvidia-cuda-runtime-cu12-12.5.82:\n",
      "      Successfully uninstalled nvidia-cuda-runtime-cu12-12.5.82\n",
      "  Attempting uninstall: nvidia-cuda-nvrtc-cu12\n",
      "    Found existing installation: nvidia-cuda-nvrtc-cu12 12.5.82\n",
      "    Uninstalling nvidia-cuda-nvrtc-cu12-12.5.82:\n",
      "      Successfully uninstalled nvidia-cuda-nvrtc-cu12-12.5.82\n",
      "  Attempting uninstall: nvidia-cuda-cupti-cu12\n",
      "    Found existing installation: nvidia-cuda-cupti-cu12 12.5.82\n",
      "    Uninstalling nvidia-cuda-cupti-cu12-12.5.82:\n",
      "      Successfully uninstalled nvidia-cuda-cupti-cu12-12.5.82\n",
      "  Attempting uninstall: nvidia-cublas-cu12\n",
      "    Found existing installation: nvidia-cublas-cu12 12.5.3.2\n",
      "    Uninstalling nvidia-cublas-cu12-12.5.3.2:\n",
      "      Successfully uninstalled nvidia-cublas-cu12-12.5.3.2\n",
      "  Attempting uninstall: nvidia-cusparse-cu12\n",
      "    Found existing installation: nvidia-cusparse-cu12 12.5.1.3\n",
      "    Uninstalling nvidia-cusparse-cu12-12.5.1.3:\n",
      "      Successfully uninstalled nvidia-cusparse-cu12-12.5.1.3\n",
      "  Attempting uninstall: nvidia-cudnn-cu12\n",
      "    Found existing installation: nvidia-cudnn-cu12 9.3.0.75\n",
      "    Uninstalling nvidia-cudnn-cu12-9.3.0.75:\n",
      "      Successfully uninstalled nvidia-cudnn-cu12-9.3.0.75\n",
      "  Attempting uninstall: nvidia-cusolver-cu12\n",
      "    Found existing installation: nvidia-cusolver-cu12 11.6.3.83\n",
      "    Uninstalling nvidia-cusolver-cu12-11.6.3.83:\n",
      "      Successfully uninstalled nvidia-cusolver-cu12-11.6.3.83\n",
      "Successfully installed lightning-utilities-0.15.2 nvidia-cublas-cu12-12.4.5.8 nvidia-cuda-cupti-cu12-12.4.127 nvidia-cuda-nvrtc-cu12-12.4.127 nvidia-cuda-runtime-cu12-12.4.127 nvidia-cudnn-cu12-9.1.0.70 nvidia-cufft-cu12-11.2.1.3 nvidia-curand-cu12-10.3.5.147 nvidia-cusolver-cu12-11.6.1.9 nvidia-cusparse-cu12-12.3.1.170 nvidia-nccl-cu12-2.21.5 nvidia-nvjitlink-cu12-12.4.127 torchmetrics-1.8.1\n"
     ]
    },
    {
     "output_type": "display_data",
     "data": {
      "text/plain": [
       "<IPython.core.display.HTML object>"
      ],
      "text/html": [
       "\n",
       "     <input type=\"file\" id=\"files-3c4ed4a3-c535-4dbc-a97a-63972b8ef6e6\" name=\"files[]\" multiple disabled\n",
       "        style=\"border:none\" />\n",
       "     <output id=\"result-3c4ed4a3-c535-4dbc-a97a-63972b8ef6e6\">\n",
       "      Upload widget is only available when the cell has been executed in the\n",
       "      current browser session. Please rerun this cell to enable.\n",
       "      </output>\n",
       "      <script>// Copyright 2017 Google LLC\n",
       "//\n",
       "// Licensed under the Apache License, Version 2.0 (the \"License\");\n",
       "// you may not use this file except in compliance with the License.\n",
       "// You may obtain a copy of the License at\n",
       "//\n",
       "//      http://www.apache.org/licenses/LICENSE-2.0\n",
       "//\n",
       "// Unless required by applicable law or agreed to in writing, software\n",
       "// distributed under the License is distributed on an \"AS IS\" BASIS,\n",
       "// WITHOUT WARRANTIES OR CONDITIONS OF ANY KIND, either express or implied.\n",
       "// See the License for the specific language governing permissions and\n",
       "// limitations under the License.\n",
       "\n",
       "/**\n",
       " * @fileoverview Helpers for google.colab Python module.\n",
       " */\n",
       "(function(scope) {\n",
       "function span(text, styleAttributes = {}) {\n",
       "  const element = document.createElement('span');\n",
       "  element.textContent = text;\n",
       "  for (const key of Object.keys(styleAttributes)) {\n",
       "    element.style[key] = styleAttributes[key];\n",
       "  }\n",
       "  return element;\n",
       "}\n",
       "\n",
       "// Max number of bytes which will be uploaded at a time.\n",
       "const MAX_PAYLOAD_SIZE = 100 * 1024;\n",
       "\n",
       "function _uploadFiles(inputId, outputId) {\n",
       "  const steps = uploadFilesStep(inputId, outputId);\n",
       "  const outputElement = document.getElementById(outputId);\n",
       "  // Cache steps on the outputElement to make it available for the next call\n",
       "  // to uploadFilesContinue from Python.\n",
       "  outputElement.steps = steps;\n",
       "\n",
       "  return _uploadFilesContinue(outputId);\n",
       "}\n",
       "\n",
       "// This is roughly an async generator (not supported in the browser yet),\n",
       "// where there are multiple asynchronous steps and the Python side is going\n",
       "// to poll for completion of each step.\n",
       "// This uses a Promise to block the python side on completion of each step,\n",
       "// then passes the result of the previous step as the input to the next step.\n",
       "function _uploadFilesContinue(outputId) {\n",
       "  const outputElement = document.getElementById(outputId);\n",
       "  const steps = outputElement.steps;\n",
       "\n",
       "  const next = steps.next(outputElement.lastPromiseValue);\n",
       "  return Promise.resolve(next.value.promise).then((value) => {\n",
       "    // Cache the last promise value to make it available to the next\n",
       "    // step of the generator.\n",
       "    outputElement.lastPromiseValue = value;\n",
       "    return next.value.response;\n",
       "  });\n",
       "}\n",
       "\n",
       "/**\n",
       " * Generator function which is called between each async step of the upload\n",
       " * process.\n",
       " * @param {string} inputId Element ID of the input file picker element.\n",
       " * @param {string} outputId Element ID of the output display.\n",
       " * @return {!Iterable<!Object>} Iterable of next steps.\n",
       " */\n",
       "function* uploadFilesStep(inputId, outputId) {\n",
       "  const inputElement = document.getElementById(inputId);\n",
       "  inputElement.disabled = false;\n",
       "\n",
       "  const outputElement = document.getElementById(outputId);\n",
       "  outputElement.innerHTML = '';\n",
       "\n",
       "  const pickedPromise = new Promise((resolve) => {\n",
       "    inputElement.addEventListener('change', (e) => {\n",
       "      resolve(e.target.files);\n",
       "    });\n",
       "  });\n",
       "\n",
       "  const cancel = document.createElement('button');\n",
       "  inputElement.parentElement.appendChild(cancel);\n",
       "  cancel.textContent = 'Cancel upload';\n",
       "  const cancelPromise = new Promise((resolve) => {\n",
       "    cancel.onclick = () => {\n",
       "      resolve(null);\n",
       "    };\n",
       "  });\n",
       "\n",
       "  // Wait for the user to pick the files.\n",
       "  const files = yield {\n",
       "    promise: Promise.race([pickedPromise, cancelPromise]),\n",
       "    response: {\n",
       "      action: 'starting',\n",
       "    }\n",
       "  };\n",
       "\n",
       "  cancel.remove();\n",
       "\n",
       "  // Disable the input element since further picks are not allowed.\n",
       "  inputElement.disabled = true;\n",
       "\n",
       "  if (!files) {\n",
       "    return {\n",
       "      response: {\n",
       "        action: 'complete',\n",
       "      }\n",
       "    };\n",
       "  }\n",
       "\n",
       "  for (const file of files) {\n",
       "    const li = document.createElement('li');\n",
       "    li.append(span(file.name, {fontWeight: 'bold'}));\n",
       "    li.append(span(\n",
       "        `(${file.type || 'n/a'}) - ${file.size} bytes, ` +\n",
       "        `last modified: ${\n",
       "            file.lastModifiedDate ? file.lastModifiedDate.toLocaleDateString() :\n",
       "                                    'n/a'} - `));\n",
       "    const percent = span('0% done');\n",
       "    li.appendChild(percent);\n",
       "\n",
       "    outputElement.appendChild(li);\n",
       "\n",
       "    const fileDataPromise = new Promise((resolve) => {\n",
       "      const reader = new FileReader();\n",
       "      reader.onload = (e) => {\n",
       "        resolve(e.target.result);\n",
       "      };\n",
       "      reader.readAsArrayBuffer(file);\n",
       "    });\n",
       "    // Wait for the data to be ready.\n",
       "    let fileData = yield {\n",
       "      promise: fileDataPromise,\n",
       "      response: {\n",
       "        action: 'continue',\n",
       "      }\n",
       "    };\n",
       "\n",
       "    // Use a chunked sending to avoid message size limits. See b/62115660.\n",
       "    let position = 0;\n",
       "    do {\n",
       "      const length = Math.min(fileData.byteLength - position, MAX_PAYLOAD_SIZE);\n",
       "      const chunk = new Uint8Array(fileData, position, length);\n",
       "      position += length;\n",
       "\n",
       "      const base64 = btoa(String.fromCharCode.apply(null, chunk));\n",
       "      yield {\n",
       "        response: {\n",
       "          action: 'append',\n",
       "          file: file.name,\n",
       "          data: base64,\n",
       "        },\n",
       "      };\n",
       "\n",
       "      let percentDone = fileData.byteLength === 0 ?\n",
       "          100 :\n",
       "          Math.round((position / fileData.byteLength) * 100);\n",
       "      percent.textContent = `${percentDone}% done`;\n",
       "\n",
       "    } while (position < fileData.byteLength);\n",
       "  }\n",
       "\n",
       "  // All done.\n",
       "  yield {\n",
       "    response: {\n",
       "      action: 'complete',\n",
       "    }\n",
       "  };\n",
       "}\n",
       "\n",
       "scope.google = scope.google || {};\n",
       "scope.google.colab = scope.google.colab || {};\n",
       "scope.google.colab._files = {\n",
       "  _uploadFiles,\n",
       "  _uploadFilesContinue,\n",
       "};\n",
       "})(self);\n",
       "</script> "
      ]
     },
     "metadata": {}
    },
    {
     "output_type": "stream",
     "name": "stdout",
     "text": [
      "Saving kaggle.json to kaggle.json\n",
      "Dataset URL: https://www.kaggle.com/datasets/abdallahalidev/plantvillage-dataset\n",
      "License(s): CC-BY-NC-SA-4.0\n",
      "Downloading plantvillage-dataset.zip to /content\n",
      "100% 2.03G/2.04G [00:13<00:00, 230MB/s]\n",
      "100% 2.04G/2.04G [00:13<00:00, 166MB/s]\n"
     ]
    }
   ],
   "source": [
    "!pip install torchmetrics\n",
    "\n",
    "# 1. Instalar la API de Kaggle\n",
    "!pip install -q kaggle\n",
    "\n",
    "# 2. Subir kaggle.json\n",
    "from google.colab import files\n",
    "files.upload()  # Subí aquí el archivo kaggle.json\n",
    "\n",
    "# 3. Configurar kaggle.json\n",
    "!mkdir -p ~/.kaggle\n",
    "!cp kaggle.json ~/.kaggle/\n",
    "!chmod 600 ~/.kaggle/kaggle.json\n",
    "\n",
    "# 4. Descargar dataset y modelo desde Kaggle\n",
    "!kaggle datasets download -d abdallahalidev/plantvillage-dataset\n",
    "!unzip -q plantvillage-dataset.zip -d plantvillage_dataset"
   ]
  },
  {
   "cell_type": "code",
   "source": [
    "import os\n",
    "import pandas as pd\n",
    "import seaborn as sns\n",
    "import numpy as np\n",
    "import matplotlib.pyplot as plt\n",
    "from torch.amp import autocast, GradScaler\n",
    "from tqdm import tqdm\n",
    "\n",
    "import torch\n",
    "import torchmetrics\n",
    "import cv2 as cv\n",
    "import torch.nn as nn\n",
    "\n",
    "from tqdm import tqdm\n",
    "from torch.utils.tensorboard import SummaryWriter\n",
    "from torchvision import transforms, models\n",
    "from sklearn.model_selection import train_test_split\n",
    "from sklearn.metrics import confusion_matrix"
   ],
   "metadata": {
    "id": "pMlVfTfBPDU8"
   },
   "execution_count": 2,
   "outputs": []
  },
  {
   "cell_type": "code",
   "source": [
    "# Species mapping\n",
    "species_es_map = {\n",
    "    'Strawberry': 'Fresa',\n",
    "    'Grape': 'Uva',\n",
    "    'Potato': 'Papa',\n",
    "    'Blueberry': 'Arándano',\n",
    "    'Corn_(maize)': 'Maíz',\n",
    "    'Tomato': 'Tomate',\n",
    "    'Peach': 'Durazno',\n",
    "    'Pepper,_bell': 'Pimiento',\n",
    "    'Orange': 'Naranja',\n",
    "    'Cherry_(including_sour)': 'Cereza',\n",
    "    'Apple': 'Manzana',\n",
    "    'Raspberry': 'Frambuesa',\n",
    "    'Squash': 'Calabaza',\n",
    "    'Soybean': 'Soja'\n",
    "}\n",
    "\n",
    "# Disease mapping\n",
    "disease_es_map = {\n",
    "    'Black_rot': 'Podredumbre negra',\n",
    "    'Early_blight': 'Tizón temprano',\n",
    "    'Target_Spot': 'Mancha diana',\n",
    "    'Late_blight': 'Tizón tardío',\n",
    "    'Tomato_mosaic_virus': 'Virus del mosaico',\n",
    "    'Haunglongbing_(Citrus_greening)': 'Huanglongbing (enverdecimiento de los cítricos)',\n",
    "    'Leaf_Mold': 'Moho de la hoja',\n",
    "    'Leaf_blight_(Isariopsis_Leaf_Spot)': 'Tizón de la hoja',\n",
    "    'Powdery_mildew': 'Oídio',\n",
    "    'Cedar_apple_rust': 'Roya del manzano y cedro',\n",
    "    'Bacterial_spot': 'Mancha bacteriana',\n",
    "    'Common_rust_': 'Roya común',\n",
    "    'Esca_(Black_Measles)': 'Esca',\n",
    "    'Tomato_Yellow_Leaf_Curl_Virus': 'Virus del rizado amarillo de la hoja',\n",
    "    'Apple_scab': 'Sarna',\n",
    "    'Northern_Leaf_Blight': 'Tizón foliar del norte',\n",
    "    'Spider_mites Two-spotted_spider_mite': 'Ácaros araña de dos manchas',\n",
    "    'Septoria_leaf_spot': 'Mancha foliar por septoria',\n",
    "    'Cercospora_leaf_spot Gray_leaf_spot': 'Mancha foliar por cercospora / mancha foliar gris',\n",
    "    'Leaf_scorch': 'Quemadura de la hoja'\n",
    "}"
   ],
   "metadata": {
    "id": "zpgNPdyRPFAt"
   },
   "execution_count": 3,
   "outputs": []
  },
  {
   "cell_type": "code",
   "source": [
    "# Directorio en Kaggle\n",
    "dataset_path = \"plantvillage_dataset/plantvillage dataset/color\"\n",
    "# Directorio para corrida local\n",
    "# dataset_path = \"../data/plantvillage/plantvillage dataset/color\"\n",
    "\n",
    "data = []\n",
    "\n",
    "# Recorremos carpetas y archivos\n",
    "if os.path.exists(dataset_path):\n",
    "    for folder in os.listdir(dataset_path):\n",
    "        folder_path = os.path.join(dataset_path, folder)\n",
    "        if not os.path.isdir(folder_path):\n",
    "            continue\n",
    "        species, disease = folder.split('___', 1)\n",
    "        healthy = disease == 'healthy'\n",
    "        disease = None if healthy else disease\n",
    "        for file in os.listdir(folder_path):\n",
    "            file_path = os.path.join(folder_path, file)\n",
    "            if os.path.isfile(file_path):\n",
    "                data.append({\n",
    "                    'Format': 'color',\n",
    "                    'Species': species,\n",
    "                    'Healthy': healthy,\n",
    "                    'Disease': disease,\n",
    "                    'FileName': file\n",
    "                })\n",
    "\n",
    "# Crear DataFrame\n",
    "df = pd.DataFrame(data)"
   ],
   "metadata": {
    "id": "BhBg9BUxPI2G"
   },
   "execution_count": 4,
   "outputs": []
  },
  {
   "cell_type": "code",
   "source": [
    "# Agregar nombre en español para especie\n",
    "df['Especie'] = df['Species'].map(species_es_map)\n",
    "\n",
    "# Agregar nombre en español para enfermedad (o 'Sano' si es healthy)\n",
    "df['Enfermedad'] = df.apply(\n",
    "    lambda row: 'Sano' if row['Healthy'] else disease_es_map.get(row['Disease'], row['Disease']),\n",
    "    axis=1\n",
    ")\n",
    "\n",
    "# Duplicar columna \"Enfermedad\" como \"Label\", por cuestiones prácticas\n",
    "df['Label'] = df['Enfermedad']\n",
    "\n",
    "# Codificar las etiquetas compuestas como números\n",
    "df['Label_id'] = df['Label'].astype('category').cat.codes\n",
    "\n",
    "# Crear el diccionario de mapeo id → etiqueta compuesta\n",
    "label_map = dict(enumerate(df['Label'].astype('category').cat.categories))\n",
    "\n",
    "# Número de clases únicas\n",
    "NUM_CLASSES = len(label_map)"
   ],
   "metadata": {
    "id": "mQg69pMSPLYp"
   },
   "execution_count": 5,
   "outputs": []
  },
  {
   "cell_type": "code",
   "source": [
    "# Semilla reproducible\n",
    "SEED = 42\n",
    "\n",
    "# Split 85% train, 15% valid\n",
    "train_df, valid_df = train_test_split(\n",
    "    df,\n",
    "    test_size=0.15,\n",
    "    stratify=df['Label_id'],\n",
    "    random_state=SEED\n",
    ")"
   ],
   "metadata": {
    "id": "Nb6czUK0PM19"
   },
   "execution_count": 6,
   "outputs": []
  },
  {
   "cell_type": "code",
   "source": [
    "class PlantVillageDataset(torch.utils.data.Dataset):\n",
    "    def __init__(self, df, root_dir, format_type='color', transform=None):\n",
    "        self.df = df.reset_index(drop=True)\n",
    "        self.root_dir = root_dir\n",
    "        self.format_type = format_type\n",
    "        self.transform = transform\n",
    "\n",
    "    def __len__(self):\n",
    "        return len(self.df)\n",
    "\n",
    "    def __getitem__(self, idx):\n",
    "        row = self.df.iloc[idx]\n",
    "        folder = f\"{row['Species']}___{'healthy' if row['Healthy'] else row['Disease']}\"\n",
    "        image_path = os.path.join(self.root_dir, folder, row['FileName'])\n",
    "\n",
    "        image = cv.imread(image_path)\n",
    "        if image is None:\n",
    "            raise FileNotFoundError(f\"Image not found: {image_path}\")\n",
    "\n",
    "        # Convertir BGR a RGB\n",
    "        image = cv.cvtColor(image, cv.COLOR_BGR2RGB)\n",
    "\n",
    "        # image es numpy array uint8, listo para ToPILImage\n",
    "        label = torch.tensor(row['Label_id'], dtype=torch.long)\n",
    "\n",
    "        if self.transform:\n",
    "            image = self.transform(image)\n",
    "\n",
    "        return image, label"
   ],
   "metadata": {
    "id": "AnGmpkSaPN09"
   },
   "execution_count": 7,
   "outputs": []
  },
  {
   "cell_type": "code",
   "source": [
    "# Verificamos si hay GPU disponible\n",
    "device = torch.device(\"cuda\" if torch.cuda.is_available() else \"cpu\")\n",
    "print(f\"Usando dispositivo: {device}\")"
   ],
   "metadata": {
    "colab": {
     "base_uri": "https://localhost:8080/"
    },
    "id": "J9-WlRX9PP8K",
    "outputId": "11b73e28-dda0-435b-dd79-1f4a078cc30e"
   },
   "execution_count": 8,
   "outputs": [
    {
     "output_type": "stream",
     "name": "stdout",
     "text": [
      "Usando dispositivo: cuda\n"
     ]
    }
   ]
  },
  {
   "cell_type": "code",
   "source": [
    "IMAGE_SIZE = (224, 224)\n",
    "\n",
    "# Normalización estándar ImageNet\n",
    "imagenet_mean = [0.485, 0.456, 0.406]\n",
    "imagenet_std = [0.229, 0.224, 0.225]\n",
    "\n",
    "train_transform = transforms.Compose([\n",
    "    transforms.ToPILImage(),\n",
    "    transforms.RandomResizedCrop(IMAGE_SIZE, scale=(0.8, 1.0)),\n",
    "    transforms.RandomHorizontalFlip(),\n",
    "    transforms.RandomRotation(20),\n",
    "    transforms.ToTensor(),\n",
    "    transforms.Normalize(mean=imagenet_mean, std=imagenet_std),\n",
    "])\n",
    "\n",
    "val_transform = transforms.Compose([\n",
    "    transforms.ToPILImage(),\n",
    "    transforms.Resize(256),\n",
    "    transforms.CenterCrop(IMAGE_SIZE),\n",
    "    transforms.ToTensor(),\n",
    "    transforms.Normalize(mean=imagenet_mean, std=imagenet_std),\n",
    "])"
   ],
   "metadata": {
    "id": "QxQEofFwQIKA"
   },
   "execution_count": 11,
   "outputs": []
  },
  {
   "cell_type": "code",
   "source": [
    "train_dataset = PlantVillageDataset(train_df, dataset_path, transform=train_transform)\n",
    "valid_dataset = PlantVillageDataset(valid_df, dataset_path, transform=val_transform)\n",
    "\n",
    "BATCH_SIZE = 128\n",
    "\n",
    "train_loader = torch.utils.data.DataLoader(train_dataset, batch_size=BATCH_SIZE, shuffle=True, num_workers=2, pin_memory=True)\n",
    "valid_loader = torch.utils.data.DataLoader(valid_dataset, batch_size=BATCH_SIZE, shuffle=False, num_workers=2, pin_memory=True)"
   ],
   "metadata": {
    "id": "KhJaGrGXP2yl"
   },
   "execution_count": 13,
   "outputs": []
  },
  {
   "cell_type": "code",
   "source": [
    "# Cargamos el modelo sin pesos preentrenados\n",
    "model = models.resnet18(weights=models.ResNet18_Weights.DEFAULT)\n",
    "\n",
    "# Congelar todos los parámetros para no reentrenar\n",
    "for param in model.parameters():\n",
    "    param.requires_grad = False\n",
    "\n",
    "# Modificamos la capa final según tu número de clases\n",
    "model.fc = nn.Linear(model.fc.in_features, NUM_CLASSES)\n",
    "\n",
    "# Movemos el modelo al dispositivo (GPU o CPU)\n",
    "model = model.to(device)"
   ],
   "metadata": {
    "colab": {
     "base_uri": "https://localhost:8080/"
    },
    "id": "3YP-GdoePo05",
    "outputId": "ec6032c6-7184-4ff4-fef6-0b179b18c882"
   },
   "execution_count": 14,
   "outputs": [
    {
     "output_type": "stream",
     "name": "stderr",
     "text": [
      "Downloading: \"https://download.pytorch.org/models/resnet18-f37072fd.pth\" to /root/.cache/torch/hub/checkpoints/resnet18-f37072fd.pth\n",
      "100%|██████████| 44.7M/44.7M [00:00<00:00, 139MB/s]\n"
     ]
    }
   ]
  },
  {
   "cell_type": "code",
   "source": [
    "from sklearn.utils.class_weight import compute_class_weight\n",
    "\n",
    "\n",
    "optimizer = torch.optim.Adam(model.parameters(), lr=1e-4)\n",
    "\n",
    "all_train_labels = train_dataset.df['Label_id'].values\n",
    "\n",
    "class_weights = compute_class_weight(\n",
    "    class_weight='balanced',\n",
    "    classes=np.unique(all_train_labels),\n",
    "    y=all_train_labels\n",
    ")\n",
    "\n",
    "# Convertimos a tensor y movemos a GPU si es necesario\n",
    "class_weights = torch.tensor(class_weights, dtype=torch.float).to(device)\n",
    "\n",
    "# Pérdida ponderada\n",
    "criterion = nn.CrossEntropyLoss(weight=class_weights)\n",
    "\n",
    "# Métrica: precisión\n",
    "metric = torchmetrics.classification.MulticlassAccuracy(num_classes=NUM_CLASSES, average='macro')\n",
    "metric.to(device)"
   ],
   "metadata": {
    "colab": {
     "base_uri": "https://localhost:8080/"
    },
    "id": "FZjlkknKPrTN",
    "outputId": "0af9e94c-ff69-4f26-8bf1-967361af76de"
   },
   "execution_count": 17,
   "outputs": [
    {
     "output_type": "execute_result",
     "data": {
      "text/plain": [
       "MulticlassAccuracy()"
      ]
     },
     "metadata": {},
     "execution_count": 17
    }
   ]
  },
  {
   "cell_type": "code",
   "source": [
    "# Info de loaders e imagen\n",
    "data_dict = {\n",
    "    \"train\": train_loader,\n",
    "    \"valid\": valid_loader,\n",
    "    \"image_width\": 224,\n",
    "    \"image_height\": 224\n",
    "}\n",
    "\n",
    "# TensorBoard\n",
    "writer = {\n",
    "    \"train\": SummaryWriter(log_dir=\"runs/plant_train\"),\n",
    "    \"valid\": SummaryWriter(log_dir=\"runs/plant_valid\")\n",
    "}"
   ],
   "metadata": {
    "id": "FYepjdJDPtIs"
   },
   "execution_count": 18,
   "outputs": []
  },
  {
   "cell_type": "code",
   "source": [
    "def train(model, optimizer, criterion, metric, data, epochs, tb_writer=None, log_interval=10, early_stop_patience=3):\n",
    "    \"\"\"\n",
    "    Entrena un modelo de clasificación utilizando PyTorch con validación,\n",
    "    AMP (Automatic Mixed Precision), early stopping y registro en TensorBoard.\n",
    "\n",
    "    Args:\n",
    "        model (nn.Module): Modelo de PyTorch a entrenar.\n",
    "        optimizer (torch.optim.Optimizer): Optimizador utilizado (ej. Adam, SGD).\n",
    "        criterion (nn.Module): Función de pérdida (ej. CrossEntropyLoss).\n",
    "        metric (torchmetrics.Metric): Métrica de evaluación (ej. Accuracy).\n",
    "        data (dict): Diccionario con dataloaders y dimensiones:\n",
    "            - 'train': DataLoader de entrenamiento.\n",
    "            - 'valid': DataLoader de validación.\n",
    "            - 'image_width': Ancho de las imágenes.\n",
    "            - 'image_height': Alto de las imágenes.\n",
    "        epochs (int): Cantidad máxima de épocas para entrenar.\n",
    "        tb_writer (dict, opcional): Diccionario con SummaryWriter de TensorBoard para 'train' y 'valid'.\n",
    "        log_interval (int, opcional): Frecuencia (en batches) con la que se muestra el progreso del entrenamiento. Default: 10.\n",
    "        early_stop_patience (int, opcional): Número de épocas sin mejora en validación antes de detener entrenamiento. Default: 3.\n",
    "\n",
    "    Returns:\n",
    "        dict: Diccionario con el historial de métricas:\n",
    "            - 'train_loss': Lista de pérdidas por época en entrenamiento.\n",
    "            - 'train_acc': Lista de accuracies por época en entrenamiento.\n",
    "            - 'valid_loss': Lista de pérdidas por época en validación.\n",
    "            - 'valid_acc': Lista de accuracies por época en validación.\n",
    "\n",
    "    Efectos secundarios:\n",
    "        - Guarda el mejor modelo (según pérdida de validación más baja) en el archivo 'mejor_modelo.pth'.\n",
    "        - Muestra progreso en consola con tqdm.\n",
    "        - Escribe métricas en TensorBoard si se especifica tb_writer.\n",
    "    \"\"\"\n",
    "    train_loader = data[\"train\"]\n",
    "    valid_loader = data[\"valid\"]\n",
    "    image_width, image_height = data[\"image_width\"], data[\"image_height\"]\n",
    "\n",
    "    device = next(model.parameters()).device\n",
    "    scaler = GradScaler(device='cuda')\n",
    "\n",
    "    train_writer = tb_writer[\"train\"] if tb_writer else None\n",
    "    valid_writer = tb_writer[\"valid\"] if tb_writer else None\n",
    "\n",
    "    if tb_writer:\n",
    "        dummy_input = torch.zeros((1, 3, image_width, image_height)).to(device)\n",
    "        train_writer.add_graph(model, dummy_input)\n",
    "\n",
    "    best_val_loss = float(\"inf\")\n",
    "    patience_counter = 0\n",
    "\n",
    "    train_loss, train_acc, valid_loss, valid_acc = [], [], [], []\n",
    "\n",
    "    for epoch in range(epochs):\n",
    "        model.train()\n",
    "        metric.reset()\n",
    "        epoch_train_loss = 0.0\n",
    "        progress_bar = tqdm(enumerate(train_loader), total=len(train_loader), desc=f\"Epoch {epoch+1}/{epochs} [Train]\")\n",
    "\n",
    "        for batch_idx, (train_data, train_target) in progress_bar:\n",
    "            train_data, train_target = train_data.to(device), train_target.to(device)\n",
    "\n",
    "            optimizer.zero_grad()\n",
    "            with autocast(device_type='cuda'):\n",
    "                output = model(train_data)\n",
    "                loss = criterion(output, train_target)\n",
    "\n",
    "            scaler.scale(loss).backward()\n",
    "            scaler.step(optimizer)\n",
    "            scaler.update()\n",
    "\n",
    "            acc = metric(output, train_target)\n",
    "            epoch_train_loss += loss.item()\n",
    "\n",
    "            if batch_idx % log_interval == 0:\n",
    "                avg_loss = epoch_train_loss / (batch_idx + 1)\n",
    "                avg_acc = acc.item()\n",
    "                progress_bar.set_postfix(loss=f\"{avg_loss:.4f}\", acc=f\"{avg_acc:.4f}\")\n",
    "\n",
    "        train_accuracy = metric.compute().item()\n",
    "        train_loss.append(epoch_train_loss / len(train_loader))\n",
    "        train_acc.append(train_accuracy)\n",
    "\n",
    "        # Validación\n",
    "        model.eval()\n",
    "        metric.reset()\n",
    "        val_loss_total = 0.0\n",
    "        with torch.no_grad():\n",
    "            for val_data, val_target in valid_loader:\n",
    "                val_data, val_target = val_data.to(device), val_target.to(device)\n",
    "                with autocast(device_type='cuda'):\n",
    "                    output = model(val_data)\n",
    "                    loss = criterion(output, val_target)\n",
    "                metric.update(output, val_target)\n",
    "                val_loss_total += loss.item()\n",
    "\n",
    "        val_accuracy = metric.compute().item()\n",
    "        current_val_loss = val_loss_total / len(valid_loader)\n",
    "        valid_loss.append(current_val_loss)\n",
    "        valid_acc.append(val_accuracy)\n",
    "\n",
    "        print(f\"Epoch {epoch+1} - Train Loss: {train_loss[-1]:.4f} Acc: {train_accuracy:.4f} | \"\n",
    "              f\"Valid Loss: {current_val_loss:.4f} Acc: {val_accuracy:.4f}\")\n",
    "\n",
    "        if tb_writer:\n",
    "            train_writer.add_scalar(\"loss\", train_loss[-1], epoch)\n",
    "            valid_writer.add_scalar(\"loss\", valid_loss[-1], epoch)\n",
    "            train_writer.add_scalar(\"accuracy\", train_accuracy, epoch)\n",
    "            valid_writer.add_scalar(\"accuracy\", val_accuracy, epoch)\n",
    "            train_writer.flush()\n",
    "            valid_writer.flush()\n",
    "\n",
    "        # Early stopping y guardado\n",
    "        if current_val_loss < best_val_loss:\n",
    "            best_val_loss = current_val_loss\n",
    "            best_model_state = model.state_dict()\n",
    "            patience_counter = 0\n",
    "            torch.save(best_model_state, \"mejor_modelo.pth\")\n",
    "            print(\"✅ Mejor modelo guardado como 'mejor_modelo.pth'\")\n",
    "        else:\n",
    "            patience_counter += 1\n",
    "            if patience_counter >= early_stop_patience:\n",
    "                print(f\"⏹️ Early stopping at epoch {epoch+1}\")\n",
    "                break\n",
    "\n",
    "    return {\n",
    "        \"train_loss\": train_loss,\n",
    "        \"train_acc\": train_acc,\n",
    "        \"valid_loss\": valid_loss,\n",
    "        \"valid_acc\": valid_acc\n",
    "    }\n"
   ],
   "metadata": {
    "id": "-Mkf8EDGQcZl"
   },
   "execution_count": 19,
   "outputs": []
  },
  {
   "cell_type": "code",
   "source": [
    "# Entrenamiento\n",
    "history = train(\n",
    "    model=model,\n",
    "    optimizer=optimizer,\n",
    "    criterion=criterion,\n",
    "    metric=metric,\n",
    "    data=data_dict,\n",
    "    epochs=50,\n",
    "    tb_writer=writer\n",
    ")"
   ],
   "metadata": {
    "colab": {
     "base_uri": "https://localhost:8080/"
    },
    "id": "kqHEX6zEQes3",
    "outputId": "962cbc0c-6b41-493a-d405-ddd726fcb2dd"
   },
   "execution_count": 20,
   "outputs": [
    {
     "metadata": {
      "tags": null
     },
     "name": "stderr",
     "output_type": "stream",
     "text": [
      "Epoch 1/50 [Train]: 100%|██████████| 361/361 [03:04<00:00,  1.95it/s, acc=0.6339, loss=2.4371]\n"
     ]
    },
    {
     "output_type": "stream",
     "name": "stdout",
     "text": [
      "Epoch 1 - Train Loss: 2.4371 Acc: 0.3869 | Valid Loss: 1.8784 Acc: 0.5987\n",
      "✅ Mejor modelo guardado como 'mejor_modelo.pth'\n"
     ]
    },
    {
     "output_type": "stream",
     "name": "stderr",
     "text": [
      "Epoch 2/50 [Train]: 100%|██████████| 361/361 [02:51<00:00,  2.11it/s, acc=0.5835, loss=1.5751]\n"
     ]
    },
    {
     "output_type": "stream",
     "name": "stdout",
     "text": [
      "Epoch 2 - Train Loss: 1.5751 Acc: 0.7077 | Valid Loss: 1.3192 Acc: 0.7446\n",
      "✅ Mejor modelo guardado como 'mejor_modelo.pth'\n"
     ]
    },
    {
     "output_type": "stream",
     "name": "stderr",
     "text": [
      "Epoch 3/50 [Train]: 100%|██████████| 361/361 [02:47<00:00,  2.16it/s, acc=0.6355, loss=1.1709]\n"
     ]
    },
    {
     "output_type": "stream",
     "name": "stdout",
     "text": [
      "Epoch 3 - Train Loss: 1.1709 Acc: 0.7864 | Valid Loss: 1.0401 Acc: 0.7905\n",
      "✅ Mejor modelo guardado como 'mejor_modelo.pth'\n"
     ]
    },
    {
     "output_type": "stream",
     "name": "stderr",
     "text": [
      "Epoch 4/50 [Train]: 100%|██████████| 361/361 [02:47<00:00,  2.15it/s, acc=0.5642, loss=0.9478]\n"
     ]
    },
    {
     "output_type": "stream",
     "name": "stdout",
     "text": [
      "Epoch 4 - Train Loss: 0.9478 Acc: 0.8186 | Valid Loss: 0.8664 Acc: 0.8160\n",
      "✅ Mejor modelo guardado como 'mejor_modelo.pth'\n"
     ]
    },
    {
     "output_type": "stream",
     "name": "stderr",
     "text": [
      "Epoch 5/50 [Train]: 100%|██████████| 361/361 [02:48<00:00,  2.15it/s, acc=0.6243, loss=0.8126]\n"
     ]
    },
    {
     "output_type": "stream",
     "name": "stdout",
     "text": [
      "Epoch 5 - Train Loss: 0.8126 Acc: 0.8327 | Valid Loss: 0.7589 Acc: 0.8217\n",
      "✅ Mejor modelo guardado como 'mejor_modelo.pth'\n"
     ]
    },
    {
     "output_type": "stream",
     "name": "stderr",
     "text": [
      "Epoch 6/50 [Train]: 100%|██████████| 361/361 [02:48<00:00,  2.15it/s, acc=0.8381, loss=0.7164]\n"
     ]
    },
    {
     "output_type": "stream",
     "name": "stdout",
     "text": [
      "Epoch 6 - Train Loss: 0.7164 Acc: 0.8489 | Valid Loss: 0.6851 Acc: 0.8317\n",
      "✅ Mejor modelo guardado como 'mejor_modelo.pth'\n"
     ]
    },
    {
     "output_type": "stream",
     "name": "stderr",
     "text": [
      "Epoch 7/50 [Train]: 100%|██████████| 361/361 [02:47<00:00,  2.15it/s, acc=0.9310, loss=0.6453]\n"
     ]
    },
    {
     "output_type": "stream",
     "name": "stdout",
     "text": [
      "Epoch 7 - Train Loss: 0.6453 Acc: 0.8581 | Valid Loss: 0.6230 Acc: 0.8458\n",
      "✅ Mejor modelo guardado como 'mejor_modelo.pth'\n"
     ]
    },
    {
     "output_type": "stream",
     "name": "stderr",
     "text": [
      "Epoch 8/50 [Train]: 100%|██████████| 361/361 [02:47<00:00,  2.15it/s, acc=0.6990, loss=0.5996]\n"
     ]
    },
    {
     "output_type": "stream",
     "name": "stdout",
     "text": [
      "Epoch 8 - Train Loss: 0.5996 Acc: 0.8618 | Valid Loss: 0.5719 Acc: 0.8510\n",
      "✅ Mejor modelo guardado como 'mejor_modelo.pth'\n"
     ]
    },
    {
     "output_type": "stream",
     "name": "stderr",
     "text": [
      "Epoch 9/50 [Train]: 100%|██████████| 361/361 [02:47<00:00,  2.15it/s, acc=0.9211, loss=0.5569]\n"
     ]
    },
    {
     "output_type": "stream",
     "name": "stdout",
     "text": [
      "Epoch 9 - Train Loss: 0.5569 Acc: 0.8641 | Valid Loss: 0.5421 Acc: 0.8554\n",
      "✅ Mejor modelo guardado como 'mejor_modelo.pth'\n"
     ]
    },
    {
     "output_type": "stream",
     "name": "stderr",
     "text": [
      "Epoch 10/50 [Train]: 100%|██████████| 361/361 [02:47<00:00,  2.16it/s, acc=0.8963, loss=0.5202]\n"
     ]
    },
    {
     "output_type": "stream",
     "name": "stdout",
     "text": [
      "Epoch 10 - Train Loss: 0.5202 Acc: 0.8747 | Valid Loss: 0.5102 Acc: 0.8615\n",
      "✅ Mejor modelo guardado como 'mejor_modelo.pth'\n"
     ]
    },
    {
     "output_type": "stream",
     "name": "stderr",
     "text": [
      "Epoch 11/50 [Train]: 100%|██████████| 361/361 [02:47<00:00,  2.15it/s, acc=0.8068, loss=0.4905]\n"
     ]
    },
    {
     "output_type": "stream",
     "name": "stdout",
     "text": [
      "Epoch 11 - Train Loss: 0.4905 Acc: 0.8795 | Valid Loss: 0.4938 Acc: 0.8631\n",
      "✅ Mejor modelo guardado como 'mejor_modelo.pth'\n"
     ]
    },
    {
     "output_type": "stream",
     "name": "stderr",
     "text": [
      "Epoch 12/50 [Train]: 100%|██████████| 361/361 [02:48<00:00,  2.15it/s, acc=0.8514, loss=0.4683]\n"
     ]
    },
    {
     "output_type": "stream",
     "name": "stdout",
     "text": [
      "Epoch 12 - Train Loss: 0.4683 Acc: 0.8825 | Valid Loss: 0.4678 Acc: 0.8700\n",
      "✅ Mejor modelo guardado como 'mejor_modelo.pth'\n"
     ]
    },
    {
     "output_type": "stream",
     "name": "stderr",
     "text": [
      "Epoch 13/50 [Train]: 100%|██████████| 361/361 [02:46<00:00,  2.17it/s, acc=0.7784, loss=0.4523]\n"
     ]
    },
    {
     "output_type": "stream",
     "name": "stdout",
     "text": [
      "Epoch 13 - Train Loss: 0.4523 Acc: 0.8847 | Valid Loss: 0.4466 Acc: 0.8730\n",
      "✅ Mejor modelo guardado como 'mejor_modelo.pth'\n"
     ]
    },
    {
     "output_type": "stream",
     "name": "stderr",
     "text": [
      "Epoch 14/50 [Train]: 100%|██████████| 361/361 [02:46<00:00,  2.17it/s, acc=0.8537, loss=0.4331]\n"
     ]
    },
    {
     "output_type": "stream",
     "name": "stdout",
     "text": [
      "Epoch 14 - Train Loss: 0.4331 Acc: 0.8877 | Valid Loss: 0.4337 Acc: 0.8765\n",
      "✅ Mejor modelo guardado como 'mejor_modelo.pth'\n"
     ]
    },
    {
     "output_type": "stream",
     "name": "stderr",
     "text": [
      "Epoch 15/50 [Train]: 100%|██████████| 361/361 [02:45<00:00,  2.18it/s, acc=0.7622, loss=0.4160]\n"
     ]
    },
    {
     "output_type": "stream",
     "name": "stdout",
     "text": [
      "Epoch 15 - Train Loss: 0.4160 Acc: 0.8916 | Valid Loss: 0.4136 Acc: 0.8812\n",
      "✅ Mejor modelo guardado como 'mejor_modelo.pth'\n"
     ]
    },
    {
     "output_type": "stream",
     "name": "stderr",
     "text": [
      "Epoch 16/50 [Train]: 100%|██████████| 361/361 [02:46<00:00,  2.17it/s, acc=0.7906, loss=0.4061]\n"
     ]
    },
    {
     "output_type": "stream",
     "name": "stdout",
     "text": [
      "Epoch 16 - Train Loss: 0.4061 Acc: 0.8900 | Valid Loss: 0.3993 Acc: 0.8867\n",
      "✅ Mejor modelo guardado como 'mejor_modelo.pth'\n"
     ]
    },
    {
     "output_type": "stream",
     "name": "stderr",
     "text": [
      "Epoch 17/50 [Train]: 100%|██████████| 361/361 [02:45<00:00,  2.18it/s, acc=0.7502, loss=0.3945]\n"
     ]
    },
    {
     "output_type": "stream",
     "name": "stdout",
     "text": [
      "Epoch 17 - Train Loss: 0.3945 Acc: 0.8948 | Valid Loss: 0.3952 Acc: 0.8877\n",
      "✅ Mejor modelo guardado como 'mejor_modelo.pth'\n"
     ]
    },
    {
     "output_type": "stream",
     "name": "stderr",
     "text": [
      "Epoch 18/50 [Train]: 100%|██████████| 361/361 [02:47<00:00,  2.16it/s, acc=0.8137, loss=0.3797]\n"
     ]
    },
    {
     "output_type": "stream",
     "name": "stdout",
     "text": [
      "Epoch 18 - Train Loss: 0.3797 Acc: 0.8979 | Valid Loss: 0.3926 Acc: 0.8812\n",
      "✅ Mejor modelo guardado como 'mejor_modelo.pth'\n"
     ]
    },
    {
     "output_type": "stream",
     "name": "stderr",
     "text": [
      "Epoch 19/50 [Train]: 100%|██████████| 361/361 [02:46<00:00,  2.17it/s, acc=0.8729, loss=0.3777]\n"
     ]
    },
    {
     "output_type": "stream",
     "name": "stdout",
     "text": [
      "Epoch 19 - Train Loss: 0.3777 Acc: 0.8956 | Valid Loss: 0.3862 Acc: 0.8840\n",
      "✅ Mejor modelo guardado como 'mejor_modelo.pth'\n"
     ]
    },
    {
     "output_type": "stream",
     "name": "stderr",
     "text": [
      "Epoch 20/50 [Train]: 100%|██████████| 361/361 [02:46<00:00,  2.16it/s, acc=0.8252, loss=0.3649]\n"
     ]
    },
    {
     "output_type": "stream",
     "name": "stdout",
     "text": [
      "Epoch 20 - Train Loss: 0.3649 Acc: 0.8996 | Valid Loss: 0.3678 Acc: 0.8913\n",
      "✅ Mejor modelo guardado como 'mejor_modelo.pth'\n"
     ]
    },
    {
     "output_type": "stream",
     "name": "stderr",
     "text": [
      "Epoch 21/50 [Train]: 100%|██████████| 361/361 [02:44<00:00,  2.19it/s, acc=0.8981, loss=0.3571]\n"
     ]
    },
    {
     "output_type": "stream",
     "name": "stdout",
     "text": [
      "Epoch 21 - Train Loss: 0.3571 Acc: 0.8984 | Valid Loss: 0.3572 Acc: 0.8967\n",
      "✅ Mejor modelo guardado como 'mejor_modelo.pth'\n"
     ]
    },
    {
     "output_type": "stream",
     "name": "stderr",
     "text": [
      "Epoch 22/50 [Train]: 100%|██████████| 361/361 [02:45<00:00,  2.18it/s, acc=0.7861, loss=0.3498]\n"
     ]
    },
    {
     "output_type": "stream",
     "name": "stdout",
     "text": [
      "Epoch 22 - Train Loss: 0.3498 Acc: 0.9023 | Valid Loss: 0.3548 Acc: 0.8953\n",
      "✅ Mejor modelo guardado como 'mejor_modelo.pth'\n"
     ]
    },
    {
     "output_type": "stream",
     "name": "stderr",
     "text": [
      "Epoch 23/50 [Train]: 100%|██████████| 361/361 [02:45<00:00,  2.18it/s, acc=0.8425, loss=0.3415]\n"
     ]
    },
    {
     "output_type": "stream",
     "name": "stdout",
     "text": [
      "Epoch 23 - Train Loss: 0.3415 Acc: 0.9028 | Valid Loss: 0.3475 Acc: 0.8957\n",
      "✅ Mejor modelo guardado como 'mejor_modelo.pth'\n"
     ]
    },
    {
     "output_type": "stream",
     "name": "stderr",
     "text": [
      "Epoch 24/50 [Train]: 100%|██████████| 361/361 [02:44<00:00,  2.20it/s, acc=0.8347, loss=0.3403]\n"
     ]
    },
    {
     "output_type": "stream",
     "name": "stdout",
     "text": [
      "Epoch 24 - Train Loss: 0.3403 Acc: 0.9012 | Valid Loss: 0.3450 Acc: 0.8959\n",
      "✅ Mejor modelo guardado como 'mejor_modelo.pth'\n"
     ]
    },
    {
     "output_type": "stream",
     "name": "stderr",
     "text": [
      "Epoch 25/50 [Train]: 100%|██████████| 361/361 [02:44<00:00,  2.20it/s, acc=0.7759, loss=0.3265]\n"
     ]
    },
    {
     "output_type": "stream",
     "name": "stdout",
     "text": [
      "Epoch 25 - Train Loss: 0.3265 Acc: 0.9071 | Valid Loss: 0.3437 Acc: 0.8962\n",
      "✅ Mejor modelo guardado como 'mejor_modelo.pth'\n"
     ]
    },
    {
     "output_type": "stream",
     "name": "stderr",
     "text": [
      "Epoch 26/50 [Train]: 100%|██████████| 361/361 [02:46<00:00,  2.17it/s, acc=0.7649, loss=0.3247]\n"
     ]
    },
    {
     "output_type": "stream",
     "name": "stdout",
     "text": [
      "Epoch 26 - Train Loss: 0.3247 Acc: 0.9072 | Valid Loss: 0.3288 Acc: 0.8995\n",
      "✅ Mejor modelo guardado como 'mejor_modelo.pth'\n"
     ]
    },
    {
     "output_type": "stream",
     "name": "stderr",
     "text": [
      "Epoch 27/50 [Train]: 100%|██████████| 361/361 [02:44<00:00,  2.19it/s, acc=0.8711, loss=0.3186]\n"
     ]
    },
    {
     "output_type": "stream",
     "name": "stdout",
     "text": [
      "Epoch 27 - Train Loss: 0.3186 Acc: 0.9079 | Valid Loss: 0.3334 Acc: 0.8955\n"
     ]
    },
    {
     "output_type": "stream",
     "name": "stderr",
     "text": [
      "Epoch 28/50 [Train]: 100%|██████████| 361/361 [02:45<00:00,  2.19it/s, acc=0.8760, loss=0.3168]\n"
     ]
    },
    {
     "output_type": "stream",
     "name": "stdout",
     "text": [
      "Epoch 28 - Train Loss: 0.3168 Acc: 0.9075 | Valid Loss: 0.3219 Acc: 0.9049\n",
      "✅ Mejor modelo guardado como 'mejor_modelo.pth'\n"
     ]
    },
    {
     "output_type": "stream",
     "name": "stderr",
     "text": [
      "Epoch 29/50 [Train]: 100%|██████████| 361/361 [02:44<00:00,  2.19it/s, acc=0.8521, loss=0.3163]\n"
     ]
    },
    {
     "output_type": "stream",
     "name": "stdout",
     "text": [
      "Epoch 29 - Train Loss: 0.3163 Acc: 0.9084 | Valid Loss: 0.3224 Acc: 0.8996\n"
     ]
    },
    {
     "output_type": "stream",
     "name": "stderr",
     "text": [
      "Epoch 30/50 [Train]: 100%|██████████| 361/361 [02:43<00:00,  2.21it/s, acc=0.8142, loss=0.3099]\n"
     ]
    },
    {
     "output_type": "stream",
     "name": "stdout",
     "text": [
      "Epoch 30 - Train Loss: 0.3099 Acc: 0.9077 | Valid Loss: 0.3137 Acc: 0.9052\n",
      "✅ Mejor modelo guardado como 'mejor_modelo.pth'\n"
     ]
    },
    {
     "output_type": "stream",
     "name": "stderr",
     "text": [
      "Epoch 31/50 [Train]: 100%|██████████| 361/361 [02:39<00:00,  2.26it/s, acc=0.9844, loss=0.3043]\n"
     ]
    },
    {
     "output_type": "stream",
     "name": "stdout",
     "text": [
      "Epoch 31 - Train Loss: 0.3043 Acc: 0.9105 | Valid Loss: 0.3169 Acc: 0.9004\n"
     ]
    },
    {
     "output_type": "stream",
     "name": "stderr",
     "text": [
      "Epoch 32/50 [Train]: 100%|██████████| 361/361 [02:38<00:00,  2.27it/s, acc=0.8413, loss=0.3011]\n"
     ]
    },
    {
     "output_type": "stream",
     "name": "stdout",
     "text": [
      "Epoch 32 - Train Loss: 0.3011 Acc: 0.9116 | Valid Loss: 0.3102 Acc: 0.9042\n",
      "✅ Mejor modelo guardado como 'mejor_modelo.pth'\n"
     ]
    },
    {
     "output_type": "stream",
     "name": "stderr",
     "text": [
      "Epoch 33/50 [Train]: 100%|██████████| 361/361 [02:39<00:00,  2.27it/s, acc=0.7267, loss=0.2969]\n"
     ]
    },
    {
     "output_type": "stream",
     "name": "stdout",
     "text": [
      "Epoch 33 - Train Loss: 0.2969 Acc: 0.9104 | Valid Loss: 0.3103 Acc: 0.9050\n"
     ]
    },
    {
     "output_type": "stream",
     "name": "stderr",
     "text": [
      "Epoch 34/50 [Train]: 100%|██████████| 361/361 [02:41<00:00,  2.24it/s, acc=0.9043, loss=0.2937]\n"
     ]
    },
    {
     "output_type": "stream",
     "name": "stdout",
     "text": [
      "Epoch 34 - Train Loss: 0.2937 Acc: 0.9135 | Valid Loss: 0.3086 Acc: 0.9052\n",
      "✅ Mejor modelo guardado como 'mejor_modelo.pth'\n"
     ]
    },
    {
     "output_type": "stream",
     "name": "stderr",
     "text": [
      "Epoch 35/50 [Train]: 100%|██████████| 361/361 [02:42<00:00,  2.23it/s, acc=0.8474, loss=0.2915]\n"
     ]
    },
    {
     "output_type": "stream",
     "name": "stdout",
     "text": [
      "Epoch 35 - Train Loss: 0.2915 Acc: 0.9135 | Valid Loss: 0.2997 Acc: 0.9061\n",
      "✅ Mejor modelo guardado como 'mejor_modelo.pth'\n"
     ]
    },
    {
     "output_type": "stream",
     "name": "stderr",
     "text": [
      "Epoch 36/50 [Train]: 100%|██████████| 361/361 [02:46<00:00,  2.17it/s, acc=0.8692, loss=0.2889]\n"
     ]
    },
    {
     "output_type": "stream",
     "name": "stdout",
     "text": [
      "Epoch 36 - Train Loss: 0.2889 Acc: 0.9132 | Valid Loss: 0.3029 Acc: 0.9049\n"
     ]
    },
    {
     "output_type": "stream",
     "name": "stderr",
     "text": [
      "Epoch 37/50 [Train]: 100%|██████████| 361/361 [02:44<00:00,  2.20it/s, acc=0.8924, loss=0.2843]\n"
     ]
    },
    {
     "output_type": "stream",
     "name": "stdout",
     "text": [
      "Epoch 37 - Train Loss: 0.2843 Acc: 0.9148 | Valid Loss: 0.2969 Acc: 0.9064\n",
      "✅ Mejor modelo guardado como 'mejor_modelo.pth'\n"
     ]
    },
    {
     "output_type": "stream",
     "name": "stderr",
     "text": [
      "Epoch 38/50 [Train]: 100%|██████████| 361/361 [02:43<00:00,  2.21it/s, acc=0.8471, loss=0.2841]\n"
     ]
    },
    {
     "output_type": "stream",
     "name": "stdout",
     "text": [
      "Epoch 38 - Train Loss: 0.2841 Acc: 0.9136 | Valid Loss: 0.2978 Acc: 0.9058\n"
     ]
    },
    {
     "output_type": "stream",
     "name": "stderr",
     "text": [
      "Epoch 39/50 [Train]: 100%|██████████| 361/361 [02:46<00:00,  2.16it/s, acc=0.9326, loss=0.2814]\n"
     ]
    },
    {
     "output_type": "stream",
     "name": "stdout",
     "text": [
      "Epoch 39 - Train Loss: 0.2814 Acc: 0.9137 | Valid Loss: 0.3005 Acc: 0.9057\n"
     ]
    },
    {
     "output_type": "stream",
     "name": "stderr",
     "text": [
      "Epoch 40/50 [Train]: 100%|██████████| 361/361 [02:44<00:00,  2.19it/s, acc=0.8250, loss=0.2785]\n"
     ]
    },
    {
     "output_type": "stream",
     "name": "stdout",
     "text": [
      "Epoch 40 - Train Loss: 0.2785 Acc: 0.9168 | Valid Loss: 0.2958 Acc: 0.9062\n",
      "✅ Mejor modelo guardado como 'mejor_modelo.pth'\n"
     ]
    },
    {
     "output_type": "stream",
     "name": "stderr",
     "text": [
      "Epoch 41/50 [Train]: 100%|██████████| 361/361 [02:45<00:00,  2.18it/s, acc=0.8789, loss=0.2731]\n"
     ]
    },
    {
     "output_type": "stream",
     "name": "stdout",
     "text": [
      "Epoch 41 - Train Loss: 0.2731 Acc: 0.9190 | Valid Loss: 0.2897 Acc: 0.9090\n",
      "✅ Mejor modelo guardado como 'mejor_modelo.pth'\n"
     ]
    },
    {
     "output_type": "stream",
     "name": "stderr",
     "text": [
      "Epoch 42/50 [Train]: 100%|██████████| 361/361 [02:47<00:00,  2.16it/s, acc=0.8018, loss=0.2744]\n"
     ]
    },
    {
     "output_type": "stream",
     "name": "stdout",
     "text": [
      "Epoch 42 - Train Loss: 0.2744 Acc: 0.9171 | Valid Loss: 0.2875 Acc: 0.9105\n",
      "✅ Mejor modelo guardado como 'mejor_modelo.pth'\n"
     ]
    },
    {
     "output_type": "stream",
     "name": "stderr",
     "text": [
      "Epoch 43/50 [Train]: 100%|██████████| 361/361 [02:44<00:00,  2.20it/s, acc=0.7333, loss=0.2744]\n"
     ]
    },
    {
     "output_type": "stream",
     "name": "stdout",
     "text": [
      "Epoch 43 - Train Loss: 0.2744 Acc: 0.9148 | Valid Loss: 0.2851 Acc: 0.9083\n",
      "✅ Mejor modelo guardado como 'mejor_modelo.pth'\n"
     ]
    },
    {
     "output_type": "stream",
     "name": "stderr",
     "text": [
      "Epoch 44/50 [Train]: 100%|██████████| 361/361 [02:45<00:00,  2.18it/s, acc=0.8426, loss=0.2645]\n"
     ]
    },
    {
     "output_type": "stream",
     "name": "stdout",
     "text": [
      "Epoch 44 - Train Loss: 0.2645 Acc: 0.9201 | Valid Loss: 0.2829 Acc: 0.9096\n",
      "✅ Mejor modelo guardado como 'mejor_modelo.pth'\n"
     ]
    },
    {
     "output_type": "stream",
     "name": "stderr",
     "text": [
      "Epoch 45/50 [Train]: 100%|██████████| 361/361 [02:45<00:00,  2.18it/s, acc=0.9572, loss=0.2687]\n"
     ]
    },
    {
     "output_type": "stream",
     "name": "stdout",
     "text": [
      "Epoch 45 - Train Loss: 0.2687 Acc: 0.9182 | Valid Loss: 0.2823 Acc: 0.9103\n",
      "✅ Mejor modelo guardado como 'mejor_modelo.pth'\n"
     ]
    },
    {
     "output_type": "stream",
     "name": "stderr",
     "text": [
      "Epoch 46/50 [Train]: 100%|██████████| 361/361 [02:46<00:00,  2.16it/s, acc=0.8271, loss=0.2656]\n"
     ]
    },
    {
     "output_type": "stream",
     "name": "stdout",
     "text": [
      "Epoch 46 - Train Loss: 0.2656 Acc: 0.9202 | Valid Loss: 0.2767 Acc: 0.9101\n",
      "✅ Mejor modelo guardado como 'mejor_modelo.pth'\n"
     ]
    },
    {
     "output_type": "stream",
     "name": "stderr",
     "text": [
      "Epoch 47/50 [Train]: 100%|██████████| 361/361 [02:46<00:00,  2.17it/s, acc=0.8527, loss=0.2623]\n"
     ]
    },
    {
     "output_type": "stream",
     "name": "stdout",
     "text": [
      "Epoch 47 - Train Loss: 0.2623 Acc: 0.9213 | Valid Loss: 0.2755 Acc: 0.9081\n",
      "✅ Mejor modelo guardado como 'mejor_modelo.pth'\n"
     ]
    },
    {
     "output_type": "stream",
     "name": "stderr",
     "text": [
      "Epoch 48/50 [Train]: 100%|██████████| 361/361 [02:44<00:00,  2.19it/s, acc=0.8722, loss=0.2610]\n"
     ]
    },
    {
     "output_type": "stream",
     "name": "stdout",
     "text": [
      "Epoch 48 - Train Loss: 0.2610 Acc: 0.9197 | Valid Loss: 0.2806 Acc: 0.9100\n"
     ]
    },
    {
     "output_type": "stream",
     "name": "stderr",
     "text": [
      "Epoch 49/50 [Train]: 100%|██████████| 361/361 [02:47<00:00,  2.16it/s, acc=0.8870, loss=0.2579]\n"
     ]
    },
    {
     "output_type": "stream",
     "name": "stdout",
     "text": [
      "Epoch 49 - Train Loss: 0.2579 Acc: 0.9219 | Valid Loss: 0.2768 Acc: 0.9106\n"
     ]
    },
    {
     "output_type": "stream",
     "name": "stderr",
     "text": [
      "Epoch 50/50 [Train]: 100%|██████████| 361/361 [02:45<00:00,  2.18it/s, acc=0.8804, loss=0.2601]\n"
     ]
    },
    {
     "output_type": "stream",
     "name": "stdout",
     "text": [
      "Epoch 50 - Train Loss: 0.2601 Acc: 0.9201 | Valid Loss: 0.2757 Acc: 0.9100\n",
      "⏹️ Early stopping at epoch 50\n"
     ]
    }
   ]
  },
  {
   "cell_type": "code",
   "source": [
    "def plot_training_curves(history, output_dir=\"training_plots\"):\n",
    "    os.makedirs(output_dir, exist_ok=True)\n",
    "\n",
    "    # Curva de pérdida\n",
    "    plt.figure(figsize=(8, 6))\n",
    "    plt.plot(history['train_loss'], label='Entrenamiento', marker='o')\n",
    "    plt.plot(history['valid_loss'], label='Validación', marker='o')\n",
    "    plt.title(\"Pérdida durante el entrenamiento\")\n",
    "    plt.xlabel(\"Época\")\n",
    "    plt.ylabel(\"Loss\")\n",
    "    plt.legend()\n",
    "    plt.grid(True)\n",
    "    plt.savefig(os.path.join(output_dir, \"loss_curve.png\"))\n",
    "    plt.close()\n",
    "\n",
    "    # Curva de accuracy\n",
    "    plt.figure(figsize=(8, 6))\n",
    "    plt.plot(history['train_acc'], label='Entrenamiento', marker='o')\n",
    "    plt.plot(history['valid_acc'], label='Validación', marker='o')\n",
    "    plt.title(\"Precisión durante el entrenamiento\")\n",
    "    plt.xlabel(\"Época\")\n",
    "    plt.ylabel(\"Accuracy\")\n",
    "    plt.legend()\n",
    "    plt.grid(True)\n",
    "    plt.savefig(os.path.join(output_dir, \"accuracy_curve.png\"))\n",
    "    plt.close()\n",
    "\n",
    "    print(f\"✅ Gráficos guardados en {output_dir}/\")\n",
    "\n",
    "# Usar después de entrenar\n",
    "plot_training_curves(history)"
   ],
   "metadata": {
    "colab": {
     "base_uri": "https://localhost:8080/"
    },
    "id": "opf-ul1q1E1u",
    "outputId": "b595606a-7136-425c-cb4a-d5ef96349e4f"
   },
   "execution_count": 21,
   "outputs": [
    {
     "output_type": "stream",
     "name": "stdout",
     "text": [
      "✅ Gráficos guardados en training_plots/\n"
     ]
    }
   ]
  },
  {
   "cell_type": "code",
   "source": [
    "correct = 0\n",
    "total = 0\n",
    "model.eval()\n",
    "\n",
    "all_preds = []\n",
    "all_labels = []\n",
    "\n",
    "valid_loader = torch.utils.data.DataLoader(\n",
    "    valid_dataset, batch_size=BATCH_SIZE, shuffle=False, num_workers=0, pin_memory=False\n",
    ")\n",
    "\n",
    "with torch.no_grad():\n",
    "    for images, labels in valid_loader:\n",
    "        images = images.to(device)\n",
    "        labels = labels.to(device)\n",
    "\n",
    "        outputs = model(images)\n",
    "        _, preds = torch.max(outputs, 1)\n",
    "\n",
    "        all_preds.extend(preds.cpu().numpy())\n",
    "        all_labels.extend(labels.cpu().numpy())"
   ],
   "metadata": {
    "id": "IsfY3tk-1htX"
   },
   "execution_count": 22,
   "outputs": []
  },
  {
   "cell_type": "code",
   "source": [
    "label_map = dict(enumerate(df['Label'].astype('category').cat.categories))"
   ],
   "metadata": {
    "id": "eNnfpKoN1l7S"
   },
   "execution_count": 23,
   "outputs": []
  },
  {
   "cell_type": "code",
   "source": [
    "cm = confusion_matrix(all_labels, all_preds)\n",
    "\n",
    "plt.figure(figsize=(12, 8))\n",
    "sns.heatmap(cm, annot=True, fmt='d', cmap='Blues',\n",
    "            xticklabels=list(label_map.values()),\n",
    "            yticklabels=list(label_map.values()))\n",
    "plt.xlabel('Predicción')\n",
    "plt.ylabel('Etiqueta real')\n",
    "plt.title('Matriz de Confusión')\n",
    "plt.xticks(rotation=45, ha='right')\n",
    "plt.yticks(rotation=0)\n",
    "plt.tight_layout()\n",
    "plt.savefig(\"matriz_confusion.png\")\n",
    "plt.close()\n",
    "print(\"✅ Matriz de confusión guardada como 'matriz_confusion.png'\")"
   ],
   "metadata": {
    "colab": {
     "base_uri": "https://localhost:8080/"
    },
    "id": "f0X4rPqx1nwN",
    "outputId": "7d3a535c-8724-4eee-defe-ec0e22df9ed7"
   },
   "execution_count": 25,
   "outputs": [
    {
     "output_type": "stream",
     "name": "stdout",
     "text": [
      "✅ Matriz de confusión guardada como 'matriz_confusion.png'\n"
     ]
    }
   ]
  },
  {
   "cell_type": "code",
   "source": [
    "from sklearn.metrics import classification_report, accuracy_score\n",
    "\n",
    "# Accuracy global\n",
    "acc = accuracy_score(all_labels, all_preds)\n",
    "print(f\"Accuracy global: {acc:.4f}\")\n",
    "\n",
    "# Reporte detallado por clase (precision, recall, f1-score, support)\n",
    "report = classification_report(\n",
    "    all_labels, all_preds,\n",
    "    target_names=list(label_map.values()),\n",
    "    digits=4,\n",
    "    output_dict=True\n",
    ")\n",
    "\n",
    "# Imprimir reporte legible\n",
    "import pandas as pd\n",
    "df_report = pd.DataFrame(report).transpose()\n",
    "print(\"\\n=== Reporte de clasificación por clase ===\")\n",
    "print(df_report)\n",
    "\n",
    "# Guardar reporte a CSV para análisis posterior\n",
    "df_report.to_csv(\"reporte_clasificacion.csv\")\n",
    "print(\"✅ Reporte de clasificación guardado como 'reporte_clasificacion.csv'\")"
   ],
   "metadata": {
    "colab": {
     "base_uri": "https://localhost:8080/"
    },
    "id": "VfnohPzN2eey",
    "outputId": "fd1b0d3b-3296-4b32-d5c2-397e21e3b43a"
   },
   "execution_count": 26,
   "outputs": [
    {
     "output_type": "stream",
     "name": "stdout",
     "text": [
      "Accuracy global: 0.9195\n",
      "\n",
      "=== Reporte de clasificación por clase ===\n",
      "                                                   precision    recall  \\\n",
      "Esca                                                0.975124  0.946860   \n",
      "Huanglongbing (enverdecimiento de los cítricos)     0.978469  0.990315   \n",
      "Mancha bacteriana                                   0.884298  0.921279   \n",
      "Mancha diana                                        0.659574  0.881517   \n",
      "Mancha foliar por cercospora / mancha foliar gris   0.666667  0.831169   \n",
      "Mancha foliar por septoria                          0.827957  0.868421   \n",
      "Moho de la hoja                                     0.798742  0.888112   \n",
      "Oídio                                               0.970149  0.900693   \n",
      "Podredumbre negra                                   0.846906  0.962963   \n",
      "Quemadura de la hoja                                0.987730  0.969880   \n",
      "Roya común                                          0.983051  0.972067   \n",
      "Roya del manzano y cedro                            0.872340  1.000000   \n",
      "Sano                                                0.975187  0.920460   \n",
      "Sarna                                               0.656489  0.905263   \n",
      "Tizón de la hoja                                    0.975460  0.987578   \n",
      "Tizón foliar del norte                              0.871429  0.824324   \n",
      "Tizón tardío                                        0.911548  0.850917   \n",
      "Tizón temprano                                      0.830450  0.800000   \n",
      "Virus del mosaico                                   0.684932  0.892857   \n",
      "Virus del rizado amarillo de la hoja                0.979721  0.961443   \n",
      "Ácaros araña de dos manchas                         0.941441  0.832669   \n",
      "accuracy                                            0.919470  0.919470   \n",
      "macro avg                                           0.870365  0.909942   \n",
      "weighted avg                                        0.925921  0.919470   \n",
      "\n",
      "                                                   f1-score     support  \n",
      "Esca                                               0.960784   207.00000  \n",
      "Huanglongbing (enverdecimiento de los cítricos)    0.984356   826.00000  \n",
      "Mancha bacteriana                                  0.902410   813.00000  \n",
      "Mancha diana                                       0.754564   211.00000  \n",
      "Mancha foliar por cercospora / mancha foliar gris  0.739884    77.00000  \n",
      "Mancha foliar por septoria                         0.847706   266.00000  \n",
      "Moho de la hoja                                    0.841060   143.00000  \n",
      "Oídio                                              0.934132   433.00000  \n",
      "Podredumbre negra                                  0.901213   270.00000  \n",
      "Quemadura de la hoja                               0.978723   166.00000  \n",
      "Roya común                                         0.977528   179.00000  \n",
      "Roya del manzano y cedro                           0.931818    41.00000  \n",
      "Sano                                               0.947033  2263.00000  \n",
      "Sarna                                              0.761062    95.00000  \n",
      "Tizón de la hoja                                   0.981481   161.00000  \n",
      "Tizón foliar del norte                             0.847222   148.00000  \n",
      "Tizón tardío                                       0.880190   436.00000  \n",
      "Tizón temprano                                     0.814941   300.00000  \n",
      "Virus del mosaico                                  0.775194    56.00000  \n",
      "Virus del rizado amarillo de la hoja               0.970496   804.00000  \n",
      "Ácaros araña de dos manchas                        0.883721   251.00000  \n",
      "accuracy                                           0.919470     0.91947  \n",
      "macro avg                                          0.886453  8146.00000  \n",
      "weighted avg                                       0.921141  8146.00000  \n",
      "✅ Reporte de clasificación guardado como 'reporte_clasificacion.csv'\n"
     ]
    }
   ]
  },
  {
   "cell_type": "code",
   "source": [
    "df_report"
   ],
   "metadata": {
    "colab": {
     "base_uri": "https://localhost:8080/",
     "height": 802
    },
    "id": "2xWUCZRc2ixZ",
    "outputId": "4c6b76ac-3b0d-4bd2-b1e3-959ee2ed3f69"
   },
   "execution_count": 28,
   "outputs": [
    {
     "output_type": "execute_result",
     "data": {
      "text/plain": [
       "                                                   precision    recall  \\\n",
       "Esca                                                0.975124  0.946860   \n",
       "Huanglongbing (enverdecimiento de los cítricos)     0.978469  0.990315   \n",
       "Mancha bacteriana                                   0.884298  0.921279   \n",
       "Mancha diana                                        0.659574  0.881517   \n",
       "Mancha foliar por cercospora / mancha foliar gris   0.666667  0.831169   \n",
       "Mancha foliar por septoria                          0.827957  0.868421   \n",
       "Moho de la hoja                                     0.798742  0.888112   \n",
       "Oídio                                               0.970149  0.900693   \n",
       "Podredumbre negra                                   0.846906  0.962963   \n",
       "Quemadura de la hoja                                0.987730  0.969880   \n",
       "Roya común                                          0.983051  0.972067   \n",
       "Roya del manzano y cedro                            0.872340  1.000000   \n",
       "Sano                                                0.975187  0.920460   \n",
       "Sarna                                               0.656489  0.905263   \n",
       "Tizón de la hoja                                    0.975460  0.987578   \n",
       "Tizón foliar del norte                              0.871429  0.824324   \n",
       "Tizón tardío                                        0.911548  0.850917   \n",
       "Tizón temprano                                      0.830450  0.800000   \n",
       "Virus del mosaico                                   0.684932  0.892857   \n",
       "Virus del rizado amarillo de la hoja                0.979721  0.961443   \n",
       "Ácaros araña de dos manchas                         0.941441  0.832669   \n",
       "accuracy                                            0.919470  0.919470   \n",
       "macro avg                                           0.870365  0.909942   \n",
       "weighted avg                                        0.925921  0.919470   \n",
       "\n",
       "                                                   f1-score     support  \n",
       "Esca                                               0.960784   207.00000  \n",
       "Huanglongbing (enverdecimiento de los cítricos)    0.984356   826.00000  \n",
       "Mancha bacteriana                                  0.902410   813.00000  \n",
       "Mancha diana                                       0.754564   211.00000  \n",
       "Mancha foliar por cercospora / mancha foliar gris  0.739884    77.00000  \n",
       "Mancha foliar por septoria                         0.847706   266.00000  \n",
       "Moho de la hoja                                    0.841060   143.00000  \n",
       "Oídio                                              0.934132   433.00000  \n",
       "Podredumbre negra                                  0.901213   270.00000  \n",
       "Quemadura de la hoja                               0.978723   166.00000  \n",
       "Roya común                                         0.977528   179.00000  \n",
       "Roya del manzano y cedro                           0.931818    41.00000  \n",
       "Sano                                               0.947033  2263.00000  \n",
       "Sarna                                              0.761062    95.00000  \n",
       "Tizón de la hoja                                   0.981481   161.00000  \n",
       "Tizón foliar del norte                             0.847222   148.00000  \n",
       "Tizón tardío                                       0.880190   436.00000  \n",
       "Tizón temprano                                     0.814941   300.00000  \n",
       "Virus del mosaico                                  0.775194    56.00000  \n",
       "Virus del rizado amarillo de la hoja               0.970496   804.00000  \n",
       "Ácaros araña de dos manchas                        0.883721   251.00000  \n",
       "accuracy                                           0.919470     0.91947  \n",
       "macro avg                                          0.886453  8146.00000  \n",
       "weighted avg                                       0.921141  8146.00000  "
      ],
      "text/html": [
       "\n",
       "  <div id=\"df-d9c679fe-35d8-4309-b0e6-804228782014\" class=\"colab-df-container\">\n",
       "    <div>\n",
       "<style scoped>\n",
       "    .dataframe tbody tr th:only-of-type {\n",
       "        vertical-align: middle;\n",
       "    }\n",
       "\n",
       "    .dataframe tbody tr th {\n",
       "        vertical-align: top;\n",
       "    }\n",
       "\n",
       "    .dataframe thead th {\n",
       "        text-align: right;\n",
       "    }\n",
       "</style>\n",
       "<table border=\"1\" class=\"dataframe\">\n",
       "  <thead>\n",
       "    <tr style=\"text-align: right;\">\n",
       "      <th></th>\n",
       "      <th>precision</th>\n",
       "      <th>recall</th>\n",
       "      <th>f1-score</th>\n",
       "      <th>support</th>\n",
       "    </tr>\n",
       "  </thead>\n",
       "  <tbody>\n",
       "    <tr>\n",
       "      <th>Esca</th>\n",
       "      <td>0.975124</td>\n",
       "      <td>0.946860</td>\n",
       "      <td>0.960784</td>\n",
       "      <td>207.00000</td>\n",
       "    </tr>\n",
       "    <tr>\n",
       "      <th>Huanglongbing (enverdecimiento de los cítricos)</th>\n",
       "      <td>0.978469</td>\n",
       "      <td>0.990315</td>\n",
       "      <td>0.984356</td>\n",
       "      <td>826.00000</td>\n",
       "    </tr>\n",
       "    <tr>\n",
       "      <th>Mancha bacteriana</th>\n",
       "      <td>0.884298</td>\n",
       "      <td>0.921279</td>\n",
       "      <td>0.902410</td>\n",
       "      <td>813.00000</td>\n",
       "    </tr>\n",
       "    <tr>\n",
       "      <th>Mancha diana</th>\n",
       "      <td>0.659574</td>\n",
       "      <td>0.881517</td>\n",
       "      <td>0.754564</td>\n",
       "      <td>211.00000</td>\n",
       "    </tr>\n",
       "    <tr>\n",
       "      <th>Mancha foliar por cercospora / mancha foliar gris</th>\n",
       "      <td>0.666667</td>\n",
       "      <td>0.831169</td>\n",
       "      <td>0.739884</td>\n",
       "      <td>77.00000</td>\n",
       "    </tr>\n",
       "    <tr>\n",
       "      <th>Mancha foliar por septoria</th>\n",
       "      <td>0.827957</td>\n",
       "      <td>0.868421</td>\n",
       "      <td>0.847706</td>\n",
       "      <td>266.00000</td>\n",
       "    </tr>\n",
       "    <tr>\n",
       "      <th>Moho de la hoja</th>\n",
       "      <td>0.798742</td>\n",
       "      <td>0.888112</td>\n",
       "      <td>0.841060</td>\n",
       "      <td>143.00000</td>\n",
       "    </tr>\n",
       "    <tr>\n",
       "      <th>Oídio</th>\n",
       "      <td>0.970149</td>\n",
       "      <td>0.900693</td>\n",
       "      <td>0.934132</td>\n",
       "      <td>433.00000</td>\n",
       "    </tr>\n",
       "    <tr>\n",
       "      <th>Podredumbre negra</th>\n",
       "      <td>0.846906</td>\n",
       "      <td>0.962963</td>\n",
       "      <td>0.901213</td>\n",
       "      <td>270.00000</td>\n",
       "    </tr>\n",
       "    <tr>\n",
       "      <th>Quemadura de la hoja</th>\n",
       "      <td>0.987730</td>\n",
       "      <td>0.969880</td>\n",
       "      <td>0.978723</td>\n",
       "      <td>166.00000</td>\n",
       "    </tr>\n",
       "    <tr>\n",
       "      <th>Roya común</th>\n",
       "      <td>0.983051</td>\n",
       "      <td>0.972067</td>\n",
       "      <td>0.977528</td>\n",
       "      <td>179.00000</td>\n",
       "    </tr>\n",
       "    <tr>\n",
       "      <th>Roya del manzano y cedro</th>\n",
       "      <td>0.872340</td>\n",
       "      <td>1.000000</td>\n",
       "      <td>0.931818</td>\n",
       "      <td>41.00000</td>\n",
       "    </tr>\n",
       "    <tr>\n",
       "      <th>Sano</th>\n",
       "      <td>0.975187</td>\n",
       "      <td>0.920460</td>\n",
       "      <td>0.947033</td>\n",
       "      <td>2263.00000</td>\n",
       "    </tr>\n",
       "    <tr>\n",
       "      <th>Sarna</th>\n",
       "      <td>0.656489</td>\n",
       "      <td>0.905263</td>\n",
       "      <td>0.761062</td>\n",
       "      <td>95.00000</td>\n",
       "    </tr>\n",
       "    <tr>\n",
       "      <th>Tizón de la hoja</th>\n",
       "      <td>0.975460</td>\n",
       "      <td>0.987578</td>\n",
       "      <td>0.981481</td>\n",
       "      <td>161.00000</td>\n",
       "    </tr>\n",
       "    <tr>\n",
       "      <th>Tizón foliar del norte</th>\n",
       "      <td>0.871429</td>\n",
       "      <td>0.824324</td>\n",
       "      <td>0.847222</td>\n",
       "      <td>148.00000</td>\n",
       "    </tr>\n",
       "    <tr>\n",
       "      <th>Tizón tardío</th>\n",
       "      <td>0.911548</td>\n",
       "      <td>0.850917</td>\n",
       "      <td>0.880190</td>\n",
       "      <td>436.00000</td>\n",
       "    </tr>\n",
       "    <tr>\n",
       "      <th>Tizón temprano</th>\n",
       "      <td>0.830450</td>\n",
       "      <td>0.800000</td>\n",
       "      <td>0.814941</td>\n",
       "      <td>300.00000</td>\n",
       "    </tr>\n",
       "    <tr>\n",
       "      <th>Virus del mosaico</th>\n",
       "      <td>0.684932</td>\n",
       "      <td>0.892857</td>\n",
       "      <td>0.775194</td>\n",
       "      <td>56.00000</td>\n",
       "    </tr>\n",
       "    <tr>\n",
       "      <th>Virus del rizado amarillo de la hoja</th>\n",
       "      <td>0.979721</td>\n",
       "      <td>0.961443</td>\n",
       "      <td>0.970496</td>\n",
       "      <td>804.00000</td>\n",
       "    </tr>\n",
       "    <tr>\n",
       "      <th>Ácaros araña de dos manchas</th>\n",
       "      <td>0.941441</td>\n",
       "      <td>0.832669</td>\n",
       "      <td>0.883721</td>\n",
       "      <td>251.00000</td>\n",
       "    </tr>\n",
       "    <tr>\n",
       "      <th>accuracy</th>\n",
       "      <td>0.919470</td>\n",
       "      <td>0.919470</td>\n",
       "      <td>0.919470</td>\n",
       "      <td>0.91947</td>\n",
       "    </tr>\n",
       "    <tr>\n",
       "      <th>macro avg</th>\n",
       "      <td>0.870365</td>\n",
       "      <td>0.909942</td>\n",
       "      <td>0.886453</td>\n",
       "      <td>8146.00000</td>\n",
       "    </tr>\n",
       "    <tr>\n",
       "      <th>weighted avg</th>\n",
       "      <td>0.925921</td>\n",
       "      <td>0.919470</td>\n",
       "      <td>0.921141</td>\n",
       "      <td>8146.00000</td>\n",
       "    </tr>\n",
       "  </tbody>\n",
       "</table>\n",
       "</div>\n",
       "    <div class=\"colab-df-buttons\">\n",
       "\n",
       "  <div class=\"colab-df-container\">\n",
       "    <button class=\"colab-df-convert\" onclick=\"convertToInteractive('df-d9c679fe-35d8-4309-b0e6-804228782014')\"\n",
       "            title=\"Convert this dataframe to an interactive table.\"\n",
       "            style=\"display:none;\">\n",
       "\n",
       "  <svg xmlns=\"http://www.w3.org/2000/svg\" height=\"24px\" viewBox=\"0 -960 960 960\">\n",
       "    <path d=\"M120-120v-720h720v720H120Zm60-500h600v-160H180v160Zm220 220h160v-160H400v160Zm0 220h160v-160H400v160ZM180-400h160v-160H180v160Zm440 0h160v-160H620v160ZM180-180h160v-160H180v160Zm440 0h160v-160H620v160Z\"/>\n",
       "  </svg>\n",
       "    </button>\n",
       "\n",
       "  <style>\n",
       "    .colab-df-container {\n",
       "      display:flex;\n",
       "      gap: 12px;\n",
       "    }\n",
       "\n",
       "    .colab-df-convert {\n",
       "      background-color: #E8F0FE;\n",
       "      border: none;\n",
       "      border-radius: 50%;\n",
       "      cursor: pointer;\n",
       "      display: none;\n",
       "      fill: #1967D2;\n",
       "      height: 32px;\n",
       "      padding: 0 0 0 0;\n",
       "      width: 32px;\n",
       "    }\n",
       "\n",
       "    .colab-df-convert:hover {\n",
       "      background-color: #E2EBFA;\n",
       "      box-shadow: 0px 1px 2px rgba(60, 64, 67, 0.3), 0px 1px 3px 1px rgba(60, 64, 67, 0.15);\n",
       "      fill: #174EA6;\n",
       "    }\n",
       "\n",
       "    .colab-df-buttons div {\n",
       "      margin-bottom: 4px;\n",
       "    }\n",
       "\n",
       "    [theme=dark] .colab-df-convert {\n",
       "      background-color: #3B4455;\n",
       "      fill: #D2E3FC;\n",
       "    }\n",
       "\n",
       "    [theme=dark] .colab-df-convert:hover {\n",
       "      background-color: #434B5C;\n",
       "      box-shadow: 0px 1px 3px 1px rgba(0, 0, 0, 0.15);\n",
       "      filter: drop-shadow(0px 1px 2px rgba(0, 0, 0, 0.3));\n",
       "      fill: #FFFFFF;\n",
       "    }\n",
       "  </style>\n",
       "\n",
       "    <script>\n",
       "      const buttonEl =\n",
       "        document.querySelector('#df-d9c679fe-35d8-4309-b0e6-804228782014 button.colab-df-convert');\n",
       "      buttonEl.style.display =\n",
       "        google.colab.kernel.accessAllowed ? 'block' : 'none';\n",
       "\n",
       "      async function convertToInteractive(key) {\n",
       "        const element = document.querySelector('#df-d9c679fe-35d8-4309-b0e6-804228782014');\n",
       "        const dataTable =\n",
       "          await google.colab.kernel.invokeFunction('convertToInteractive',\n",
       "                                                    [key], {});\n",
       "        if (!dataTable) return;\n",
       "\n",
       "        const docLinkHtml = 'Like what you see? Visit the ' +\n",
       "          '<a target=\"_blank\" href=https://colab.research.google.com/notebooks/data_table.ipynb>data table notebook</a>'\n",
       "          + ' to learn more about interactive tables.';\n",
       "        element.innerHTML = '';\n",
       "        dataTable['output_type'] = 'display_data';\n",
       "        await google.colab.output.renderOutput(dataTable, element);\n",
       "        const docLink = document.createElement('div');\n",
       "        docLink.innerHTML = docLinkHtml;\n",
       "        element.appendChild(docLink);\n",
       "      }\n",
       "    </script>\n",
       "  </div>\n",
       "\n",
       "\n",
       "    <div id=\"df-7d4f8e9e-463b-4dad-8ceb-638853a9cc1d\">\n",
       "      <button class=\"colab-df-quickchart\" onclick=\"quickchart('df-7d4f8e9e-463b-4dad-8ceb-638853a9cc1d')\"\n",
       "                title=\"Suggest charts\"\n",
       "                style=\"display:none;\">\n",
       "\n",
       "<svg xmlns=\"http://www.w3.org/2000/svg\" height=\"24px\"viewBox=\"0 0 24 24\"\n",
       "     width=\"24px\">\n",
       "    <g>\n",
       "        <path d=\"M19 3H5c-1.1 0-2 .9-2 2v14c0 1.1.9 2 2 2h14c1.1 0 2-.9 2-2V5c0-1.1-.9-2-2-2zM9 17H7v-7h2v7zm4 0h-2V7h2v10zm4 0h-2v-4h2v4z\"/>\n",
       "    </g>\n",
       "</svg>\n",
       "      </button>\n",
       "\n",
       "<style>\n",
       "  .colab-df-quickchart {\n",
       "      --bg-color: #E8F0FE;\n",
       "      --fill-color: #1967D2;\n",
       "      --hover-bg-color: #E2EBFA;\n",
       "      --hover-fill-color: #174EA6;\n",
       "      --disabled-fill-color: #AAA;\n",
       "      --disabled-bg-color: #DDD;\n",
       "  }\n",
       "\n",
       "  [theme=dark] .colab-df-quickchart {\n",
       "      --bg-color: #3B4455;\n",
       "      --fill-color: #D2E3FC;\n",
       "      --hover-bg-color: #434B5C;\n",
       "      --hover-fill-color: #FFFFFF;\n",
       "      --disabled-bg-color: #3B4455;\n",
       "      --disabled-fill-color: #666;\n",
       "  }\n",
       "\n",
       "  .colab-df-quickchart {\n",
       "    background-color: var(--bg-color);\n",
       "    border: none;\n",
       "    border-radius: 50%;\n",
       "    cursor: pointer;\n",
       "    display: none;\n",
       "    fill: var(--fill-color);\n",
       "    height: 32px;\n",
       "    padding: 0;\n",
       "    width: 32px;\n",
       "  }\n",
       "\n",
       "  .colab-df-quickchart:hover {\n",
       "    background-color: var(--hover-bg-color);\n",
       "    box-shadow: 0 1px 2px rgba(60, 64, 67, 0.3), 0 1px 3px 1px rgba(60, 64, 67, 0.15);\n",
       "    fill: var(--button-hover-fill-color);\n",
       "  }\n",
       "\n",
       "  .colab-df-quickchart-complete:disabled,\n",
       "  .colab-df-quickchart-complete:disabled:hover {\n",
       "    background-color: var(--disabled-bg-color);\n",
       "    fill: var(--disabled-fill-color);\n",
       "    box-shadow: none;\n",
       "  }\n",
       "\n",
       "  .colab-df-spinner {\n",
       "    border: 2px solid var(--fill-color);\n",
       "    border-color: transparent;\n",
       "    border-bottom-color: var(--fill-color);\n",
       "    animation:\n",
       "      spin 1s steps(1) infinite;\n",
       "  }\n",
       "\n",
       "  @keyframes spin {\n",
       "    0% {\n",
       "      border-color: transparent;\n",
       "      border-bottom-color: var(--fill-color);\n",
       "      border-left-color: var(--fill-color);\n",
       "    }\n",
       "    20% {\n",
       "      border-color: transparent;\n",
       "      border-left-color: var(--fill-color);\n",
       "      border-top-color: var(--fill-color);\n",
       "    }\n",
       "    30% {\n",
       "      border-color: transparent;\n",
       "      border-left-color: var(--fill-color);\n",
       "      border-top-color: var(--fill-color);\n",
       "      border-right-color: var(--fill-color);\n",
       "    }\n",
       "    40% {\n",
       "      border-color: transparent;\n",
       "      border-right-color: var(--fill-color);\n",
       "      border-top-color: var(--fill-color);\n",
       "    }\n",
       "    60% {\n",
       "      border-color: transparent;\n",
       "      border-right-color: var(--fill-color);\n",
       "    }\n",
       "    80% {\n",
       "      border-color: transparent;\n",
       "      border-right-color: var(--fill-color);\n",
       "      border-bottom-color: var(--fill-color);\n",
       "    }\n",
       "    90% {\n",
       "      border-color: transparent;\n",
       "      border-bottom-color: var(--fill-color);\n",
       "    }\n",
       "  }\n",
       "</style>\n",
       "\n",
       "      <script>\n",
       "        async function quickchart(key) {\n",
       "          const quickchartButtonEl =\n",
       "            document.querySelector('#' + key + ' button');\n",
       "          quickchartButtonEl.disabled = true;  // To prevent multiple clicks.\n",
       "          quickchartButtonEl.classList.add('colab-df-spinner');\n",
       "          try {\n",
       "            const charts = await google.colab.kernel.invokeFunction(\n",
       "                'suggestCharts', [key], {});\n",
       "          } catch (error) {\n",
       "            console.error('Error during call to suggestCharts:', error);\n",
       "          }\n",
       "          quickchartButtonEl.classList.remove('colab-df-spinner');\n",
       "          quickchartButtonEl.classList.add('colab-df-quickchart-complete');\n",
       "        }\n",
       "        (() => {\n",
       "          let quickchartButtonEl =\n",
       "            document.querySelector('#df-7d4f8e9e-463b-4dad-8ceb-638853a9cc1d button');\n",
       "          quickchartButtonEl.style.display =\n",
       "            google.colab.kernel.accessAllowed ? 'block' : 'none';\n",
       "        })();\n",
       "      </script>\n",
       "    </div>\n",
       "\n",
       "  <div id=\"id_a1c71c37-8512-4645-ae9e-5fd8b4c960e2\">\n",
       "    <style>\n",
       "      .colab-df-generate {\n",
       "        background-color: #E8F0FE;\n",
       "        border: none;\n",
       "        border-radius: 50%;\n",
       "        cursor: pointer;\n",
       "        display: none;\n",
       "        fill: #1967D2;\n",
       "        height: 32px;\n",
       "        padding: 0 0 0 0;\n",
       "        width: 32px;\n",
       "      }\n",
       "\n",
       "      .colab-df-generate:hover {\n",
       "        background-color: #E2EBFA;\n",
       "        box-shadow: 0px 1px 2px rgba(60, 64, 67, 0.3), 0px 1px 3px 1px rgba(60, 64, 67, 0.15);\n",
       "        fill: #174EA6;\n",
       "      }\n",
       "\n",
       "      [theme=dark] .colab-df-generate {\n",
       "        background-color: #3B4455;\n",
       "        fill: #D2E3FC;\n",
       "      }\n",
       "\n",
       "      [theme=dark] .colab-df-generate:hover {\n",
       "        background-color: #434B5C;\n",
       "        box-shadow: 0px 1px 3px 1px rgba(0, 0, 0, 0.15);\n",
       "        filter: drop-shadow(0px 1px 2px rgba(0, 0, 0, 0.3));\n",
       "        fill: #FFFFFF;\n",
       "      }\n",
       "    </style>\n",
       "    <button class=\"colab-df-generate\" onclick=\"generateWithVariable('df_report')\"\n",
       "            title=\"Generate code using this dataframe.\"\n",
       "            style=\"display:none;\">\n",
       "\n",
       "  <svg xmlns=\"http://www.w3.org/2000/svg\" height=\"24px\"viewBox=\"0 0 24 24\"\n",
       "       width=\"24px\">\n",
       "    <path d=\"M7,19H8.4L18.45,9,17,7.55,7,17.6ZM5,21V16.75L18.45,3.32a2,2,0,0,1,2.83,0l1.4,1.43a1.91,1.91,0,0,1,.58,1.4,1.91,1.91,0,0,1-.58,1.4L9.25,21ZM18.45,9,17,7.55Zm-12,3A5.31,5.31,0,0,0,4.9,8.1,5.31,5.31,0,0,0,1,6.5,5.31,5.31,0,0,0,4.9,4.9,5.31,5.31,0,0,0,6.5,1,5.31,5.31,0,0,0,8.1,4.9,5.31,5.31,0,0,0,12,6.5,5.46,5.46,0,0,0,6.5,12Z\"/>\n",
       "  </svg>\n",
       "    </button>\n",
       "    <script>\n",
       "      (() => {\n",
       "      const buttonEl =\n",
       "        document.querySelector('#id_a1c71c37-8512-4645-ae9e-5fd8b4c960e2 button.colab-df-generate');\n",
       "      buttonEl.style.display =\n",
       "        google.colab.kernel.accessAllowed ? 'block' : 'none';\n",
       "\n",
       "      buttonEl.onclick = () => {\n",
       "        google.colab.notebook.generateWithVariable('df_report');\n",
       "      }\n",
       "      })();\n",
       "    </script>\n",
       "  </div>\n",
       "\n",
       "    </div>\n",
       "  </div>\n"
      ],
      "application/vnd.google.colaboratory.intrinsic+json": {
       "type": "dataframe",
       "variable_name": "df_report",
       "summary": "{\n  \"name\": \"df_report\",\n  \"rows\": 24,\n  \"fields\": [\n    {\n      \"column\": \"precision\",\n      \"properties\": {\n        \"dtype\": \"number\",\n        \"std\": 0.11037418880886435,\n        \"min\": 0.6564885496183206,\n        \"max\": 0.9877300613496932,\n        \"num_unique_values\": 24,\n        \"samples\": [\n          0.8469055374592834,\n          0.9115479115479116,\n          0.9751243781094527\n        ],\n        \"semantic_type\": \"\",\n        \"description\": \"\"\n      }\n    },\n    {\n      \"column\": \"recall\",\n      \"properties\": {\n        \"dtype\": \"number\",\n        \"std\": 0.05663279300278038,\n        \"min\": 0.8,\n        \"max\": 1.0,\n        \"num_unique_values\": 23,\n        \"samples\": [\n          0.8243243243243243,\n          0.9698795180722891,\n          0.9468599033816425\n        ],\n        \"semantic_type\": \"\",\n        \"description\": \"\"\n      }\n    },\n    {\n      \"column\": \"f1-score\",\n      \"properties\": {\n        \"dtype\": \"number\",\n        \"std\": 0.07684784780911905,\n        \"min\": 0.7398843930635838,\n        \"max\": 0.9843561973525873,\n        \"num_unique_values\": 24,\n        \"samples\": [\n          0.901213171577123,\n          0.8801897983392646,\n          0.9607843137254902\n        ],\n        \"semantic_type\": \"\",\n        \"description\": \"\"\n      }\n    },\n    {\n      \"column\": \"support\",\n      \"properties\": {\n        \"dtype\": \"number\",\n        \"std\": 2244.3053617912938,\n        \"min\": 0.919469678369752,\n        \"max\": 8146.0,\n        \"num_unique_values\": 23,\n        \"samples\": [\n          148.0,\n          166.0,\n          207.0\n        ],\n        \"semantic_type\": \"\",\n        \"description\": \"\"\n      }\n    }\n  ]\n}"
      }
     },
     "metadata": {},
     "execution_count": 28
    }
   ]
  },
  {
   "cell_type": "code",
   "source": [
    "import numpy as np\n",
    "from sklearn.metrics import precision_score, recall_score, f1_score\n",
    "\n",
    "# Índice de la clase 'Sano'\n",
    "sano_idx = None\n",
    "for k, v in label_map.items():\n",
    "    if v.lower() == 'sano':\n",
    "        sano_idx = k\n",
    "        break\n",
    "if sano_idx is None:\n",
    "    raise ValueError(\"No se encontró la clase 'Sano' en label_map\")\n",
    "\n",
    "all_labels_np = np.array(all_labels)\n",
    "all_preds_np = np.array(all_preds)\n",
    "\n",
    "# Etiquetas binarias: 1 = enfermedad, 0 = sano\n",
    "labels_bin = (all_labels_np != sano_idx).astype(int)\n",
    "preds_bin = (all_preds_np != sano_idx).astype(int)\n",
    "\n",
    "# Métricas para enfermedades (clase positiva = enfermedad)\n",
    "precision_enf = precision_score(labels_bin, preds_bin)\n",
    "recall_enf = recall_score(labels_bin, preds_bin)\n",
    "f1_enf = f1_score(labels_bin, preds_bin)\n",
    "\n",
    "# Métricas para sano (clase positiva = sano)\n",
    "labels_bin_sano = (all_labels_np == sano_idx).astype(int)\n",
    "preds_bin_sano = (all_preds_np == sano_idx).astype(int)\n",
    "\n",
    "precision_sano = precision_score(labels_bin_sano, preds_bin_sano)\n",
    "recall_sano = recall_score(labels_bin_sano, preds_bin_sano)\n",
    "f1_sano = f1_score(labels_bin_sano, preds_bin_sano)\n",
    "\n",
    "print(\"Métricas para enfermedades (todas combinadas vs sano):\")\n",
    "print(f\"Precision: {precision_enf:.4f}\")\n",
    "print(f\"Recall:    {recall_enf:.4f}\")\n",
    "print(f\"F1-score:  {f1_enf:.4f}\\n\")\n",
    "\n",
    "print(\"Métricas para sano (vs todas las enfermedades):\")\n",
    "print(f\"Precision: {precision_sano:.4f}\")\n",
    "print(f\"Recall:    {recall_sano:.4f}\")\n",
    "print(f\"F1-score:  {f1_sano:.4f}\")\n"
   ],
   "metadata": {
    "colab": {
     "base_uri": "https://localhost:8080/"
    },
    "id": "0ru8GlvN-MJ3",
    "outputId": "e719df08-ddea-40f6-96df-e3aff4153433"
   },
   "execution_count": 31,
   "outputs": [
    {
     "output_type": "stream",
     "name": "stdout",
     "text": [
      "Métricas para enfermedades (todas combinadas vs sano):\n",
      "Precision: 0.9700\n",
      "Recall:    0.9910\n",
      "F1-score:  0.9804\n",
      "\n",
      "Métricas para sano (vs todas las enfermedades):\n",
      "Precision: 0.9752\n",
      "Recall:    0.9205\n",
      "F1-score:  0.9470\n"
     ]
    }
   ]
  },
  {
   "metadata": {},
   "cell_type": "markdown",
   "source": [
    "Observamos una mejora en el recall general de las especies enfermas, reduciendo la cantidad de casos donde se clasifican como sanas o se clasifican con una enfermedad incorrecta. Esto es especialmente importante en aplicaciones agrícolas donde detectar enfermedades a tiempo puede prevenir pérdidas significativas.\n",
    "\n",
    "A costa de ello, hemos empeorado el recall de la clase 'Sano'. Esto puede devenir en tratamientos innecesarios, los cuales pueden ser costosos.\n",
    "\n",
    "En el trade-off, el resultado es positivo, dado que vamos a priorizar no equivocarnos al clasificar una planta enferma como sana, pero vamos a intentar mejorar el modelo en general en la próxima iteración."
   ]
  }
 ]
}
