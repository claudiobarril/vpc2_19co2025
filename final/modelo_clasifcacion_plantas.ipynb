{
 "cells": [
  {
   "cell_type": "code",
   "metadata": {
    "colab": {
     "base_uri": "https://localhost:8080/"
    },
    "collapsed": true,
    "id": "V26TaBJEPA5F",
    "outputId": "645d4298-2fc9-4d9e-c5da-70bd633088b1"
   },
   "source": [
    "from torch.optim import AdamW\n",
    "from torch.optim.lr_scheduler import ReduceLROnPlateau\n",
    "from torchmetrics.classification import MulticlassAccuracy\n",
    "import torch\n",
    "import torch.nn as nn\n",
    "import torch.nn.functional as F\n",
    "from torch.utils.tensorboard import SummaryWriter\n",
    "from torchvision import transforms, models\n",
    "from sklearn.model_selection import train_test_split\n",
    "from sklearn.metrics import confusion_matrix\n",
    "from sklearn.model_selection import StratifiedShuffleSplit\n",
    "import numpy as np\n",
    "import src.utils as utils\n",
    "import src.dataset as dataset\n",
    "import src.trainer as trainer\n",
    "import src.metrics as metrics\n",
    "import cv2 as cv\n",
    "from sklearn.metrics import classification_report\n",
    "\n",
    "!pip install torchmetrics"
   ],
   "outputs": [],
   "execution_count": null
  },
  {
   "metadata": {},
   "cell_type": "markdown",
   "source": "# Modelo Final"
  },
  {
   "metadata": {},
   "cell_type": "markdown",
   "source": "A partir del modelo baseline y junto a los análisis posteriores de desbalanceo de clases y similitud de clases haremos uso de diversas técnicas para intentar mejorar los resultados obtenidos previamente"
  },
  {
   "metadata": {},
   "cell_type": "markdown",
   "source": "## Dataset"
  },
  {
   "cell_type": "code",
   "metadata": {
    "colab": {
     "base_uri": "https://localhost:8080/"
    },
    "collapsed": true,
    "id": "wj-f-cNWPFMi",
    "outputId": "7aa9b70b-a4cf-4b34-ee0b-ea4952560391"
   },
   "source": "utils.download_plantvillage_dataset_in_collab()",
   "outputs": [],
   "execution_count": null
  },
  {
   "cell_type": "code",
   "execution_count": 6,
   "metadata": {
    "colab": {
     "base_uri": "https://localhost:8080/",
     "height": 424
    },
    "id": "oHGkci-hZtyw",
    "outputId": "af82c8fe-9206-4d74-b1b7-d8001fc0e0a9"
   },
   "outputs": [
    {
     "data": {
      "application/vnd.google.colaboratory.intrinsic+json": {
       "summary": "{\n  \"name\": \"df\",\n  \"rows\": 54305,\n  \"fields\": [\n    {\n      \"column\": \"Format\",\n      \"properties\": {\n        \"dtype\": \"category\",\n        \"num_unique_values\": 1,\n        \"samples\": [\n          \"color\"\n        ],\n        \"semantic_type\": \"\",\n        \"description\": \"\"\n      }\n    },\n    {\n      \"column\": \"Species\",\n      \"properties\": {\n        \"dtype\": \"category\",\n        \"num_unique_values\": 14,\n        \"samples\": [\n          \"Apple\"\n        ],\n        \"semantic_type\": \"\",\n        \"description\": \"\"\n      }\n    },\n    {\n      \"column\": \"Healthy\",\n      \"properties\": {\n        \"dtype\": \"boolean\",\n        \"num_unique_values\": 2,\n        \"samples\": [\n          true\n        ],\n        \"semantic_type\": \"\",\n        \"description\": \"\"\n      }\n    },\n    {\n      \"column\": \"Disease\",\n      \"properties\": {\n        \"dtype\": \"category\",\n        \"num_unique_values\": 20,\n        \"samples\": [\n          \"Late_blight\"\n        ],\n        \"semantic_type\": \"\",\n        \"description\": \"\"\n      }\n    },\n    {\n      \"column\": \"FileName\",\n      \"properties\": {\n        \"dtype\": \"string\",\n        \"num_unique_values\": 54305,\n        \"samples\": [\n          \"cf279c14-6b87-4f68-b5ea-17ffe746d1d3___RS_HL 5192.JPG\"\n        ],\n        \"semantic_type\": \"\",\n        \"description\": \"\"\n      }\n    }\n  ]\n}",
       "type": "dataframe",
       "variable_name": "df"
      },
      "text/html": [
       "\n",
       "  <div id=\"df-0a513644-ad77-4c42-b5d8-067d38bf2e63\" class=\"colab-df-container\">\n",
       "    <div>\n",
       "<style scoped>\n",
       "    .dataframe tbody tr th:only-of-type {\n",
       "        vertical-align: middle;\n",
       "    }\n",
       "\n",
       "    .dataframe tbody tr th {\n",
       "        vertical-align: top;\n",
       "    }\n",
       "\n",
       "    .dataframe thead th {\n",
       "        text-align: right;\n",
       "    }\n",
       "</style>\n",
       "<table border=\"1\" class=\"dataframe\">\n",
       "  <thead>\n",
       "    <tr style=\"text-align: right;\">\n",
       "      <th></th>\n",
       "      <th>Format</th>\n",
       "      <th>Species</th>\n",
       "      <th>Healthy</th>\n",
       "      <th>Disease</th>\n",
       "      <th>FileName</th>\n",
       "    </tr>\n",
       "  </thead>\n",
       "  <tbody>\n",
       "    <tr>\n",
       "      <th>0</th>\n",
       "      <td>color</td>\n",
       "      <td>Tomato</td>\n",
       "      <td>False</td>\n",
       "      <td>Late_blight</td>\n",
       "      <td>781e93a9-2059-42de-8075-658033a6abf7___RS_Late...</td>\n",
       "    </tr>\n",
       "    <tr>\n",
       "      <th>1</th>\n",
       "      <td>color</td>\n",
       "      <td>Tomato</td>\n",
       "      <td>False</td>\n",
       "      <td>Late_blight</td>\n",
       "      <td>283ff0be-6e5e-4b4e-bf21-639780b77ffc___GHLB2 L...</td>\n",
       "    </tr>\n",
       "    <tr>\n",
       "      <th>2</th>\n",
       "      <td>color</td>\n",
       "      <td>Tomato</td>\n",
       "      <td>False</td>\n",
       "      <td>Late_blight</td>\n",
       "      <td>0db85707-41f9-42df-ba3b-842d14f00a68___GHLB2 L...</td>\n",
       "    </tr>\n",
       "    <tr>\n",
       "      <th>3</th>\n",
       "      <td>color</td>\n",
       "      <td>Tomato</td>\n",
       "      <td>False</td>\n",
       "      <td>Late_blight</td>\n",
       "      <td>078a999d-6e6f-427e-a1e6-80b4d2df2bae___GHLB2 L...</td>\n",
       "    </tr>\n",
       "    <tr>\n",
       "      <th>4</th>\n",
       "      <td>color</td>\n",
       "      <td>Tomato</td>\n",
       "      <td>False</td>\n",
       "      <td>Late_blight</td>\n",
       "      <td>3dcee9ed-43bb-45a9-8cff-641b3dd62179___RS_Late...</td>\n",
       "    </tr>\n",
       "    <tr>\n",
       "      <th>...</th>\n",
       "      <td>...</td>\n",
       "      <td>...</td>\n",
       "      <td>...</td>\n",
       "      <td>...</td>\n",
       "      <td>...</td>\n",
       "    </tr>\n",
       "    <tr>\n",
       "      <th>54300</th>\n",
       "      <td>color</td>\n",
       "      <td>Corn_(maize)</td>\n",
       "      <td>True</td>\n",
       "      <td>None</td>\n",
       "      <td>8cdec02e-6273-452f-8681-1319a74d3698___R.S_HL ...</td>\n",
       "    </tr>\n",
       "    <tr>\n",
       "      <th>54301</th>\n",
       "      <td>color</td>\n",
       "      <td>Corn_(maize)</td>\n",
       "      <td>True</td>\n",
       "      <td>None</td>\n",
       "      <td>c9c333a8-30ed-4163-adf1-c65379dac7ac___R.S_HL ...</td>\n",
       "    </tr>\n",
       "    <tr>\n",
       "      <th>54302</th>\n",
       "      <td>color</td>\n",
       "      <td>Corn_(maize)</td>\n",
       "      <td>True</td>\n",
       "      <td>None</td>\n",
       "      <td>85581bfb-0508-4cea-a76c-b929fea867a1___R.S_HL ...</td>\n",
       "    </tr>\n",
       "    <tr>\n",
       "      <th>54303</th>\n",
       "      <td>color</td>\n",
       "      <td>Corn_(maize)</td>\n",
       "      <td>True</td>\n",
       "      <td>None</td>\n",
       "      <td>0b703646-9307-401b-bd31-ace32353d467___R.S_HL ...</td>\n",
       "    </tr>\n",
       "    <tr>\n",
       "      <th>54304</th>\n",
       "      <td>color</td>\n",
       "      <td>Corn_(maize)</td>\n",
       "      <td>True</td>\n",
       "      <td>None</td>\n",
       "      <td>af57ac04-46ad-4655-81f3-4fc4a01d1c1a___R.S_HL ...</td>\n",
       "    </tr>\n",
       "  </tbody>\n",
       "</table>\n",
       "<p>54305 rows × 5 columns</p>\n",
       "</div>\n",
       "    <div class=\"colab-df-buttons\">\n",
       "\n",
       "  <div class=\"colab-df-container\">\n",
       "    <button class=\"colab-df-convert\" onclick=\"convertToInteractive('df-0a513644-ad77-4c42-b5d8-067d38bf2e63')\"\n",
       "            title=\"Convert this dataframe to an interactive table.\"\n",
       "            style=\"display:none;\">\n",
       "\n",
       "  <svg xmlns=\"http://www.w3.org/2000/svg\" height=\"24px\" viewBox=\"0 -960 960 960\">\n",
       "    <path d=\"M120-120v-720h720v720H120Zm60-500h600v-160H180v160Zm220 220h160v-160H400v160Zm0 220h160v-160H400v160ZM180-400h160v-160H180v160Zm440 0h160v-160H620v160ZM180-180h160v-160H180v160Zm440 0h160v-160H620v160Z\"/>\n",
       "  </svg>\n",
       "    </button>\n",
       "\n",
       "  <style>\n",
       "    .colab-df-container {\n",
       "      display:flex;\n",
       "      gap: 12px;\n",
       "    }\n",
       "\n",
       "    .colab-df-convert {\n",
       "      background-color: #E8F0FE;\n",
       "      border: none;\n",
       "      border-radius: 50%;\n",
       "      cursor: pointer;\n",
       "      display: none;\n",
       "      fill: #1967D2;\n",
       "      height: 32px;\n",
       "      padding: 0 0 0 0;\n",
       "      width: 32px;\n",
       "    }\n",
       "\n",
       "    .colab-df-convert:hover {\n",
       "      background-color: #E2EBFA;\n",
       "      box-shadow: 0px 1px 2px rgba(60, 64, 67, 0.3), 0px 1px 3px 1px rgba(60, 64, 67, 0.15);\n",
       "      fill: #174EA6;\n",
       "    }\n",
       "\n",
       "    .colab-df-buttons div {\n",
       "      margin-bottom: 4px;\n",
       "    }\n",
       "\n",
       "    [theme=dark] .colab-df-convert {\n",
       "      background-color: #3B4455;\n",
       "      fill: #D2E3FC;\n",
       "    }\n",
       "\n",
       "    [theme=dark] .colab-df-convert:hover {\n",
       "      background-color: #434B5C;\n",
       "      box-shadow: 0px 1px 3px 1px rgba(0, 0, 0, 0.15);\n",
       "      filter: drop-shadow(0px 1px 2px rgba(0, 0, 0, 0.3));\n",
       "      fill: #FFFFFF;\n",
       "    }\n",
       "  </style>\n",
       "\n",
       "    <script>\n",
       "      const buttonEl =\n",
       "        document.querySelector('#df-0a513644-ad77-4c42-b5d8-067d38bf2e63 button.colab-df-convert');\n",
       "      buttonEl.style.display =\n",
       "        google.colab.kernel.accessAllowed ? 'block' : 'none';\n",
       "\n",
       "      async function convertToInteractive(key) {\n",
       "        const element = document.querySelector('#df-0a513644-ad77-4c42-b5d8-067d38bf2e63');\n",
       "        const dataTable =\n",
       "          await google.colab.kernel.invokeFunction('convertToInteractive',\n",
       "                                                    [key], {});\n",
       "        if (!dataTable) return;\n",
       "\n",
       "        const docLinkHtml = 'Like what you see? Visit the ' +\n",
       "          '<a target=\"_blank\" href=https://colab.research.google.com/notebooks/data_table.ipynb>data table notebook</a>'\n",
       "          + ' to learn more about interactive tables.';\n",
       "        element.innerHTML = '';\n",
       "        dataTable['output_type'] = 'display_data';\n",
       "        await google.colab.output.renderOutput(dataTable, element);\n",
       "        const docLink = document.createElement('div');\n",
       "        docLink.innerHTML = docLinkHtml;\n",
       "        element.appendChild(docLink);\n",
       "      }\n",
       "    </script>\n",
       "  </div>\n",
       "\n",
       "\n",
       "    <div id=\"df-3888c29f-8a0d-4ae7-9508-57c6c07f00fc\">\n",
       "      <button class=\"colab-df-quickchart\" onclick=\"quickchart('df-3888c29f-8a0d-4ae7-9508-57c6c07f00fc')\"\n",
       "                title=\"Suggest charts\"\n",
       "                style=\"display:none;\">\n",
       "\n",
       "<svg xmlns=\"http://www.w3.org/2000/svg\" height=\"24px\"viewBox=\"0 0 24 24\"\n",
       "     width=\"24px\">\n",
       "    <g>\n",
       "        <path d=\"M19 3H5c-1.1 0-2 .9-2 2v14c0 1.1.9 2 2 2h14c1.1 0 2-.9 2-2V5c0-1.1-.9-2-2-2zM9 17H7v-7h2v7zm4 0h-2V7h2v10zm4 0h-2v-4h2v4z\"/>\n",
       "    </g>\n",
       "</svg>\n",
       "      </button>\n",
       "\n",
       "<style>\n",
       "  .colab-df-quickchart {\n",
       "      --bg-color: #E8F0FE;\n",
       "      --fill-color: #1967D2;\n",
       "      --hover-bg-color: #E2EBFA;\n",
       "      --hover-fill-color: #174EA6;\n",
       "      --disabled-fill-color: #AAA;\n",
       "      --disabled-bg-color: #DDD;\n",
       "  }\n",
       "\n",
       "  [theme=dark] .colab-df-quickchart {\n",
       "      --bg-color: #3B4455;\n",
       "      --fill-color: #D2E3FC;\n",
       "      --hover-bg-color: #434B5C;\n",
       "      --hover-fill-color: #FFFFFF;\n",
       "      --disabled-bg-color: #3B4455;\n",
       "      --disabled-fill-color: #666;\n",
       "  }\n",
       "\n",
       "  .colab-df-quickchart {\n",
       "    background-color: var(--bg-color);\n",
       "    border: none;\n",
       "    border-radius: 50%;\n",
       "    cursor: pointer;\n",
       "    display: none;\n",
       "    fill: var(--fill-color);\n",
       "    height: 32px;\n",
       "    padding: 0;\n",
       "    width: 32px;\n",
       "  }\n",
       "\n",
       "  .colab-df-quickchart:hover {\n",
       "    background-color: var(--hover-bg-color);\n",
       "    box-shadow: 0 1px 2px rgba(60, 64, 67, 0.3), 0 1px 3px 1px rgba(60, 64, 67, 0.15);\n",
       "    fill: var(--button-hover-fill-color);\n",
       "  }\n",
       "\n",
       "  .colab-df-quickchart-complete:disabled,\n",
       "  .colab-df-quickchart-complete:disabled:hover {\n",
       "    background-color: var(--disabled-bg-color);\n",
       "    fill: var(--disabled-fill-color);\n",
       "    box-shadow: none;\n",
       "  }\n",
       "\n",
       "  .colab-df-spinner {\n",
       "    border: 2px solid var(--fill-color);\n",
       "    border-color: transparent;\n",
       "    border-bottom-color: var(--fill-color);\n",
       "    animation:\n",
       "      spin 1s steps(1) infinite;\n",
       "  }\n",
       "\n",
       "  @keyframes spin {\n",
       "    0% {\n",
       "      border-color: transparent;\n",
       "      border-bottom-color: var(--fill-color);\n",
       "      border-left-color: var(--fill-color);\n",
       "    }\n",
       "    20% {\n",
       "      border-color: transparent;\n",
       "      border-left-color: var(--fill-color);\n",
       "      border-top-color: var(--fill-color);\n",
       "    }\n",
       "    30% {\n",
       "      border-color: transparent;\n",
       "      border-left-color: var(--fill-color);\n",
       "      border-top-color: var(--fill-color);\n",
       "      border-right-color: var(--fill-color);\n",
       "    }\n",
       "    40% {\n",
       "      border-color: transparent;\n",
       "      border-right-color: var(--fill-color);\n",
       "      border-top-color: var(--fill-color);\n",
       "    }\n",
       "    60% {\n",
       "      border-color: transparent;\n",
       "      border-right-color: var(--fill-color);\n",
       "    }\n",
       "    80% {\n",
       "      border-color: transparent;\n",
       "      border-right-color: var(--fill-color);\n",
       "      border-bottom-color: var(--fill-color);\n",
       "    }\n",
       "    90% {\n",
       "      border-color: transparent;\n",
       "      border-bottom-color: var(--fill-color);\n",
       "    }\n",
       "  }\n",
       "</style>\n",
       "\n",
       "      <script>\n",
       "        async function quickchart(key) {\n",
       "          const quickchartButtonEl =\n",
       "            document.querySelector('#' + key + ' button');\n",
       "          quickchartButtonEl.disabled = true;  // To prevent multiple clicks.\n",
       "          quickchartButtonEl.classList.add('colab-df-spinner');\n",
       "          try {\n",
       "            const charts = await google.colab.kernel.invokeFunction(\n",
       "                'suggestCharts', [key], {});\n",
       "          } catch (error) {\n",
       "            console.error('Error during call to suggestCharts:', error);\n",
       "          }\n",
       "          quickchartButtonEl.classList.remove('colab-df-spinner');\n",
       "          quickchartButtonEl.classList.add('colab-df-quickchart-complete');\n",
       "        }\n",
       "        (() => {\n",
       "          let quickchartButtonEl =\n",
       "            document.querySelector('#df-3888c29f-8a0d-4ae7-9508-57c6c07f00fc button');\n",
       "          quickchartButtonEl.style.display =\n",
       "            google.colab.kernel.accessAllowed ? 'block' : 'none';\n",
       "        })();\n",
       "      </script>\n",
       "    </div>\n",
       "\n",
       "  <div id=\"id_babab1b7-e8cd-47a8-be41-88dacc6332c5\">\n",
       "    <style>\n",
       "      .colab-df-generate {\n",
       "        background-color: #E8F0FE;\n",
       "        border: none;\n",
       "        border-radius: 50%;\n",
       "        cursor: pointer;\n",
       "        display: none;\n",
       "        fill: #1967D2;\n",
       "        height: 32px;\n",
       "        padding: 0 0 0 0;\n",
       "        width: 32px;\n",
       "      }\n",
       "\n",
       "      .colab-df-generate:hover {\n",
       "        background-color: #E2EBFA;\n",
       "        box-shadow: 0px 1px 2px rgba(60, 64, 67, 0.3), 0px 1px 3px 1px rgba(60, 64, 67, 0.15);\n",
       "        fill: #174EA6;\n",
       "      }\n",
       "\n",
       "      [theme=dark] .colab-df-generate {\n",
       "        background-color: #3B4455;\n",
       "        fill: #D2E3FC;\n",
       "      }\n",
       "\n",
       "      [theme=dark] .colab-df-generate:hover {\n",
       "        background-color: #434B5C;\n",
       "        box-shadow: 0px 1px 3px 1px rgba(0, 0, 0, 0.15);\n",
       "        filter: drop-shadow(0px 1px 2px rgba(0, 0, 0, 0.3));\n",
       "        fill: #FFFFFF;\n",
       "      }\n",
       "    </style>\n",
       "    <button class=\"colab-df-generate\" onclick=\"generateWithVariable('df')\"\n",
       "            title=\"Generate code using this dataframe.\"\n",
       "            style=\"display:none;\">\n",
       "\n",
       "  <svg xmlns=\"http://www.w3.org/2000/svg\" height=\"24px\"viewBox=\"0 0 24 24\"\n",
       "       width=\"24px\">\n",
       "    <path d=\"M7,19H8.4L18.45,9,17,7.55,7,17.6ZM5,21V16.75L18.45,3.32a2,2,0,0,1,2.83,0l1.4,1.43a1.91,1.91,0,0,1,.58,1.4,1.91,1.91,0,0,1-.58,1.4L9.25,21ZM18.45,9,17,7.55Zm-12,3A5.31,5.31,0,0,0,4.9,8.1,5.31,5.31,0,0,0,1,6.5,5.31,5.31,0,0,0,4.9,4.9,5.31,5.31,0,0,0,6.5,1,5.31,5.31,0,0,0,8.1,4.9,5.31,5.31,0,0,0,12,6.5,5.46,5.46,0,0,0,6.5,12Z\"/>\n",
       "  </svg>\n",
       "    </button>\n",
       "    <script>\n",
       "      (() => {\n",
       "      const buttonEl =\n",
       "        document.querySelector('#id_babab1b7-e8cd-47a8-be41-88dacc6332c5 button.colab-df-generate');\n",
       "      buttonEl.style.display =\n",
       "        google.colab.kernel.accessAllowed ? 'block' : 'none';\n",
       "\n",
       "      buttonEl.onclick = () => {\n",
       "        google.colab.notebook.generateWithVariable('df');\n",
       "      }\n",
       "      })();\n",
       "    </script>\n",
       "  </div>\n",
       "\n",
       "    </div>\n",
       "  </div>\n"
      ],
      "text/plain": [
       "      Format       Species  Healthy      Disease  \\\n",
       "0      color        Tomato    False  Late_blight   \n",
       "1      color        Tomato    False  Late_blight   \n",
       "2      color        Tomato    False  Late_blight   \n",
       "3      color        Tomato    False  Late_blight   \n",
       "4      color        Tomato    False  Late_blight   \n",
       "...      ...           ...      ...          ...   \n",
       "54300  color  Corn_(maize)     True         None   \n",
       "54301  color  Corn_(maize)     True         None   \n",
       "54302  color  Corn_(maize)     True         None   \n",
       "54303  color  Corn_(maize)     True         None   \n",
       "54304  color  Corn_(maize)     True         None   \n",
       "\n",
       "                                                FileName  \n",
       "0      781e93a9-2059-42de-8075-658033a6abf7___RS_Late...  \n",
       "1      283ff0be-6e5e-4b4e-bf21-639780b77ffc___GHLB2 L...  \n",
       "2      0db85707-41f9-42df-ba3b-842d14f00a68___GHLB2 L...  \n",
       "3      078a999d-6e6f-427e-a1e6-80b4d2df2bae___GHLB2 L...  \n",
       "4      3dcee9ed-43bb-45a9-8cff-641b3dd62179___RS_Late...  \n",
       "...                                                  ...  \n",
       "54300  8cdec02e-6273-452f-8681-1319a74d3698___R.S_HL ...  \n",
       "54301  c9c333a8-30ed-4163-adf1-c65379dac7ac___R.S_HL ...  \n",
       "54302  85581bfb-0508-4cea-a76c-b929fea867a1___R.S_HL ...  \n",
       "54303  0b703646-9307-401b-bd31-ace32353d467___R.S_HL ...  \n",
       "54304  af57ac04-46ad-4655-81f3-4fc4a01d1c1a___R.S_HL ...  \n",
       "\n",
       "[54305 rows x 5 columns]"
      ]
     },
     "execution_count": 6,
     "metadata": {},
     "output_type": "execute_result"
    }
   ],
   "source": [
    "dataset_path = \"/kaggle/input/plantvillage-dataset/plantvillage dataset/color/\"\n",
    "df = utils.build_color_spa_dataset(dataset_path)\n",
    "df"
   ]
  },
  {
   "cell_type": "code",
   "execution_count": 8,
   "metadata": {
    "colab": {
     "base_uri": "https://localhost:8080/"
    },
    "id": "U9ph3by0PX0Q",
    "outputId": "9a2ae240-1434-4d52-d074-e9ccac7e6441"
   },
   "outputs": [
    {
     "name": "stdout",
     "output_type": "stream",
     "text": [
      "Número de clases: 21\n"
     ]
    }
   ],
   "source": [
    "# Duplicar columna \"Enfermedad\" como \"Label\", por cuestiones prácticas\n",
    "df[\"Label\"] = df[\"Enfermedad\"]\n",
    "\n",
    "# Codificar las etiquetas compuestas como números\n",
    "df[\"Label_id\"] = df[\"Label\"].astype(\"category\").cat.codes\n",
    "\n",
    "# Crear el diccionario de mapeo id → etiqueta compuesta\n",
    "label_map = dict(enumerate(df[\"Label\"].astype(\"category\").cat.categories))\n",
    "\n",
    "# Número de clases únicas\n",
    "NUM_CLASSES = len(label_map)\n",
    "\n",
    "print(f\"Número de clases: {NUM_CLASSES}\")"
   ]
  },
  {
   "cell_type": "code",
   "execution_count": 10,
   "metadata": {
    "colab": {
     "base_uri": "https://localhost:8080/"
    },
    "id": "GY0ExNSAPe8H",
    "outputId": "90b99266-f522-4e02-8007-2fc29ceda1b7"
   },
   "outputs": [
    {
     "data": {
      "text/plain": [
       "8146"
      ]
     },
     "execution_count": 10,
     "metadata": {},
     "output_type": "execute_result"
    }
   ],
   "source": [
    "SEED = 42\n",
    "\n",
    "# Split 85% train, 15% valid\n",
    "train_df, valid_df = train_test_split(df, test_size=0.15, stratify=df[\"Label_id\"], random_state=SEED)\n",
    "len(valid_df)"
   ]
  },
  {
   "cell_type": "markdown",
   "metadata": {
    "id": "W1RDrhCNPtft"
   },
   "source": "### Reducción del dataset para agilizar el desarrollo"
  },
  {
   "metadata": {},
   "cell_type": "markdown",
   "source": "Utilizamos una fracción del dataset para poder iterar las modificaciones del modelo ágilmente. Aunque último modelo se corrió con todo el dataset dejamos el siguiente código como evidencia de estas iteraciones"
  },
  {
   "cell_type": "code",
   "execution_count": null,
   "metadata": {
    "colab": {
     "base_uri": "https://localhost:8080/"
    },
    "id": "LGGI5HJ-PkM5",
    "outputId": "9fa9ba2e-9847-4608-9f63-9ccdac4bbd3a"
   },
   "outputs": [
    {
     "name": "stdout",
     "output_type": "stream",
     "text": [
      "Total imágenes en train: 46159\n",
      "Usando en subset: 46159 (100.0% del train)\n"
     ]
    }
   ],
   "source": [
    "USE_SMALL_TRAIN = False \n",
    "TRAIN_FRAC = 0.2\n",
    "\n",
    "\n",
    "def stratified_fraction_indices(y, frac=0.2, seed=1337):\n",
    "    sss = StratifiedShuffleSplit(n_splits=1, train_size=frac, random_state=seed)\n",
    "    ((idx_small, _),) = sss.split(np.zeros_like(y), y)  # ahora train_size=frac\n",
    "    return idx_small\n",
    "\n",
    "\n",
    "base_train_df = train_df\n",
    "if USE_SMALL_TRAIN:\n",
    "    idx = stratified_fraction_indices(train_df[\"Label_id\"].values, frac=TRAIN_FRAC, seed=1337)\n",
    "    base_train_df = train_df.iloc[idx].reset_index(drop=True)\n",
    "\n",
    "total_train = len(train_df)\n",
    "subset_train = len(base_train_df)\n",
    "\n",
    "print(f\"Total imágenes en train: {total_train}\")\n",
    "print(f\"Usando en subset: {subset_train} ({subset_train/total_train:.1%} del train)\")"
   ]
  },
  {
   "cell_type": "markdown",
   "metadata": {
    "id": "sYL_uAIAPxYI"
   },
   "source": "### **Preprocesamiento y Data Augmentation**"
  },
  {
   "metadata": {},
   "cell_type": "markdown",
   "source": [
    "Mantendremos las mismas transformaciones que se vieron en el modelo baseline. Haremos:\n",
    "\n",
    "\n",
    "* **Redimensionamiento:** Ajustaremos las imágenes de 256×256 a 224×224 píxeles para adaptarlas a la entrada de **ResNet18**.\n",
    "\n",
    "\n",
    "* **Normalización:** Aplicaremos normalización utilizando los valores de *mean* y *std* por canal RGB empleados en ImageNet.\n",
    "\n",
    "\n",
    "* **Data Augmentation (estrategia conservadora):**\n",
    "  Con el objetivo de incrementar la variabilidad artificial de los datos y mejorar la capacidad de generalización del modelo, se aplicarán las siguientes transformaciones:\n",
    "\n",
    "  * **RandomResizedCrop:** Recorta y escala aleatoriamente regiones de la imagen.\n",
    "  * **RandomHorizontalFlip:** Invierte horizontalmente la imagen con una probabilidad del 50%.\n",
    "  * **RandomRotation(20):** Rota aleatoriamente hasta ±20°.\n",
    "  * **ColorJitter:** Ajusta brillo, contraste, saturación y tono de forma aleatoria.\n",
    "  * **RandomErasing:** Elimina un área aleatoria de la imagen para simular oclusiones."
   ]
  },
  {
   "cell_type": "code",
   "metadata": {
    "id": "1qVZfnpYPwEP"
   },
   "source": [
    "# Normalización estándar ImageNet\n",
    "imagenet_mean = [0.485, 0.456, 0.406]\n",
    "imagenet_std = [0.229, 0.224, 0.225]\n",
    "\n",
    "BATCH_SIZE = 128\n",
    "\n",
    "train_transform = transforms.Compose(\n",
    "    [\n",
    "        transforms.ToPILImage(),\n",
    "        transforms.RandomResizedCrop((224, 224), scale=(0.5, 1.0)),\n",
    "        transforms.RandomHorizontalFlip(),\n",
    "        transforms.RandomRotation(20),\n",
    "        transforms.ColorJitter(brightness=0.25, contrast=0.25, saturation=0.25, hue=0.03),\n",
    "        transforms.ToTensor(),\n",
    "        transforms.RandomErasing(p=0.25, scale=(0.02, 0.12), ratio=(0.3, 3.3)),\n",
    "        transforms.Normalize(mean=imagenet_mean, std=imagenet_std),\n",
    "    ]\n",
    ")\n",
    "\n",
    "val_transform = transforms.Compose(\n",
    "    [\n",
    "        transforms.ToPILImage(),\n",
    "        transforms.Resize(256),\n",
    "        transforms.CenterCrop((224, 224)),\n",
    "        transforms.ToTensor(),\n",
    "        transforms.Normalize(mean=imagenet_mean, std=imagenet_std),\n",
    "    ]\n",
    ")"
   ],
   "outputs": [],
   "execution_count": null
  },
  {
   "cell_type": "code",
   "execution_count": null,
   "metadata": {
    "id": "t1vvqZhZPzli"
   },
   "outputs": [],
   "source": [
    "train_dataset = dataset.PlantVillageDataset(base_train_df, dataset_path, transform=train_transform)\n",
    "valid_dataset = dataset.PlantVillageDataset(valid_df, dataset_path, transform=val_transform)\n",
    "\n",
    "train_loader = torch.utils.data.DataLoader(train_dataset, batch_size=BATCH_SIZE, shuffle=True, num_workers=0, pin_memory=True)\n",
    "valid_loader = torch.utils.data.DataLoader(valid_dataset, batch_size=BATCH_SIZE, shuffle=False, num_workers=0, pin_memory=True)\n",
    "\n",
    "data_dict = {\n",
    "    \"train\": train_loader,\n",
    "    \"valid\": valid_loader,\n",
    "    \"image_width\": 224,\n",
    "    \"image_height\": 224,\n",
    "}\n"
   ]
  },
  {
   "cell_type": "code",
   "execution_count": 15,
   "metadata": {
    "colab": {
     "base_uri": "https://localhost:8080/"
    },
    "id": "1kRhQkLYP07d",
    "outputId": "0cdd1c61-ebac-4d8e-c86d-4ce08ee70b30"
   },
   "outputs": [
    {
     "name": "stdout",
     "output_type": "stream",
     "text": [
      "Usando dispositivo: cuda\n"
     ]
    }
   ],
   "source": [
    "device = torch.device(\"cuda\" if torch.cuda.is_available() else \"cpu\")\n",
    "print(f\"Usando dispositivo: {device}\")"
   ]
  },
  {
   "cell_type": "markdown",
   "metadata": {
    "id": "nRwSCMYAP2fu"
   },
   "source": "## Desbalance de clases y función de pérdida"
  },
  {
   "metadata": {},
   "cell_type": "markdown",
   "source": "Se obtiene la cantidad de imágenes por clase, luego se calcula el peso inverso de cada clase para dar más importancia a las clases menos representadas y por último los normalizamos para que la suma sea igual al número de clases."
  },
  {
   "cell_type": "code",
   "execution_count": null,
   "metadata": {
    "id": "mukLpDfAP3wy"
   },
   "outputs": [],
   "source": [
    "counts = (base_train_df[\"Label_id\"].value_counts().sort_index().to_numpy(dtype=np.float32))\n",
    "\n",
    "class_weights = torch.tensor(1.0 / (counts + 1e-6), dtype=torch.float32)\n",
    "class_weights = class_weights / class_weights.sum() * len(counts)\n",
    "class_weights = class_weights.to(device)"
   ]
  },
  {
   "metadata": {},
   "cell_type": "markdown",
   "source": [
    "FocalLoss es una modificación de CrossEntropyLoss que reduce el impacto de las muestras que el modelo predice correctamente y aumenta el enfoque en las que todavía le cuesta. \n",
    "\n",
    "Se controla mediante el parámetro gamma, si este es igual a cero su funcionamiento es equivalente a CrossEntropy. A mayor gamma mayor será el peso sobre las clases difíciles de predecir correctamente. "
   ]
  },
  {
   "cell_type": "code",
   "execution_count": null,
   "metadata": {
    "id": "zI6GskJ7P6Jm"
   },
   "outputs": [],
   "source": [
    "class FocalLoss(nn.Module):\n",
    "    def __init__(self, alpha=None, gamma=2.0, reduction=\"mean\", label_smoothing=0.0):\n",
    "        super(FocalLoss, self).__init__()\n",
    "        self.alpha = alpha  # tensor de pesos por clase, como en CrossEntropyLoss\n",
    "        self.gamma = gamma\n",
    "        self.reduction = reduction\n",
    "        self.label_smoothing = label_smoothing\n",
    "\n",
    "    def forward(self, inputs, targets):\n",
    "        # Calcular cross entropy con label smoothing\n",
    "        ce_loss = F.cross_entropy(\n",
    "            inputs,\n",
    "            targets,\n",
    "            weight=self.alpha,\n",
    "            reduction=\"none\",\n",
    "            label_smoothing=self.label_smoothing,\n",
    "        )\n",
    "\n",
    "        # Calcular probabilidades\n",
    "        pt = torch.exp(-ce_loss)\n",
    "\n",
    "        # Aplicar focal weight: (1-pt)^gamma\n",
    "        focal_weight = (1 - pt) ** self.gamma\n",
    "        focal_loss = focal_weight * ce_loss\n",
    "\n",
    "        if self.reduction == \"mean\":\n",
    "            return focal_loss.mean()\n",
    "        elif self.reduction == \"sum\":\n",
    "            return focal_loss.sum()\n",
    "        else:\n",
    "            return focal_loss"
   ]
  },
  {
   "cell_type": "code",
   "execution_count": null,
   "metadata": {
    "id": "NH3hF27lcbfR"
   },
   "outputs": [],
   "source": [
    "criterion_focal = FocalLoss(alpha=class_weights, gamma=1.5, label_smoothing=0.05)"
   ]
  },
  {
   "cell_type": "markdown",
   "metadata": {
    "id": "1jWyoh4gP8OW"
   },
   "source": "## Model"
  },
  {
   "metadata": {},
   "cell_type": "markdown",
   "source": [
    "Debido a los buenos resultados que obtuvimos con el modelo baseline decidimos continuar con ResNet18. Podemos recordar las razones de esta elección (también descriptas en el notebook baseline)\n",
    "\n",
    "* modelo preentrenado con ImageNet, por lo que ya ha aprendido características generales como bordes, texturas y formas.\n",
    "* menor costo computacional que otras redes de la familia, lo que nos permite tener un primer resultado rápido y pudiendo incluso entrenar por varias épocas.\n",
    "* su (relativamente reducida) complejidad la hace menos propensa al overfitting, problema que se intenta evitar en un baseline.\n",
    "* uso de conexiones residuales, que mejoran flujo de gradiente en redes profundas y evita el problema de \"vanish gradient\".\n",
    "* suele establecer una línea base razonable de accuracy y F1-score"
   ]
  },
  {
   "cell_type": "code",
   "metadata": {
    "colab": {
     "base_uri": "https://localhost:8080/"
    },
    "id": "1InXbiUNP8zp",
    "outputId": "4e5d3120-2553-4e95-870b-93abb6d85ee1"
   },
   "source": [
    "model = models.resnet18(weights=models.ResNet18_Weights.DEFAULT)"
   ],
   "outputs": [],
   "execution_count": null
  },
  {
   "cell_type": "code",
   "execution_count": null,
   "metadata": {
    "id": "kVjkly5pP-ux"
   },
   "outputs": [],
   "source": "cv.setNumThreads(0)"
  },
  {
   "cell_type": "code",
   "execution_count": null,
   "metadata": {
    "id": "bN_aYkJaQAxz"
   },
   "outputs": [],
   "source": [
    "# Info de loaders e imagen\n",
    "data_dict = {\n",
    "    \"train\": train_loader,\n",
    "    \"valid\": valid_loader,\n",
    "    \"image_width\": 224,\n",
    "    \"image_height\": 224,\n",
    "}\n",
    "\n",
    "# TensorBoard\n",
    "writer = {\n",
    "    \"train\": SummaryWriter(log_dir=\"runs/plant_train\"),\n",
    "    \"valid\": SummaryWriter(log_dir=\"runs/plant_valid\"),\n",
    "}"
   ]
  },
  {
   "cell_type": "markdown",
   "metadata": {
    "id": "vRB5ow7-QVAU"
   },
   "source": "## Entrenamiento"
  },
  {
   "metadata": {},
   "cell_type": "markdown",
   "source": "Utilizamos entrenamiento progresivo en múltiples fases. Lo hicimos para evitar sobreajustar y aprovechar mejor las características ya aprendidas, el entrenamiento se realizó en tres fases:"
  },
  {
   "cell_type": "markdown",
   "metadata": {
    "id": "RUOQX44LQWf7"
   },
   "source": [
    "### Fase 1 - Linear Probe\n",
    "\n",
    "Únicamente entrenamos la capa final (fully connected) dado que las primeras ya contienen información general de imágenes (bordes y texturas). El entrenar solo la cabeza le permitirá al modelo mapear esa información a las clases especificas de nuestro dominio. "
   ]
  },
  {
   "cell_type": "code",
   "execution_count": null,
   "metadata": {
    "id": "2WNsTFi6fvsb"
   },
   "outputs": [],
   "source": [
    "early_stop_metric = \"valid_f1_macro\""
   ]
  },
  {
   "cell_type": "code",
   "execution_count": null,
   "metadata": {
    "colab": {
     "base_uri": "https://localhost:8080/",
     "height": 980,
     "referenced_widgets": [
      "eb3aa39c38f24b7b8e13e2e93139ae9f",
      "49ba68407c1842b8b8740786b797f139",
      "23b0da8929e04b32ae64f4fcf544c146",
      "fe2e04dcf4284c489a468e3cb7150c5b",
      "be89c83d48984228a539c2f5613a2d62",
      "9c29ff643f044d51adf992239ecf42cb",
      "d2a0f2fca2a04d08aa461f11110cc5bb",
      "b6cc79ea81a54a23acd71da81f3602da",
      "c2b37ed03590454f9bdc7cf9d9a554a7",
      "1241ac0c99bb4aefbaff079551d599eb",
      "0dc2591be98e499a82fd44d77abc912c",
      "5a74da9cd24b493d8dc2e8e2c78ac71a",
      "16c77f23b46141a2a30ab6e67f573bcd",
      "de267e1b8db14023ba040092b490daa7",
      "81273113f0f044f5b226c67a1a639d6b",
      "2f28b13e2f9e4cff855439ed92308f88",
      "e28e4a9bd5344337818078cf3b96e0be",
      "48f83ff40f9240e3a7835a96410a0476",
      "df0f4097c8574c69b547cc4d1d770e7b",
      "0bf9a711eef041c08f865c0fdb94e39d",
      "7be5d8dcc4a042ee998a70ab97c750f3",
      "a3860a0643354640bd0140dfdf2e4b96",
      "e42135f92bfd4b3d9560ea88cefbd517",
      "c67965850ec04cb1ad542b2ba52655bb",
      "bd790422cc25473cb57b1105ed913426",
      "f09f859d646e4651bbd36da8691acdaf",
      "f85ec793fd0f4a7d917b95d291cc3e4d",
      "155cbbf3db304e94bfdc1f901cf5a27b",
      "13a954dce66748a9a3e54455d9b1981f",
      "d342d903a15148d88c231683127c3722",
      "3c6eebb066224c7eb52d578373d08cce",
      "21c3a0a3669d4193a29a85b20495a3c1",
      "b0f0540e608d41d0b94ccec433b73189",
      "e069ba96a3894d3fbc375679646afe71",
      "d7a711ca2fce4e9b82e765f672fb861f",
      "974c3cfe69c244c4bdb9c39b5685db19",
      "621e0fedb0e141f49181148d7bfb09a3",
      "23257cca90cb444e80adc9b418a89af2",
      "3b525efc244044c5a8e8e45037010a48",
      "91500092e7844a9991f9d2879cd4929e",
      "031e2afb2a3c49a296da222af4c1994d",
      "bdace43f9327463595255139b28b1a90",
      "e8709261620e495bac2e4c1f9809395a",
      "de9ea10b648b4422b6893ca5f114a3da",
      "8510b063678c4e599d2fbe4a0ecc9363",
      "5298deae6a214c16b2063c8e4856a191",
      "3b9e2c39dbdc464ea810f5fdf66482e7",
      "37a518d5f54b4b5180cf55c838cb31e5",
      "fb8686a6cf4c4855b441c5da9b4f2ed4",
      "2d832437dfbd45e09c5856bcc7fcda13",
      "04bd83447f644d26a8e289c8d77901df",
      "79fc2f79f8654cee8f38f2a073d52d68",
      "ea734d3814444835954fcc24dfe25c69",
      "8d3a95c73b2442b8b9ca3898e0cae484",
      "d148141b44b94ea8a02d9c5b0204c1ec",
      "c6bf8e657bfe42f28ed0eb75e73b359a",
      "70da91c269f74c07a0c700baabe67bf0",
      "5ca006a2c1464d3fb98608bd5e71945b",
      "23c6083eedb34223b7b43ba1897dec72",
      "4e271714005a4a51a3661f809df8dd90",
      "3608c799aa9444b69831da8da9ea7e37",
      "ece0f4fd62754540bab39561b2b6d0f0",
      "8ce6642ecffe455ab8319bd4f8ede53d",
      "76d94ec88a024382a8524d9742dfd9b4",
      "eade2c2b0396423eb9e1486e47d8bcbc",
      "9f50c24aad3044b8acea68b30ff7f2a9",
      "483346b54674496ba011102b11a39737",
      "1cf8d3395ec749229c6a55a6efb153a3",
      "e785f1e4e36a4309a47f53c40a77ceae",
      "a694abd41ec441f9ac3ce9726216e664",
      "0d1cdb0ec11540928e4abcc55d810ade",
      "d02536d6ea004f73a0d26f7f9ac875e1",
      "1f40513f4620406bb0d06aff2185e2f2",
      "97deea3a46644fbaa858d0271812b52c",
      "8905cdb68bc0432d99a339042875353a",
      "496d71f9afea48aaabb3dbbcbedbb3ad",
      "67ace03dfbb649a29e31d148e3b432c0",
      "5a0e2d8a26ce4e8083993a0ed94ea901",
      "f804fc3950b3414b9d6ef0a903113a57",
      "3418cf334ba34785bf00c13e991010c4",
      "98e10d39363643ff8ee246368f0d5d20",
      "9a39ffb21a714cc2bdced986368568b1",
      "bf33a1b7fb4746b4a78887aaa65591fe",
      "df6ebff8d2294e578a7b334b171d53b1",
      "a297b653e5714aa7a0b404129595b617",
      "e82d585e26344098b7796bc31479f0ef",
      "c945f9c765064f5f945296f860f77431",
      "5168e545ed5240609e12d6c2d7e86309",
      "3b4c35f7d4714fd69fbffec4a482d14c",
      "35d8fff52eb04a5b9a58a6bc1bf50db1",
      "7d54705de16d4a5ea0e11de754ea619d",
      "b5feb23d737545a2837f3038a14a2c00",
      "f74ba856a3294b64be7929ac9278bb5c",
      "6e8b7dda89674c0eb1bad5b92243c498",
      "c5655f5104c045078b0d054774e5fb8c",
      "fe001dbbe5b24235876f575277134de1",
      "418f66f018d74509be5c4728bac267e7",
      "b14b0c922de64dfe8558aa4024d22dc6",
      "6a7e35c87f184cff956b5052ca4f9882",
      "c4d4a921732b41b488eca0d55598ce52",
      "b3190f52b9104bccb40bc6d871e037ba",
      "37f8e4351fab407bbd70380d821350db",
      "b2cbc27ee48142b088d2ddaad871ffd6",
      "629a97a1a51345e49e727ea3850bfdc4",
      "17cbf46a67374c5eadac3fce761f0bad",
      "725c624138b34cdc8033551fefa0e843",
      "42365aa4d4f240ab9a2b00d97265869b",
      "6e05f8596c55487ab096c140b2f73f78",
      "b6665d9995ae49b4b5ca62ac8dfe7ba2",
      "65a24871238d46bb856715d04a612bc7"
     ]
    },
    "id": "9jGRM2zqQXiV",
    "outputId": "9b871999-3011-42fe-c3f5-dd6551e5f8a2"
   },
   "outputs": [
    {
     "data": {
      "application/vnd.jupyter.widget-view+json": {
       "model_id": "eb3aa39c38f24b7b8e13e2e93139ae9f",
       "version_major": 2,
       "version_minor": 0
      },
      "text/plain": [
       "Epoch 1/10 [Train]:   0%|          | 0/361 [00:00<?, ?it/s]"
      ]
     },
     "metadata": {},
     "output_type": "display_data"
    },
    {
     "name": "stdout",
     "output_type": "stream",
     "text": [
      "Epoch 1 | LR: 1.00e-03\n",
      "  Train - Loss: 0.3682, Acc: 0.6712, F1: 0.5475\n",
      "  Valid - Loss: 0.1865, Acc: 0.8283, F1: 0.7185\n",
      "✅ Mejor modelo guardado en 'best_s1.pth' (valid_f1_macro=0.7185)\n"
     ]
    },
    {
     "data": {
      "application/vnd.jupyter.widget-view+json": {
       "model_id": "5a74da9cd24b493d8dc2e8e2c78ac71a",
       "version_major": 2,
       "version_minor": 0
      },
      "text/plain": [
       "Epoch 2/10 [Train]:   0%|          | 0/361 [00:00<?, ?it/s]"
      ]
     },
     "metadata": {},
     "output_type": "display_data"
    },
    {
     "name": "stdout",
     "output_type": "stream",
     "text": [
      "Epoch 2 | LR: 1.00e-03\n",
      "  Train - Loss: 0.2024, Acc: 0.8116, F1: 0.6870\n",
      "  Valid - Loss: 0.1584, Acc: 0.8602, F1: 0.7608\n",
      "✅ Mejor modelo guardado en 'best_s1.pth' (valid_f1_macro=0.7608)\n"
     ]
    },
    {
     "data": {
      "application/vnd.jupyter.widget-view+json": {
       "model_id": "e42135f92bfd4b3d9560ea88cefbd517",
       "version_major": 2,
       "version_minor": 0
      },
      "text/plain": [
       "Epoch 3/10 [Train]:   0%|          | 0/361 [00:00<?, ?it/s]"
      ]
     },
     "metadata": {},
     "output_type": "display_data"
    },
    {
     "name": "stdout",
     "output_type": "stream",
     "text": [
      "Epoch 3 | LR: 1.00e-03\n",
      "  Train - Loss: 0.1800, Acc: 0.8319, F1: 0.7113\n",
      "  Valid - Loss: 0.1377, Acc: 0.8905, F1: 0.7976\n",
      "✅ Mejor modelo guardado en 'best_s1.pth' (valid_f1_macro=0.7976)\n"
     ]
    },
    {
     "data": {
      "application/vnd.jupyter.widget-view+json": {
       "model_id": "e069ba96a3894d3fbc375679646afe71",
       "version_major": 2,
       "version_minor": 0
      },
      "text/plain": [
       "Epoch 4/10 [Train]:   0%|          | 0/361 [00:00<?, ?it/s]"
      ]
     },
     "metadata": {},
     "output_type": "display_data"
    },
    {
     "name": "stdout",
     "output_type": "stream",
     "text": [
      "Epoch 4 | LR: 1.00e-03\n",
      "  Train - Loss: 0.1728, Acc: 0.8377, F1: 0.7199\n",
      "  Valid - Loss: 0.1432, Acc: 0.8862, F1: 0.8060\n",
      "✅ Mejor modelo guardado en 'best_s1.pth' (valid_f1_macro=0.8060)\n"
     ]
    },
    {
     "data": {
      "application/vnd.jupyter.widget-view+json": {
       "model_id": "8510b063678c4e599d2fbe4a0ecc9363",
       "version_major": 2,
       "version_minor": 0
      },
      "text/plain": [
       "Epoch 5/10 [Train]:   0%|          | 0/361 [00:00<?, ?it/s]"
      ]
     },
     "metadata": {},
     "output_type": "display_data"
    },
    {
     "name": "stdout",
     "output_type": "stream",
     "text": [
      "Epoch 5 | LR: 1.00e-03\n",
      "  Train - Loss: 0.1642, Acc: 0.8490, F1: 0.7311\n",
      "  Valid - Loss: 0.1408, Acc: 0.8807, F1: 0.7901\n"
     ]
    },
    {
     "data": {
      "application/vnd.jupyter.widget-view+json": {
       "model_id": "c6bf8e657bfe42f28ed0eb75e73b359a",
       "version_major": 2,
       "version_minor": 0
      },
      "text/plain": [
       "Epoch 6/10 [Train]:   0%|          | 0/361 [00:00<?, ?it/s]"
      ]
     },
     "metadata": {},
     "output_type": "display_data"
    },
    {
     "name": "stdout",
     "output_type": "stream",
     "text": [
      "Epoch 6 | LR: 1.00e-03\n",
      "  Train - Loss: 0.1614, Acc: 0.8526, F1: 0.7357\n",
      "  Valid - Loss: 0.1376, Acc: 0.8813, F1: 0.7697\n"
     ]
    },
    {
     "data": {
      "application/vnd.jupyter.widget-view+json": {
       "model_id": "483346b54674496ba011102b11a39737",
       "version_major": 2,
       "version_minor": 0
      },
      "text/plain": [
       "Epoch 7/10 [Train]:   0%|          | 0/361 [00:00<?, ?it/s]"
      ]
     },
     "metadata": {},
     "output_type": "display_data"
    },
    {
     "name": "stdout",
     "output_type": "stream",
     "text": [
      "Epoch 7 | LR: 1.00e-03\n",
      "  Train - Loss: 0.1586, Acc: 0.8543, F1: 0.7380\n",
      "  Valid - Loss: 0.1367, Acc: 0.8924, F1: 0.8140\n",
      "✅ Mejor modelo guardado en 'best_s1.pth' (valid_f1_macro=0.8140)\n"
     ]
    },
    {
     "data": {
      "application/vnd.jupyter.widget-view+json": {
       "model_id": "5a0e2d8a26ce4e8083993a0ed94ea901",
       "version_major": 2,
       "version_minor": 0
      },
      "text/plain": [
       "Epoch 8/10 [Train]:   0%|          | 0/361 [00:00<?, ?it/s]"
      ]
     },
     "metadata": {},
     "output_type": "display_data"
    },
    {
     "name": "stdout",
     "output_type": "stream",
     "text": [
      "Epoch 8 | LR: 1.00e-03\n",
      "  Train - Loss: 0.1524, Acc: 0.8642, F1: 0.7470\n",
      "  Valid - Loss: 0.1315, Acc: 0.8989, F1: 0.8182\n",
      "✅ Mejor modelo guardado en 'best_s1.pth' (valid_f1_macro=0.8182)\n"
     ]
    },
    {
     "data": {
      "application/vnd.jupyter.widget-view+json": {
       "model_id": "3b4c35f7d4714fd69fbffec4a482d14c",
       "version_major": 2,
       "version_minor": 0
      },
      "text/plain": [
       "Epoch 9/10 [Train]:   0%|          | 0/361 [00:00<?, ?it/s]"
      ]
     },
     "metadata": {},
     "output_type": "display_data"
    },
    {
     "name": "stdout",
     "output_type": "stream",
     "text": [
      "Epoch 9 | LR: 1.00e-03\n",
      "  Train - Loss: 0.1567, Acc: 0.8572, F1: 0.7419\n",
      "  Valid - Loss: 0.1334, Acc: 0.8869, F1: 0.7831\n"
     ]
    },
    {
     "data": {
      "application/vnd.jupyter.widget-view+json": {
       "model_id": "c4d4a921732b41b488eca0d55598ce52",
       "version_major": 2,
       "version_minor": 0
      },
      "text/plain": [
       "Epoch 10/10 [Train]:   0%|          | 0/361 [00:00<?, ?it/s]"
      ]
     },
     "metadata": {},
     "output_type": "display_data"
    },
    {
     "name": "stdout",
     "output_type": "stream",
     "text": [
      "Epoch 10 | LR: 1.00e-03\n",
      "  Train - Loss: 0.1533, Acc: 0.8627, F1: 0.7459\n",
      "  Valid - Loss: 0.1362, Acc: 0.8800, F1: 0.7754\n"
     ]
    }
   ],
   "source": [
    "# Congelar backbone para linear probe\n",
    "for p in model.parameters():\n",
    "    p.requires_grad = False\n",
    "\n",
    "model.fc = nn.Linear(model.fc.in_features, NUM_CLASSES)\n",
    "model = model.to(device)\n",
    "\n",
    "# 2) Optimizer (solo la cabeza)\n",
    "optimizer = AdamW(model.fc.parameters(), lr=1e-3, weight_decay=1e-4)\n",
    "scheduler = ReduceLROnPlateau(\n",
    "    optimizer,\n",
    "    mode=\"max\",  # 'max' porque queremos maximizar F1\n",
    "    factor=0.5,  # reducir LR a la mitad\n",
    "    patience=3,  # esperar 3 epochs sin mejora\n",
    "    verbose=True,\n",
    ")\n",
    "\n",
    "# 3) Métrica (macro)\n",
    "metric = MulticlassAccuracy(num_classes=NUM_CLASSES, average=\"macro\").to(device)\n",
    "\n",
    "history_s1 = trainer.train(\n",
    "    model=model,\n",
    "    optimizer=optimizer,\n",
    "    criterion=criterion_focal,\n",
    "    data=data_dict,\n",
    "    epochs=10,\n",
    "    scheduler=scheduler,\n",
    "    tb_writer=writer,\n",
    "    early_stop_metric=early_stop_metric,\n",
    "    best_ckpt_path=\"best_s1.pth\",\n",
    ")"
   ]
  },
  {
   "cell_type": "markdown",
   "metadata": {
    "id": "axC5CLlDQYpa"
   },
   "source": "### Fase 2 - Fine-tuning parcial"
  },
  {
   "metadata": {},
   "cell_type": "markdown",
   "source": "Además de la capa final también desbloquearemos para entrenar la layer4 (convolucional). En ella se encuentran características más específicas del dominio de ImageNet que buscaremos adaptar a las texturas y patrones de las hojas de las plantas."
  },
  {
   "cell_type": "code",
   "execution_count": null,
   "metadata": {
    "colab": {
     "base_uri": "https://localhost:8080/"
    },
    "id": "pWVvdpnSQZgW",
    "outputId": "1bb0c217-2a0c-4876-f7a5-7352fc261287"
   },
   "outputs": [
    {
     "data": {
      "text/plain": [
       "<All keys matched successfully>"
      ]
     },
     "execution_count": 30,
     "metadata": {},
     "output_type": "execute_result"
    }
   ],
   "source": [
    "model.load_state_dict(torch.load(\"/content/best_s1.pth\", map_location=device))"
   ]
  },
  {
   "cell_type": "code",
   "execution_count": null,
   "metadata": {
    "colab": {
     "base_uri": "https://localhost:8080/",
     "height": 962,
     "referenced_widgets": [
      "d19b0f3dcb934039b269809a3e607a34",
      "16cf660b92a7443aa05efe27d6272e0d",
      "1aaf140db0ba41e6bf569f37eeaa7461",
      "cbd44f74738f4aa58ea126e0921f68af",
      "c84b8744e388447eb3b92c65447836d1",
      "4db0fc237f424e7dab45afbb9375959f",
      "61c01b640ce342e0ba8d902f8f39af12",
      "3e868aaa7624492f9ef117b5dfdc2b87",
      "f069516d7dd24d90bfc7776a72027990",
      "30397b54a51e4fd6be7babac9392021b",
      "cfe3901984cf491cae13936694d0159a",
      "0da6f887e22d4bd59bcd0d898199f91c",
      "6cfdf66d87124fa38052c4eb7a52691b",
      "f0382adee21b40119de43840a1ca2e19",
      "5868b14164654f86add446d578af132e",
      "e8dc46dd382e4433b51354386a80c947",
      "4532f15becf843eea6ebc445982e5a8d",
      "5d981c421ccb43acaa1d1b1a6f34babe",
      "0b8733935b4f4e64b7b139f6885ce595",
      "2db06378858744dda2a144bf31d46aa5",
      "f2093351a8d74ec1aae0eea86a917289",
      "27fde9ce546149fe9d4f2ad8bc5cc06b",
      "6784a8176c324ddfb75b7a7d69009e5d",
      "89573576b13246c588af41661b2dfde8",
      "e233846419e94798a56c3bb3a3ca7997",
      "38ab039145c842c18e77eadcc15f35e0",
      "057e6a59f1c4476cb2a3d97849b956fc",
      "d8fadeeeb39147928dc6bc5d9b2e4df2",
      "ee40d34b0f9847c7ad84232ab351d6ac",
      "2e09cdb5e54344dca93a5a1a0b8071a2",
      "e9b30dbac56947a2ad3ef40dbaa35962",
      "eb2f621967e44129b30b24f0692ea202",
      "f2cab23c8c52459387e685c0f21ca34b",
      "23048f8669aa4ccc8c8688688e38ba23",
      "adc1e98890a346489454eab934f3fc46",
      "bb1746828ca64ea3b16014d7c9daff3e",
      "4f096adc1e7f4eaeb8d40eb983169428",
      "317281ce2aa04129b109d704f24b0f23",
      "db797406c89b4c6a9f0b733b758d9989",
      "326e0cb05538415dbb4618ef5e3ad7e6",
      "2f194b5b527c4d6e8ec0ecc4181896a2",
      "8bdbb8acf3d745f5bf16e5c23f19d82a",
      "6ae148347c3f4cf79a2d436ba4284124",
      "db25791cdfca40748e288006d9406edb",
      "3ac07c88c6d54a41872813ae8a3cf62b",
      "7fcbd4b385ea4ef287788402e2b2ef5b",
      "3caa3ec8aee64e7fb7849e70c0fbbc5b",
      "7de933d38b2e4a10aa7ec1fb69a64aff",
      "7698634302d64eeba23ab9d7922c689c",
      "058a58047b92490e9cd79e2d6fb39ce6",
      "e683ec59979e45deb3a80a99f52520e3",
      "4db6b70f2815422ebaed31c67a504335",
      "89ae1a47210a4fb3b4dea94efa3dd804",
      "d37300adfe8046c595b42a33929e78f9",
      "bba92c9e589842b38ca313e6bea95ccc",
      "5b9188d4e1f44f68b97907c1b9c3516b",
      "83f23a52ba694901b5af9a135991472e",
      "aa6a868ee2ce41c6af559068a9661cb0",
      "5b807a76aa384743a2c3c5532bcbf8aa",
      "7b6de4676af04baf996b359a47e7d86f",
      "2c3773e9ee4145f98a847105e5142314",
      "c37d7669d4e9468e8b7b3bdead979651",
      "0a04f936685d47028a48926f4ae6c9e1",
      "134fe92c7a0e4c30b529fbe5f183fb44",
      "ac4cce0c4f63468aa796dff88d740b22",
      "6d55ea4d8ebd417a9b2498d811e3d026",
      "3b443fc425674af588a14204cf10f688",
      "52bcb30f78e34abda84851ed90b877ee",
      "16918555f58848c8b9cc324f81152129",
      "9af19ef51bd14200af3996e2ab9147fd",
      "ed885b44d3274f46ae9a38f038354052",
      "6e1670e00a3a42f9974b5ae15416f401",
      "d1d2f77b82d04cffbce0d3f90f667ec6",
      "a99f9b9f28c44c5b9a6f9850b06a6c2c",
      "32449bbbd52e43e18917e57245ea9147",
      "2611686510424d53b4eb8c2a4995b988",
      "10a572765da4406c829709cf5003e245",
      "67cfe45759e54503a09c986a1dd3110b",
      "fe5c4b5d62c041c0871523e4ffeab886",
      "4e12aa3f4e144e59b4f587911b99c6e6",
      "9b39502bbeaa4526b87670ac5a675d7a",
      "6d38914abfa746d9a28305e5b4f3db4f",
      "063ba384db074a86bf98cabb6ddcd6c6",
      "8a119fde989f4f0996fb7bd743a17f8b",
      "62283d1085124ae7ba5876bcb1d03b88",
      "211651f1f473452bb9a2220ebc7ab05d",
      "765175bffcc741c69bd9840ae163a825",
      "9b29825d948d4951aaacf5f93daf8abc",
      "ef3515385da04e08979653c35ab1730b",
      "bf4827138e7e4ee48cf07dc09bc80c6e",
      "a74d850ee99d47139d359e135c3b7141",
      "5112b4f172cc4e74ac8dcf2b21ef1fd7",
      "148adb0f66cd4c40ad1373b71416856b",
      "42af1b9849134bab9b1f5b4989f4d509",
      "c44c94cd46234d199b641dd0e7a64776",
      "d196b45aea1248f982a5c12d4e6979e5",
      "0a5bccdc58ec45029d68aa461f78b1d5",
      "e50ce3e5b559429da42f352a5ae5f516",
      "b0613e5823174f1d958ab0837d6a1edb",
      "0d75d229d06a45ce81b13b9ce799e106",
      "d532d93d484f41aa9d90fbaca26067d7",
      "e90856c04bd0470db2d0eeaffdad0c3d",
      "35ae15c5d68648a2bafd7d66c2b16c6c",
      "f3236bc098014c84b7acecbbf292a275",
      "e106280cfc3e436b930574c54e680bb2",
      "839ecc564a9042a0b77ffa5513aef7e3",
      "de457e387cb2450aabbb2bbb472f8285",
      "482e0bdae9af48ef9a79376a57b9f45d",
      "fb2b55cea76c4cc785ed5cfb60ed4eeb",
      "2ed4318961204954b916d611cba5251a"
     ]
    },
    "id": "5N5CzbtrQbNL",
    "outputId": "b184de2b-a4e5-434d-b181-86f950f5633f"
   },
   "outputs": [
    {
     "data": {
      "application/vnd.jupyter.widget-view+json": {
       "model_id": "d19b0f3dcb934039b269809a3e607a34",
       "version_major": 2,
       "version_minor": 0
      },
      "text/plain": [
       "Epoch 1/10 [Train]:   0%|          | 0/361 [00:00<?, ?it/s]"
      ]
     },
     "metadata": {},
     "output_type": "display_data"
    },
    {
     "name": "stdout",
     "output_type": "stream",
     "text": [
      "Epoch 1 | LR: 3.00e-04\n",
      "  Train - Loss: 0.1214, Acc: 0.9057, F1: 0.8147\n",
      "  Valid - Loss: 0.0859, Acc: 0.9519, F1: 0.9083\n",
      "✅ Mejor modelo guardado en 'best_s2.pth' (valid_f1_macro=0.9083)\n"
     ]
    },
    {
     "data": {
      "application/vnd.jupyter.widget-view+json": {
       "model_id": "0da6f887e22d4bd59bcd0d898199f91c",
       "version_major": 2,
       "version_minor": 0
      },
      "text/plain": [
       "Epoch 2/10 [Train]:   0%|          | 0/361 [00:00<?, ?it/s]"
      ]
     },
     "metadata": {},
     "output_type": "display_data"
    },
    {
     "name": "stdout",
     "output_type": "stream",
     "text": [
      "Epoch 2 | LR: 3.00e-04\n",
      "  Train - Loss: 0.0756, Acc: 0.9565, F1: 0.9043\n",
      "  Valid - Loss: 0.0665, Acc: 0.9710, F1: 0.9627\n",
      "✅ Mejor modelo guardado en 'best_s2.pth' (valid_f1_macro=0.9627)\n"
     ]
    },
    {
     "data": {
      "application/vnd.jupyter.widget-view+json": {
       "model_id": "6784a8176c324ddfb75b7a7d69009e5d",
       "version_major": 2,
       "version_minor": 0
      },
      "text/plain": [
       "Epoch 3/10 [Train]:   0%|          | 0/361 [00:00<?, ?it/s]"
      ]
     },
     "metadata": {},
     "output_type": "display_data"
    },
    {
     "name": "stdout",
     "output_type": "stream",
     "text": [
      "Epoch 3 | LR: 3.00e-04\n",
      "  Train - Loss: 0.0648, Acc: 0.9677, F1: 0.9300\n",
      "  Valid - Loss: 0.0635, Acc: 0.9733, F1: 0.9536\n"
     ]
    },
    {
     "data": {
      "application/vnd.jupyter.widget-view+json": {
       "model_id": "23048f8669aa4ccc8c8688688e38ba23",
       "version_major": 2,
       "version_minor": 0
      },
      "text/plain": [
       "Epoch 4/10 [Train]:   0%|          | 0/361 [00:00<?, ?it/s]"
      ]
     },
     "metadata": {},
     "output_type": "display_data"
    },
    {
     "name": "stdout",
     "output_type": "stream",
     "text": [
      "Epoch 4 | LR: 3.00e-04\n",
      "  Train - Loss: 0.0608, Acc: 0.9710, F1: 0.9377\n",
      "  Valid - Loss: 0.0541, Acc: 0.9811, F1: 0.9651\n",
      "✅ Mejor modelo guardado en 'best_s2.pth' (valid_f1_macro=0.9651)\n"
     ]
    },
    {
     "data": {
      "application/vnd.jupyter.widget-view+json": {
       "model_id": "3ac07c88c6d54a41872813ae8a3cf62b",
       "version_major": 2,
       "version_minor": 0
      },
      "text/plain": [
       "Epoch 5/10 [Train]:   0%|          | 0/361 [00:00<?, ?it/s]"
      ]
     },
     "metadata": {},
     "output_type": "display_data"
    },
    {
     "name": "stdout",
     "output_type": "stream",
     "text": [
      "Epoch 5 | LR: 3.00e-04\n",
      "  Train - Loss: 0.0555, Acc: 0.9769, F1: 0.9506\n",
      "  Valid - Loss: 0.0523, Acc: 0.9790, F1: 0.9633\n"
     ]
    },
    {
     "data": {
      "application/vnd.jupyter.widget-view+json": {
       "model_id": "5b9188d4e1f44f68b97907c1b9c3516b",
       "version_major": 2,
       "version_minor": 0
      },
      "text/plain": [
       "Epoch 6/10 [Train]:   0%|          | 0/361 [00:00<?, ?it/s]"
      ]
     },
     "metadata": {},
     "output_type": "display_data"
    },
    {
     "name": "stdout",
     "output_type": "stream",
     "text": [
      "Epoch 6 | LR: 3.00e-04\n",
      "  Train - Loss: 0.0547, Acc: 0.9766, F1: 0.9469\n",
      "  Valid - Loss: 0.0505, Acc: 0.9827, F1: 0.9725\n",
      "✅ Mejor modelo guardado en 'best_s2.pth' (valid_f1_macro=0.9725)\n"
     ]
    },
    {
     "data": {
      "application/vnd.jupyter.widget-view+json": {
       "model_id": "3b443fc425674af588a14204cf10f688",
       "version_major": 2,
       "version_minor": 0
      },
      "text/plain": [
       "Epoch 7/10 [Train]:   0%|          | 0/361 [00:00<?, ?it/s]"
      ]
     },
     "metadata": {},
     "output_type": "display_data"
    },
    {
     "name": "stdout",
     "output_type": "stream",
     "text": [
      "Epoch 7 | LR: 3.00e-04\n",
      "  Train - Loss: 0.0505, Acc: 0.9817, F1: 0.9634\n",
      "  Valid - Loss: 0.0487, Acc: 0.9855, F1: 0.9774\n",
      "✅ Mejor modelo guardado en 'best_s2.pth' (valid_f1_macro=0.9774)\n"
     ]
    },
    {
     "data": {
      "application/vnd.jupyter.widget-view+json": {
       "model_id": "67cfe45759e54503a09c986a1dd3110b",
       "version_major": 2,
       "version_minor": 0
      },
      "text/plain": [
       "Epoch 8/10 [Train]:   0%|          | 0/361 [00:00<?, ?it/s]"
      ]
     },
     "metadata": {},
     "output_type": "display_data"
    },
    {
     "name": "stdout",
     "output_type": "stream",
     "text": [
      "Epoch 8 | LR: 3.00e-04\n",
      "  Train - Loss: 0.0483, Acc: 0.9835, F1: 0.9660\n",
      "  Valid - Loss: 0.0501, Acc: 0.9840, F1: 0.9696\n"
     ]
    },
    {
     "data": {
      "application/vnd.jupyter.widget-view+json": {
       "model_id": "ef3515385da04e08979653c35ab1730b",
       "version_major": 2,
       "version_minor": 0
      },
      "text/plain": [
       "Epoch 9/10 [Train]:   0%|          | 0/361 [00:00<?, ?it/s]"
      ]
     },
     "metadata": {},
     "output_type": "display_data"
    },
    {
     "name": "stdout",
     "output_type": "stream",
     "text": [
      "Epoch 9 | LR: 3.00e-04\n",
      "  Train - Loss: 0.0483, Acc: 0.9841, F1: 0.9682\n",
      "  Valid - Loss: 0.0479, Acc: 0.9857, F1: 0.9759\n"
     ]
    },
    {
     "data": {
      "application/vnd.jupyter.widget-view+json": {
       "model_id": "0d75d229d06a45ce81b13b9ce799e106",
       "version_major": 2,
       "version_minor": 0
      },
      "text/plain": [
       "Epoch 10/10 [Train]:   0%|          | 0/361 [00:00<?, ?it/s]"
      ]
     },
     "metadata": {},
     "output_type": "display_data"
    },
    {
     "name": "stdout",
     "output_type": "stream",
     "text": [
      "Epoch 10 | LR: 3.00e-04\n",
      "  Train - Loss: 0.0481, Acc: 0.9832, F1: 0.9650\n",
      "  Valid - Loss: 0.0472, Acc: 0.9852, F1: 0.9693\n"
     ]
    }
   ],
   "source": [
    "# PASO 2\n",
    "for p in model.parameters():\n",
    "    p.requires_grad = False\n",
    "for p in model.layer4.parameters():\n",
    "    p.requires_grad = True\n",
    "for m in model.layer4.modules():  # BN de layer4 en train\n",
    "    if isinstance(m, nn.BatchNorm2d):\n",
    "        m.train()\n",
    "        m.requires_grad_(True)\n",
    "\n",
    "optimizer = torch.optim.AdamW(filter(lambda p: p.requires_grad, model.parameters()), lr=3e-4, weight_decay=1e-4)\n",
    "\n",
    "history_s2 = trainer.train(\n",
    "    model=model,\n",
    "    optimizer=optimizer,\n",
    "    criterion=criterion_focal,\n",
    "    data=data_dict,\n",
    "    epochs=10,\n",
    "    scheduler=scheduler,\n",
    "    tb_writer=writer,\n",
    "    early_stop_metric=early_stop_metric,\n",
    "    best_ckpt_path=\"best_s2.pth\",\n",
    ")"
   ]
  },
  {
   "cell_type": "markdown",
   "metadata": {
    "id": "x8IJsBjKQceL"
   },
   "source": [
    "### Fase 3 – Fine-tuning completo\n",
    "\n",
    "Entrenaremos todas las capas del modelo para ajustar completamente las representaciones y maximizar el rendimiento en el dominio específico."
   ]
  },
  {
   "cell_type": "code",
   "execution_count": null,
   "metadata": {
    "colab": {
     "base_uri": "https://localhost:8080/",
     "height": 513,
     "referenced_widgets": [
      "787191aac6ea469eabc0067936f09750",
      "82979bc8e1324bde85cc948abda89275",
      "9e08dfcf939648928a3aafd02bcd6cb7",
      "13299bfa251142b78971e3c6c85bef74",
      "b85a541f4d404bba9ddff175e4f5a3dc",
      "f5922b25302e424b9d7963a4582861e4",
      "8ff882ed78664406bf4f1f9163acb36c",
      "f4520932e69e4e488293a7fda1c818e8",
      "a01d7bd5af044fdca2532f2f8ebd0ac9",
      "e9cbbfb3060844adafc5f8e270e4d037",
      "a010c8ba62c34746bcf1e0cff6e2c8e4",
      "97ff35c76a484409ab328310d6d1e5a9",
      "ec25afb2b18843df8a970d05913ee377",
      "a453551e80ba4f7284b2bbb308f53011",
      "b2ddf155040145e2a0b81f7607f491ef",
      "af7a6481a62e4ac7a36a2f347c726b7b",
      "a9278d07d52846f1ad9d472d6c7ddc9e",
      "89760c03971f47c98ee8a6baa45e3b88",
      "5896aed472ee466e841f3cf06c1f0056",
      "667df1b04ded4053aaab38ec1dffc937",
      "da6f4218af6c473a8bc8d067b9bf1fed",
      "6709f944d5f444ed8f978d05619284c1",
      "9efb48aa539444e2b6e435ec322ada0b",
      "982d3cd9530b446b9a00a95d9b4314fa",
      "2678ee699e0446b9a62588b4d6c83c0e",
      "cdd326b7cbe14c57b32b3ef660b27df7",
      "bc9c0d38592d4941ac559c334b111c17",
      "40eb50e9825b49b8a5fe47e5d12d84b6",
      "94ba91f6163b45219a4e09b604a39218",
      "f5f7fdeb27ae4aca9006ce6738dc3b2f",
      "7287eab2c5d54bd2ba1d0b18bcd2bd30",
      "46bc101ce6b24b04b74402636b43670f",
      "ad0c4086ca4f4041a4d8caa7c45be2ec",
      "cb7d725a9b1842328ecf842e2b6c328b",
      "7a64df4fd4e9489baa7fbf9701efbce8",
      "0a3982b665504645988c0c0b96624dd2",
      "0b6f10786b94455daf6c04cf3f7b56ac",
      "59a2e0b175d743e5ba8411bae94462c6",
      "5b88b1c1113e4a04bbd13718f0bec0b0",
      "499e87ecbc4c43ee86a7ca54d408ba41",
      "bf98c12ecfc24cc7a5fee267eb09a731",
      "5f2402c44c8945e3bf1150da2707c457",
      "967826c0a0b94c0dbb86db377e1a86e6",
      "be055058ad78406987c20fd230610a2a",
      "15aebe4e245747128ba750ab36d1cabd",
      "9c561527a40949b5b5b3aead4fb46694",
      "8f6f99ade55b458e88dfdd482d3e5fb5",
      "2660d44567a84be6a719dbdd55c6f13f",
      "8e10c84243ac42d6a76d8cf4e60bf13c",
      "bcb50254862e4c398708ffe3dcd75b73",
      "b7936d2bb0714ac4b87c77494ab9f8ae",
      "648a53e13dda4521958971ff18c2eab0",
      "2db267fc20fa4d32a47fed01147a92d0",
      "c30bf7f9f8da4eae91f38e1e150a43db",
      "3561d3a27fb0498bbe319fe25952587e",
      "0ff1bfbf805c4fe8832a6f6bbc113d49",
      "bb91cb41ad15428e8daa66ccfe85d10a",
      "e7ca7c26c3bb403283b3b26b9dd2a840",
      "319cd35c9b44498fa55931eed040e84c",
      "c4300e97b5ad41418b314ff434628f77",
      "2f6e32d46bd24d7294b8ebef3ab63224",
      "778407643f73499b8bd1e1832e6c4e15",
      "8f1c430851244dca996ad2bbe09e603a",
      "44d37314de034870bad05a4a051c063a",
      "101cff5d53ea4d21b49b929f2655e063",
      "2537ec712614469c915d72d5e21116fe"
     ]
    },
    "id": "rHYWKH88QdMh",
    "outputId": "cf4a33aa-7c8f-44f0-fda7-e39b5c324e12"
   },
   "outputs": [
    {
     "data": {
      "application/vnd.jupyter.widget-view+json": {
       "model_id": "787191aac6ea469eabc0067936f09750",
       "version_major": 2,
       "version_minor": 0
      },
      "text/plain": [
       "Epoch 1/12 [Train]:   0%|          | 0/361 [00:00<?, ?it/s]"
      ]
     },
     "metadata": {},
     "output_type": "display_data"
    },
    {
     "name": "stdout",
     "output_type": "stream",
     "text": [
      "Epoch 1 | LR: 1.00e-04\n",
      "  Train - Loss: 0.0496, Acc: 0.9817, F1: 0.9650\n",
      "  Valid - Loss: 0.0513, Acc: 0.9818, F1: 0.9746\n",
      "✅ Mejor modelo guardado en 'best_s3.pth' (valid_f1_macro=0.9746)\n"
     ]
    },
    {
     "data": {
      "application/vnd.jupyter.widget-view+json": {
       "model_id": "97ff35c76a484409ab328310d6d1e5a9",
       "version_major": 2,
       "version_minor": 0
      },
      "text/plain": [
       "Epoch 2/12 [Train]:   0%|          | 0/361 [00:00<?, ?it/s]"
      ]
     },
     "metadata": {},
     "output_type": "display_data"
    },
    {
     "name": "stdout",
     "output_type": "stream",
     "text": [
      "Epoch 2 | LR: 1.00e-04\n",
      "  Train - Loss: 0.0455, Acc: 0.9863, F1: 0.9745\n",
      "  Valid - Loss: 0.0529, Acc: 0.9773, F1: 0.9744\n"
     ]
    },
    {
     "data": {
      "application/vnd.jupyter.widget-view+json": {
       "model_id": "9efb48aa539444e2b6e435ec322ada0b",
       "version_major": 2,
       "version_minor": 0
      },
      "text/plain": [
       "Epoch 3/12 [Train]:   0%|          | 0/361 [00:00<?, ?it/s]"
      ]
     },
     "metadata": {},
     "output_type": "display_data"
    },
    {
     "name": "stdout",
     "output_type": "stream",
     "text": [
      "Epoch 3 | LR: 1.00e-04\n",
      "  Train - Loss: 0.0426, Acc: 0.9899, F1: 0.9794\n",
      "  Valid - Loss: 0.0449, Acc: 0.9895, F1: 0.9869\n",
      "✅ Mejor modelo guardado en 'best_s3.pth' (valid_f1_macro=0.9869)\n"
     ]
    },
    {
     "data": {
      "application/vnd.jupyter.widget-view+json": {
       "model_id": "cb7d725a9b1842328ecf842e2b6c328b",
       "version_major": 2,
       "version_minor": 0
      },
      "text/plain": [
       "Epoch 4/12 [Train]:   0%|          | 0/361 [00:00<?, ?it/s]"
      ]
     },
     "metadata": {},
     "output_type": "display_data"
    },
    {
     "name": "stdout",
     "output_type": "stream",
     "text": [
      "Epoch 4 | LR: 1.00e-04\n",
      "  Train - Loss: 0.0415, Acc: 0.9908, F1: 0.9824\n",
      "  Valid - Loss: 0.0447, Acc: 0.9893, F1: 0.9865\n"
     ]
    },
    {
     "data": {
      "application/vnd.jupyter.widget-view+json": {
       "model_id": "15aebe4e245747128ba750ab36d1cabd",
       "version_major": 2,
       "version_minor": 0
      },
      "text/plain": [
       "Epoch 5/12 [Train]:   0%|          | 0/361 [00:00<?, ?it/s]"
      ]
     },
     "metadata": {},
     "output_type": "display_data"
    },
    {
     "name": "stdout",
     "output_type": "stream",
     "text": [
      "Epoch 5 | LR: 1.00e-04\n",
      "  Train - Loss: 0.0408, Acc: 0.9917, F1: 0.9837\n",
      "  Valid - Loss: 0.0440, Acc: 0.9870, F1: 0.9855\n"
     ]
    },
    {
     "data": {
      "application/vnd.jupyter.widget-view+json": {
       "model_id": "0ff1bfbf805c4fe8832a6f6bbc113d49",
       "version_major": 2,
       "version_minor": 0
      },
      "text/plain": [
       "Epoch 6/12 [Train]:   0%|          | 0/361 [00:00<?, ?it/s]"
      ]
     },
     "metadata": {},
     "output_type": "display_data"
    }
   ],
   "source": [
    "model.load_state_dict(torch.load(\"best_s2.pth\", map_location=device))\n",
    "\n",
    "for p in model.parameters():\n",
    "    p.requires_grad = True\n",
    "\n",
    "optimizer = torch.optim.AdamW(model.parameters(), lr=1e-4, weight_decay=1e-4)\n",
    "history_s3 = trainer.train(\n",
    "    model=model,\n",
    "    optimizer=optimizer,\n",
    "    criterion=criterion_focal,\n",
    "    data=data_dict,\n",
    "    epochs=12,\n",
    "    scheduler=scheduler,\n",
    "    tb_writer=writer,\n",
    "    early_stop_metric=early_stop_metric,\n",
    "    best_ckpt_path=\"best_s3.pth\",\n",
    ")"
   ]
  },
  {
   "metadata": {},
   "cell_type": "markdown",
   "source": "Se puede apreciar como en cada fase el learning rate disminuye. Lo hicimos así para evitar cambios bruscos en las características aprendidas por el modelo y no ser agresivos en la destrucción de las características pre entrenadas "
  },
  {
   "cell_type": "markdown",
   "metadata": {
    "id": "7kIPuDL5Qeid"
   },
   "source": "## Validacion"
  },
  {
   "cell_type": "code",
   "execution_count": 18,
   "metadata": {
    "colab": {
     "base_uri": "https://localhost:8080/"
    },
    "id": "myaYwMP86PGp",
    "outputId": "1640a825-beaf-4c2d-b1b7-282c7d9bc774"
   },
   "outputs": [
    {
     "data": {
      "text/plain": [
       "<All keys matched successfully>"
      ]
     },
     "execution_count": 18,
     "metadata": {},
     "output_type": "execute_result"
    }
   ],
   "source": [
    "in_features = model.fc.in_features\n",
    "model.fc = nn.Linear(in_features, NUM_CLASSES)\n",
    "model = model.to(device)\n",
    "state = torch.load(\"/content/best_s3_4.pth\", map_location=device)\n",
    "model.load_state_dict(state)"
   ]
  },
  {
   "cell_type": "code",
   "execution_count": null,
   "metadata": {
    "colab": {
     "base_uri": "https://localhost:8080/"
    },
    "id": "ffmDUJqSQoH6",
    "outputId": "ab7c98eb-effe-4490-9e5d-c41626ed4565"
   },
   "outputs": [
    {
     "name": "stdout",
     "output_type": "stream",
     "text": [
      "ID de la clase 'Sano': 12\n",
      "Accuracy global: 0.9806\n",
      "Recall clase 'Sano': 0.9576\n",
      "F1-score clase 'Sano': 0.9783\n",
      "Recall enfermedades (combinadas): 1.0000\n",
      "F1-score enfermedades (combinadas): 0.9919\n"
     ]
    }
   ],
   "source": [
    "acc, r_sano, f1_sano, r_enf, f1_enf = metrics.eval_metrics(\n",
    "    model, valid_loader, device, label_map=label_map\n",
    ")\n",
    "\n",
    "print(f\"Accuracy global: {acc:.4f}\")\n",
    "print(f\"Recall clase 'Sano': {r_sano:.4f}\")\n",
    "print(f\"F1-score clase 'Sano': {f1_sano:.4f}\")\n",
    "print(f\"Recall enfermedades (combinadas): {r_enf:.4f}\")\n",
    "print(f\"F1-score enfermedades (combinadas): {f1_enf:.4f}\")"
   ]
  },
  {
   "cell_type": "code",
   "execution_count": 22,
   "metadata": {
    "colab": {
     "base_uri": "https://localhost:8080/"
    },
    "id": "UeghSnKf6_JU",
    "outputId": "f471919d-6d87-4e19-d31f-32dfb87d5799"
   },
   "outputs": [
    {
     "name": "stdout",
     "output_type": "stream",
     "text": [
      "\n",
      "Class Weights: equilibrando el aprendizaje\n",
      "\n",
      "              Precision     Recall   F1-score\n",
      "----------------------------------------------\n",
      "Sanas            0.9996     0.9947     0.9971\n",
      "Enfermas         0.9980     0.9998     0.9989\n"
     ]
    }
   ],
   "source": "res = metrics.metrics_sano_enfermo(model, valid_loader, device, label_map)"
  },
  {
   "cell_type": "code",
   "execution_count": null,
   "metadata": {
    "colab": {
     "base_uri": "https://localhost:8080/"
    },
    "id": "yAQTMp6vQtw-",
    "outputId": "37d63ccf-0d0d-4222-8e5a-9d762e9461cd"
   },
   "outputs": [
    {
     "name": "stdout",
     "output_type": "stream",
     "text": [
      "Confusion matrix shape: (21, 21)\n"
     ]
    }
   ],
   "source": [
    "@torch.no_grad()\n",
    "def preds_targets(model, loader, device):\n",
    "    model.eval()\n",
    "    ys, ps = [], []\n",
    "    for x, y in loader:\n",
    "        x = x.to(device)\n",
    "        y = y.to(device)\n",
    "        p = model(x).argmax(1)\n",
    "        ys.append(y.cpu().numpy())\n",
    "        ps.append(p.cpu().numpy())\n",
    "    return np.concatenate(ys), np.concatenate(ps)\n",
    "\n",
    "\n",
    "y_true, y_pred = preds_targets(model, valid_loader, device)\n",
    "cm = confusion_matrix(y_true, y_pred)\n",
    "print(\"Confusion matrix shape:\", cm.shape)"
   ]
  },
  {
   "cell_type": "code",
   "execution_count": null,
   "metadata": {
    "colab": {
     "base_uri": "https://localhost:8080/"
    },
    "id": "dekvoINCQvuP",
    "outputId": "157dc7c3-519d-47f7-e88c-5e2afc8da099"
   },
   "outputs": [
    {
     "name": "stdout",
     "output_type": "stream",
     "text": [
      "                                                   precision    recall  f1-score   support\n",
      "\n",
      "                                             Esca       1.00      1.00      1.00       207\n",
      "  Huanglongbing (enverdecimiento de los cítricos)       1.00      1.00      1.00       826\n",
      "                                Mancha bacteriana       1.00      0.99      0.99       813\n",
      "                                     Mancha diana       0.94      1.00      0.97       211\n",
      "Mancha foliar por cercospora / mancha foliar gris       0.90      0.96      0.93        77\n",
      "                       Mancha foliar por septoria       1.00      0.99      0.99       266\n",
      "                                  Moho de la hoja       1.00      1.00      1.00       143\n",
      "                                            Oídio       1.00      1.00      1.00       433\n",
      "                                Podredumbre negra       1.00      1.00      1.00       270\n",
      "                             Quemadura de la hoja       1.00      1.00      1.00       166\n",
      "                                       Roya común       1.00      0.99      1.00       179\n",
      "                         Roya del manzano y cedro       1.00      1.00      1.00        41\n",
      "                                             Sano       1.00      0.99      1.00      2263\n",
      "                                            Sarna       1.00      1.00      1.00        95\n",
      "                                 Tizón de la hoja       1.00      1.00      1.00       161\n",
      "                           Tizón foliar del norte       0.97      0.97      0.97       148\n",
      "                                     Tizón tardío       0.99      0.98      0.98       436\n",
      "                                   Tizón temprano       0.97      1.00      0.99       300\n",
      "                                Virus del mosaico       1.00      1.00      1.00        56\n",
      "             Virus del rizado amarillo de la hoja       1.00      1.00      1.00       804\n",
      "                      Ácaros araña de dos manchas       1.00      0.97      0.98       251\n",
      "\n",
      "                                         accuracy                           0.99      8146\n",
      "                                        macro avg       0.99      0.99      0.99      8146\n",
      "                                     weighted avg       0.99      0.99      0.99      8146\n",
      "\n"
     ]
    }
   ],
   "source": [
    "class_names = sorted(train_df[\"Label\"].unique().tolist())\n",
    "print(classification_report(y_true, y_pred, target_names=class_names))"
   ]
  },
  {
   "cell_type": "code",
   "execution_count": 29,
   "metadata": {
    "colab": {
     "base_uri": "https://localhost:8080/",
     "height": 987
    },
    "id": "MQLwd9fO_I3J",
    "outputId": "c92c9e6c-e043-4119-ea46-8c8ab42ac791"
   },
   "outputs": [
    {
     "data": {
      "image/png": "[encoded data removed]",
      "text/plain": [
       "<Figure size 1100x1100 with 2 Axes>"
      ]
     },
     "metadata": {},
     "output_type": "display_data"
    }
   ],
   "source": "utils.plot_confusion_matrix_blue(y_true, y_pred, class_names, normalize=False)"
  },
  {
   "metadata": {},
   "cell_type": "markdown",
   "source": [
    "## Conclusiones\n",
    "\n",
    "Comparando los resultados con el modelo baseline vemos claras mejoras:\n",
    "\n",
    "- La precision de la clase sana pasó de 0.92 a 0.99, somos mejores prediciendo hojas sin enfermedades. Pudimos corregir casos dónde las hojas presentaban signos casi impercetibles de enfermedad por ejemplo mancha diana y ácaros araña de dos manchas. Este último solo tuvo un falso positivo.\n",
    "\n",
    "\n",
    "- El recall de las enfermedades mejoró notablemente llegando a 0.9998. Prácticamente no se le escapan casos de enfermedad, lo que es crucial en aplicaciones donde un falso negativo puede tener un impacto grave (en este caso, no tratar una planta enferma).\n",
    "\n",
    "Las confusiones entre clases similares se reducen drásticamente. Partiendo del análisis en el que analizamos enfermedades similares podemos ver:\n",
    "\n",
    "Si bien el modelo sigue confundiendo Mancha foliar gris y Tizón foliar del norte, el total de casos se redujo en un 68%. Más marcado es el caso de Mancha foliar por septoria y mancha bacteriana en el cuál el modelo casi que no se equivoca. \n",
    "\n",
    "\n",
    "Podemos afirmar qué las técnicas utilizadas como el entrenamiento en múltiples pasos, ajuste de FocalLoss con pesos de clase y la optimización progresiva del learning rate mediante ReduceLROnPlateau lograron mejorar trascendentalmente el modelo comparandolo con el baseline."
   ]
  },
  {
   "metadata": {},
   "cell_type": "code",
   "outputs": [],
   "execution_count": null,
   "source": ""
  }
 ],
 "metadata": {
  "accelerator": "GPU",
  "colab": {
   "gpuType": "T4",
   "provenance": [],
   "toc_visible": true
  },
  "kernelspec": {
   "display_name": "Python 3 (ipykernel)",
   "name": "python3",
   "language": "python"
  },
  "language_info": {
   "name": "python"
  }
 },
 "nbformat": 4,
 "nbformat_minor": 0
}
