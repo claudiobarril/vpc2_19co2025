{
 "cells": [
  {
   "cell_type": "code",
   "id": "initial_id",
   "metadata": {
    "collapsed": true,
    "ExecuteTime": {
     "end_time": "2025-07-24T01:57:29.231437Z",
     "start_time": "2025-07-24T01:57:29.223885Z"
    }
   },
   "source": [
    "from torchvision.models import ResNet50_Weights\n",
    "\n",
    "import src.utils as utils\n",
    "import os\n",
    "import numpy as np\n",
    "import pandas as pd\n",
    "from PIL import Image\n",
    "import torch\n",
    "from torch.utils.data import Dataset, DataLoader\n",
    "from torchvision import models, transforms\n",
    "import torch.nn as nn\n",
    "import torch.optim as optim\n",
    "from sklearn.model_selection import train_test_split\n"
   ],
   "outputs": [],
   "execution_count": 17
  },
  {
   "metadata": {
    "ExecuteTime": {
     "end_time": "2025-07-24T01:46:42.410885Z",
     "start_time": "2025-07-24T01:45:47.704675Z"
    }
   },
   "cell_type": "code",
   "source": [
    "df = utils.build_dataset('data/plantvillage/plantvillage dataset')\n",
    "df"
   ],
   "id": "c2ade5393cc36b9f",
   "outputs": [
    {
     "data": {
      "text/plain": [
       "           Format Species  Healthy                        Disease  \\\n",
       "0           color   Apple    False                     Apple_scab   \n",
       "1           color   Apple    False                     Apple_scab   \n",
       "2           color   Apple    False                     Apple_scab   \n",
       "3           color   Apple    False                     Apple_scab   \n",
       "4           color   Apple    False                     Apple_scab   \n",
       "...           ...     ...      ...                            ...   \n",
       "162911  segmented  Tomato    False  Tomato_Yellow_Leaf_Curl_Virus   \n",
       "162912  segmented  Tomato    False  Tomato_Yellow_Leaf_Curl_Virus   \n",
       "162913  segmented  Tomato    False  Tomato_Yellow_Leaf_Curl_Virus   \n",
       "162914  segmented  Tomato    False  Tomato_Yellow_Leaf_Curl_Virus   \n",
       "162915  segmented  Tomato    False  Tomato_Yellow_Leaf_Curl_Virus   \n",
       "\n",
       "                                                   Folder  \\\n",
       "0       data/plantvillage/plantvillage dataset\\color\\A...   \n",
       "1       data/plantvillage/plantvillage dataset\\color\\A...   \n",
       "2       data/plantvillage/plantvillage dataset\\color\\A...   \n",
       "3       data/plantvillage/plantvillage dataset\\color\\A...   \n",
       "4       data/plantvillage/plantvillage dataset\\color\\A...   \n",
       "...                                                   ...   \n",
       "162911  data/plantvillage/plantvillage dataset\\segment...   \n",
       "162912  data/plantvillage/plantvillage dataset\\segment...   \n",
       "162913  data/plantvillage/plantvillage dataset\\segment...   \n",
       "162914  data/plantvillage/plantvillage dataset\\segment...   \n",
       "162915  data/plantvillage/plantvillage dataset\\segment...   \n",
       "\n",
       "                                                 FileName  \n",
       "0       00075aa8-d81a-4184-8541-b692b78d398a___FREC_Sc...  \n",
       "1       01a66316-0e98-4d3b-a56f-d78752cd043f___FREC_Sc...  \n",
       "2       01f3deaa-6143-4b6c-9c22-620a46d8be04___FREC_Sc...  \n",
       "3       0208f4eb-45a4-4399-904e-989ac2c6257c___FREC_Sc...  \n",
       "4       023123cb-7b69-4c9f-a521-766d7c8543bb___FREC_Sc...  \n",
       "...                                                   ...  \n",
       "162911  ffb295c9-f14e-4a15-831a-bf905da7fcb6___UF.GRC_...  \n",
       "162912  ffe08ccc-c55e-4ca2-9234-2906b98b8d05___YLCV_NR...  \n",
       "162913  ffe996e5-c8dc-47b7-bca2-4fc25e5ac57c___UF.GRC_...  \n",
       "162914  fff42f1b-7ec4-46e3-9269-45932e63635e___YLCV_GC...  \n",
       "162915  fff6bf83-797c-4de4-83f7-39b74786fec4___UF.GRC_...  \n",
       "\n",
       "[162916 rows x 6 columns]"
      ],
      "text/html": [
       "<div>\n",
       "<style scoped>\n",
       "    .dataframe tbody tr th:only-of-type {\n",
       "        vertical-align: middle;\n",
       "    }\n",
       "\n",
       "    .dataframe tbody tr th {\n",
       "        vertical-align: top;\n",
       "    }\n",
       "\n",
       "    .dataframe thead th {\n",
       "        text-align: right;\n",
       "    }\n",
       "</style>\n",
       "<table border=\"1\" class=\"dataframe\">\n",
       "  <thead>\n",
       "    <tr style=\"text-align: right;\">\n",
       "      <th></th>\n",
       "      <th>Format</th>\n",
       "      <th>Species</th>\n",
       "      <th>Healthy</th>\n",
       "      <th>Disease</th>\n",
       "      <th>Folder</th>\n",
       "      <th>FileName</th>\n",
       "    </tr>\n",
       "  </thead>\n",
       "  <tbody>\n",
       "    <tr>\n",
       "      <th>0</th>\n",
       "      <td>color</td>\n",
       "      <td>Apple</td>\n",
       "      <td>False</td>\n",
       "      <td>Apple_scab</td>\n",
       "      <td>data/plantvillage/plantvillage dataset\\color\\A...</td>\n",
       "      <td>00075aa8-d81a-4184-8541-b692b78d398a___FREC_Sc...</td>\n",
       "    </tr>\n",
       "    <tr>\n",
       "      <th>1</th>\n",
       "      <td>color</td>\n",
       "      <td>Apple</td>\n",
       "      <td>False</td>\n",
       "      <td>Apple_scab</td>\n",
       "      <td>data/plantvillage/plantvillage dataset\\color\\A...</td>\n",
       "      <td>01a66316-0e98-4d3b-a56f-d78752cd043f___FREC_Sc...</td>\n",
       "    </tr>\n",
       "    <tr>\n",
       "      <th>2</th>\n",
       "      <td>color</td>\n",
       "      <td>Apple</td>\n",
       "      <td>False</td>\n",
       "      <td>Apple_scab</td>\n",
       "      <td>data/plantvillage/plantvillage dataset\\color\\A...</td>\n",
       "      <td>01f3deaa-6143-4b6c-9c22-620a46d8be04___FREC_Sc...</td>\n",
       "    </tr>\n",
       "    <tr>\n",
       "      <th>3</th>\n",
       "      <td>color</td>\n",
       "      <td>Apple</td>\n",
       "      <td>False</td>\n",
       "      <td>Apple_scab</td>\n",
       "      <td>data/plantvillage/plantvillage dataset\\color\\A...</td>\n",
       "      <td>0208f4eb-45a4-4399-904e-989ac2c6257c___FREC_Sc...</td>\n",
       "    </tr>\n",
       "    <tr>\n",
       "      <th>4</th>\n",
       "      <td>color</td>\n",
       "      <td>Apple</td>\n",
       "      <td>False</td>\n",
       "      <td>Apple_scab</td>\n",
       "      <td>data/plantvillage/plantvillage dataset\\color\\A...</td>\n",
       "      <td>023123cb-7b69-4c9f-a521-766d7c8543bb___FREC_Sc...</td>\n",
       "    </tr>\n",
       "    <tr>\n",
       "      <th>...</th>\n",
       "      <td>...</td>\n",
       "      <td>...</td>\n",
       "      <td>...</td>\n",
       "      <td>...</td>\n",
       "      <td>...</td>\n",
       "      <td>...</td>\n",
       "    </tr>\n",
       "    <tr>\n",
       "      <th>162911</th>\n",
       "      <td>segmented</td>\n",
       "      <td>Tomato</td>\n",
       "      <td>False</td>\n",
       "      <td>Tomato_Yellow_Leaf_Curl_Virus</td>\n",
       "      <td>data/plantvillage/plantvillage dataset\\segment...</td>\n",
       "      <td>ffb295c9-f14e-4a15-831a-bf905da7fcb6___UF.GRC_...</td>\n",
       "    </tr>\n",
       "    <tr>\n",
       "      <th>162912</th>\n",
       "      <td>segmented</td>\n",
       "      <td>Tomato</td>\n",
       "      <td>False</td>\n",
       "      <td>Tomato_Yellow_Leaf_Curl_Virus</td>\n",
       "      <td>data/plantvillage/plantvillage dataset\\segment...</td>\n",
       "      <td>ffe08ccc-c55e-4ca2-9234-2906b98b8d05___YLCV_NR...</td>\n",
       "    </tr>\n",
       "    <tr>\n",
       "      <th>162913</th>\n",
       "      <td>segmented</td>\n",
       "      <td>Tomato</td>\n",
       "      <td>False</td>\n",
       "      <td>Tomato_Yellow_Leaf_Curl_Virus</td>\n",
       "      <td>data/plantvillage/plantvillage dataset\\segment...</td>\n",
       "      <td>ffe996e5-c8dc-47b7-bca2-4fc25e5ac57c___UF.GRC_...</td>\n",
       "    </tr>\n",
       "    <tr>\n",
       "      <th>162914</th>\n",
       "      <td>segmented</td>\n",
       "      <td>Tomato</td>\n",
       "      <td>False</td>\n",
       "      <td>Tomato_Yellow_Leaf_Curl_Virus</td>\n",
       "      <td>data/plantvillage/plantvillage dataset\\segment...</td>\n",
       "      <td>fff42f1b-7ec4-46e3-9269-45932e63635e___YLCV_GC...</td>\n",
       "    </tr>\n",
       "    <tr>\n",
       "      <th>162915</th>\n",
       "      <td>segmented</td>\n",
       "      <td>Tomato</td>\n",
       "      <td>False</td>\n",
       "      <td>Tomato_Yellow_Leaf_Curl_Virus</td>\n",
       "      <td>data/plantvillage/plantvillage dataset\\segment...</td>\n",
       "      <td>fff6bf83-797c-4de4-83f7-39b74786fec4___UF.GRC_...</td>\n",
       "    </tr>\n",
       "  </tbody>\n",
       "</table>\n",
       "<p>162916 rows × 6 columns</p>\n",
       "</div>"
      ]
     },
     "execution_count": 2,
     "metadata": {},
     "output_type": "execute_result"
    }
   ],
   "execution_count": 2
  },
  {
   "metadata": {
    "ExecuteTime": {
     "end_time": "2025-07-24T01:57:20.308330Z",
     "start_time": "2025-07-24T01:57:20.299665Z"
    }
   },
   "cell_type": "code",
   "source": [
    "class PlantDataset(Dataset):\n",
    "    def __init__(self, df, transform=None):\n",
    "        self.df = df\n",
    "        self.transform = transform\n",
    "\n",
    "    def __len__(self):\n",
    "        return len(self.df)\n",
    "\n",
    "    def __getitem__(self, idx):\n",
    "        img_path = os.path.join(self.df.iloc[idx]['Folder'], self.df.iloc[idx]['FileName'])\n",
    "        image = Image.open(img_path).convert('RGB')\n",
    "        label = 1 if self.df.iloc[idx]['Healthy'] else 0  # binary classification\n",
    "\n",
    "        if self.transform:\n",
    "            image = self.transform(image)\n",
    "        return image, label\n"
   ],
   "id": "8a7fe64b3466819f",
   "outputs": [],
   "execution_count": 12
  },
  {
   "metadata": {
    "ExecuteTime": {
     "end_time": "2025-07-24T01:57:21.048675Z",
     "start_time": "2025-07-24T01:57:21.041427Z"
    }
   },
   "cell_type": "code",
   "source": [
    "train_transform = transforms.Compose([\n",
    "    transforms.RandomHorizontalFlip(),\n",
    "    transforms.RandomRotation(15),\n",
    "    transforms.ColorJitter(brightness=0.2, contrast=0.2),\n",
    "    transforms.Resize((224, 224)),\n",
    "    transforms.ToTensor()\n",
    "])\n",
    "\n",
    "val_transform = transforms.Compose([\n",
    "    transforms.Resize((224, 224)),\n",
    "    transforms.ToTensor()\n",
    "])"
   ],
   "id": "79c037ba65f2f797",
   "outputs": [],
   "execution_count": 13
  },
  {
   "metadata": {
    "ExecuteTime": {
     "end_time": "2025-07-24T01:57:22.238337Z",
     "start_time": "2025-07-24T01:57:22.059251Z"
    }
   },
   "cell_type": "code",
   "source": [
    "df = df[df['Healthy'].notna()]  # eliminamos filas sin etiqueta\n",
    "\n",
    "train_df, val_df = train_test_split(df, test_size=0.2, stratify=df['Healthy'], random_state=42)\n",
    "\n",
    "train_dataset = PlantDataset(train_df, transform=train_transform)\n",
    "val_dataset = PlantDataset(val_df, transform=val_transform)\n",
    "\n",
    "train_loader = DataLoader(train_dataset, batch_size=32, shuffle=True)\n",
    "val_loader = DataLoader(val_dataset, batch_size=32)"
   ],
   "id": "d1767a245f32c8f9",
   "outputs": [],
   "execution_count": 14
  },
  {
   "metadata": {
    "ExecuteTime": {
     "end_time": "2025-07-24T01:57:23.045776Z",
     "start_time": "2025-07-24T01:57:23.038075Z"
    }
   },
   "cell_type": "code",
   "source": [
    "device = \"cpu\"\n",
    "if torch.cuda.is_available():\n",
    "  device = \"cuda:0\"\n",
    "\n",
    "device"
   ],
   "id": "714d33a2657fc4d7",
   "outputs": [
    {
     "data": {
      "text/plain": [
       "'cuda:0'"
      ]
     },
     "execution_count": 15,
     "metadata": {},
     "output_type": "execute_result"
    }
   ],
   "execution_count": 15
  },
  {
   "metadata": {
    "ExecuteTime": {
     "end_time": "2025-07-24T01:57:37.545437Z",
     "start_time": "2025-07-24T01:57:34.163063Z"
    }
   },
   "cell_type": "code",
   "source": [
    "device = torch.device(\"cuda\" if torch.cuda.is_available() else \"cpu\")\n",
    "\n",
    "model = models.resnet50(weights=ResNet50_Weights.DEFAULT)\n",
    "\n",
    "# Reemplazamos la última capa para clasificación binaria\n",
    "num_ftrs = model.fc.in_features\n",
    "model.fc = nn.Linear(num_ftrs, 1)\n",
    "\n",
    "model = model.to(device)\n"
   ],
   "id": "73d97dd864f4c2",
   "outputs": [
    {
     "name": "stderr",
     "output_type": "stream",
     "text": [
      "Downloading: \"https://download.pytorch.org/models/resnet50-11ad3fa6.pth\" to C:\\Users\\chris/.cache\\torch\\hub\\checkpoints\\resnet50-11ad3fa6.pth\n",
      "100%|██████████| 97.8M/97.8M [00:02<00:00, 37.6MB/s]\n"
     ]
    }
   ],
   "execution_count": 18
  },
  {
   "metadata": {
    "jupyter": {
     "is_executing": true
    },
    "ExecuteTime": {
     "start_time": "2025-07-24T01:57:58.498913Z"
    }
   },
   "cell_type": "code",
   "source": [
    "criterion = nn.BCEWithLogitsLoss()  # para clasificación binaria\n",
    "optimizer = optim.Adam(model.parameters(), lr=1e-4)\n",
    "\n",
    "for epoch in range(5):\n",
    "    model.train()\n",
    "    running_loss = 0.0\n",
    "    for inputs, labels in train_loader:\n",
    "        inputs, labels = inputs.to(device), labels.to(device).float().unsqueeze(1)\n",
    "\n",
    "        optimizer.zero_grad()\n",
    "        outputs = model(inputs)\n",
    "        loss = criterion(outputs, labels)\n",
    "        loss.backward()\n",
    "        optimizer.step()\n",
    "\n",
    "        running_loss += loss.item()\n",
    "\n",
    "    print(f\"Epoch {epoch+1}, Loss: {running_loss/len(train_loader):.4f}\")\n"
   ],
   "id": "27e022b2a6bb1c1c",
   "outputs": [],
   "execution_count": null
  }
 ],
 "metadata": {
  "kernelspec": {
   "display_name": "Python 3",
   "language": "python",
   "name": "python3"
  },
  "language_info": {
   "codemirror_mode": {
    "name": "ipython",
    "version": 2
   },
   "file_extension": ".py",
   "mimetype": "text/x-python",
   "name": "python",
   "nbconvert_exporter": "python",
   "pygments_lexer": "ipython2",
   "version": "2.7.6"
  }
 },
 "nbformat": 4,
 "nbformat_minor": 5
}
