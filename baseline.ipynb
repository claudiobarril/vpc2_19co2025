{
 "cells": [
  {
   "cell_type": "code",
   "id": "initial_id",
   "metadata": {
    "collapsed": true,
    "ExecuteTime": {
     "end_time": "2025-07-25T21:47:52.225841Z",
     "start_time": "2025-07-25T21:47:52.218825Z"
    }
   },
   "source": [
    "from keras.src.utils import to_categorical\n",
    "from sklearn.preprocessing import LabelEncoder\n",
    "\n",
    "import src.utils as utils\n",
    "import os\n",
    "import numpy as np\n",
    "from tensorflow.keras.preprocessing.image import ImageDataGenerator\n",
    "from tensorflow.keras.preprocessing import image\n",
    "from tensorflow.keras.applications import ResNet50\n",
    "from tensorflow.keras.models import Model\n",
    "from tensorflow.keras.layers import GlobalAveragePooling2D, Dense, Dropout, Input\n",
    "from tensorflow.keras.optimizers import Adam\n",
    "from sklearn.model_selection import train_test_split"
   ],
   "outputs": [],
   "execution_count": 8
  },
  {
   "metadata": {
    "ExecuteTime": {
     "end_time": "2025-07-25T21:47:53.826418Z",
     "start_time": "2025-07-25T21:47:52.227695Z"
    }
   },
   "cell_type": "code",
   "source": [
    "df = utils.build_dataset('data/plantvillage/plantvillage dataset')\n",
    "df"
   ],
   "id": "c2ade5393cc36b9f",
   "outputs": [
    {
     "data": {
      "text/plain": [
       "           Format     Species  Healthy Disease  \\\n",
       "0           color  Strawberry     True    None   \n",
       "1           color  Strawberry     True    None   \n",
       "2           color  Strawberry     True    None   \n",
       "3           color  Strawberry     True    None   \n",
       "4           color  Strawberry     True    None   \n",
       "...           ...         ...      ...     ...   \n",
       "162911  segmented     Soybean     True    None   \n",
       "162912  segmented     Soybean     True    None   \n",
       "162913  segmented     Soybean     True    None   \n",
       "162914  segmented     Soybean     True    None   \n",
       "162915  segmented     Soybean     True    None   \n",
       "\n",
       "                                                   Folder  \\\n",
       "0       data/plantvillage/plantvillage dataset/color/S...   \n",
       "1       data/plantvillage/plantvillage dataset/color/S...   \n",
       "2       data/plantvillage/plantvillage dataset/color/S...   \n",
       "3       data/plantvillage/plantvillage dataset/color/S...   \n",
       "4       data/plantvillage/plantvillage dataset/color/S...   \n",
       "...                                                   ...   \n",
       "162911  data/plantvillage/plantvillage dataset/segment...   \n",
       "162912  data/plantvillage/plantvillage dataset/segment...   \n",
       "162913  data/plantvillage/plantvillage dataset/segment...   \n",
       "162914  data/plantvillage/plantvillage dataset/segment...   \n",
       "162915  data/plantvillage/plantvillage dataset/segment...   \n",
       "\n",
       "                                                 FileName  \\\n",
       "0       8f558908-aa1b-4a86-855a-5094c2392e5a___RS_HL 1...   \n",
       "1       b8e9ed27-8e37-4214-9206-f8c0ef21cf4d___RS_HL 4...   \n",
       "2       abdd34a0-ab02-41e0-95a3-a014ab863ec2___RS_HL 1...   \n",
       "3       d1aee44a-b6bb-45b9-b7b6-5d553add8fd1___RS_HL 2...   \n",
       "4       3d28c3ea-8419-4e09-addd-211e3828e39f___RS_HL 1...   \n",
       "...                                                   ...   \n",
       "162911  f6579a78-e6eb-4a65-82f7-7be30f100a07___RS_HL 5...   \n",
       "162912  356eb227-3e6d-4164-b84d-31f590293644___RS_HL 4...   \n",
       "162913  5d3def53-fdb2-4106-ad31-c020e75bccea___RS_HL 7...   \n",
       "162914  63d474df-5512-4ecc-9cd3-c0649c260668___RS_HL 7...   \n",
       "162915  304351e3-6619-402b-96c3-d730247701ff___RS_HL 3...   \n",
       "\n",
       "                                                     File  \n",
       "0       data/plantvillage/plantvillage dataset/color/S...  \n",
       "1       data/plantvillage/plantvillage dataset/color/S...  \n",
       "2       data/plantvillage/plantvillage dataset/color/S...  \n",
       "3       data/plantvillage/plantvillage dataset/color/S...  \n",
       "4       data/plantvillage/plantvillage dataset/color/S...  \n",
       "...                                                   ...  \n",
       "162911  data/plantvillage/plantvillage dataset/segment...  \n",
       "162912  data/plantvillage/plantvillage dataset/segment...  \n",
       "162913  data/plantvillage/plantvillage dataset/segment...  \n",
       "162914  data/plantvillage/plantvillage dataset/segment...  \n",
       "162915  data/plantvillage/plantvillage dataset/segment...  \n",
       "\n",
       "[162916 rows x 7 columns]"
      ],
      "text/html": [
       "<div>\n",
       "<style scoped>\n",
       "    .dataframe tbody tr th:only-of-type {\n",
       "        vertical-align: middle;\n",
       "    }\n",
       "\n",
       "    .dataframe tbody tr th {\n",
       "        vertical-align: top;\n",
       "    }\n",
       "\n",
       "    .dataframe thead th {\n",
       "        text-align: right;\n",
       "    }\n",
       "</style>\n",
       "<table border=\"1\" class=\"dataframe\">\n",
       "  <thead>\n",
       "    <tr style=\"text-align: right;\">\n",
       "      <th></th>\n",
       "      <th>Format</th>\n",
       "      <th>Species</th>\n",
       "      <th>Healthy</th>\n",
       "      <th>Disease</th>\n",
       "      <th>Folder</th>\n",
       "      <th>FileName</th>\n",
       "      <th>File</th>\n",
       "    </tr>\n",
       "  </thead>\n",
       "  <tbody>\n",
       "    <tr>\n",
       "      <th>0</th>\n",
       "      <td>color</td>\n",
       "      <td>Strawberry</td>\n",
       "      <td>True</td>\n",
       "      <td>None</td>\n",
       "      <td>data/plantvillage/plantvillage dataset/color/S...</td>\n",
       "      <td>8f558908-aa1b-4a86-855a-5094c2392e5a___RS_HL 1...</td>\n",
       "      <td>data/plantvillage/plantvillage dataset/color/S...</td>\n",
       "    </tr>\n",
       "    <tr>\n",
       "      <th>1</th>\n",
       "      <td>color</td>\n",
       "      <td>Strawberry</td>\n",
       "      <td>True</td>\n",
       "      <td>None</td>\n",
       "      <td>data/plantvillage/plantvillage dataset/color/S...</td>\n",
       "      <td>b8e9ed27-8e37-4214-9206-f8c0ef21cf4d___RS_HL 4...</td>\n",
       "      <td>data/plantvillage/plantvillage dataset/color/S...</td>\n",
       "    </tr>\n",
       "    <tr>\n",
       "      <th>2</th>\n",
       "      <td>color</td>\n",
       "      <td>Strawberry</td>\n",
       "      <td>True</td>\n",
       "      <td>None</td>\n",
       "      <td>data/plantvillage/plantvillage dataset/color/S...</td>\n",
       "      <td>abdd34a0-ab02-41e0-95a3-a014ab863ec2___RS_HL 1...</td>\n",
       "      <td>data/plantvillage/plantvillage dataset/color/S...</td>\n",
       "    </tr>\n",
       "    <tr>\n",
       "      <th>3</th>\n",
       "      <td>color</td>\n",
       "      <td>Strawberry</td>\n",
       "      <td>True</td>\n",
       "      <td>None</td>\n",
       "      <td>data/plantvillage/plantvillage dataset/color/S...</td>\n",
       "      <td>d1aee44a-b6bb-45b9-b7b6-5d553add8fd1___RS_HL 2...</td>\n",
       "      <td>data/plantvillage/plantvillage dataset/color/S...</td>\n",
       "    </tr>\n",
       "    <tr>\n",
       "      <th>4</th>\n",
       "      <td>color</td>\n",
       "      <td>Strawberry</td>\n",
       "      <td>True</td>\n",
       "      <td>None</td>\n",
       "      <td>data/plantvillage/plantvillage dataset/color/S...</td>\n",
       "      <td>3d28c3ea-8419-4e09-addd-211e3828e39f___RS_HL 1...</td>\n",
       "      <td>data/plantvillage/plantvillage dataset/color/S...</td>\n",
       "    </tr>\n",
       "    <tr>\n",
       "      <th>...</th>\n",
       "      <td>...</td>\n",
       "      <td>...</td>\n",
       "      <td>...</td>\n",
       "      <td>...</td>\n",
       "      <td>...</td>\n",
       "      <td>...</td>\n",
       "      <td>...</td>\n",
       "    </tr>\n",
       "    <tr>\n",
       "      <th>162911</th>\n",
       "      <td>segmented</td>\n",
       "      <td>Soybean</td>\n",
       "      <td>True</td>\n",
       "      <td>None</td>\n",
       "      <td>data/plantvillage/plantvillage dataset/segment...</td>\n",
       "      <td>f6579a78-e6eb-4a65-82f7-7be30f100a07___RS_HL 5...</td>\n",
       "      <td>data/plantvillage/plantvillage dataset/segment...</td>\n",
       "    </tr>\n",
       "    <tr>\n",
       "      <th>162912</th>\n",
       "      <td>segmented</td>\n",
       "      <td>Soybean</td>\n",
       "      <td>True</td>\n",
       "      <td>None</td>\n",
       "      <td>data/plantvillage/plantvillage dataset/segment...</td>\n",
       "      <td>356eb227-3e6d-4164-b84d-31f590293644___RS_HL 4...</td>\n",
       "      <td>data/plantvillage/plantvillage dataset/segment...</td>\n",
       "    </tr>\n",
       "    <tr>\n",
       "      <th>162913</th>\n",
       "      <td>segmented</td>\n",
       "      <td>Soybean</td>\n",
       "      <td>True</td>\n",
       "      <td>None</td>\n",
       "      <td>data/plantvillage/plantvillage dataset/segment...</td>\n",
       "      <td>5d3def53-fdb2-4106-ad31-c020e75bccea___RS_HL 7...</td>\n",
       "      <td>data/plantvillage/plantvillage dataset/segment...</td>\n",
       "    </tr>\n",
       "    <tr>\n",
       "      <th>162914</th>\n",
       "      <td>segmented</td>\n",
       "      <td>Soybean</td>\n",
       "      <td>True</td>\n",
       "      <td>None</td>\n",
       "      <td>data/plantvillage/plantvillage dataset/segment...</td>\n",
       "      <td>63d474df-5512-4ecc-9cd3-c0649c260668___RS_HL 7...</td>\n",
       "      <td>data/plantvillage/plantvillage dataset/segment...</td>\n",
       "    </tr>\n",
       "    <tr>\n",
       "      <th>162915</th>\n",
       "      <td>segmented</td>\n",
       "      <td>Soybean</td>\n",
       "      <td>True</td>\n",
       "      <td>None</td>\n",
       "      <td>data/plantvillage/plantvillage dataset/segment...</td>\n",
       "      <td>304351e3-6619-402b-96c3-d730247701ff___RS_HL 3...</td>\n",
       "      <td>data/plantvillage/plantvillage dataset/segment...</td>\n",
       "    </tr>\n",
       "  </tbody>\n",
       "</table>\n",
       "<p>162916 rows × 7 columns</p>\n",
       "</div>"
      ]
     },
     "execution_count": 9,
     "metadata": {},
     "output_type": "execute_result"
    }
   ],
   "execution_count": 9
  },
  {
   "metadata": {
    "ExecuteTime": {
     "end_time": "2025-07-25T21:47:53.853232Z",
     "start_time": "2025-07-25T21:47:53.827199Z"
    }
   },
   "cell_type": "code",
   "source": [
    "img_shape = (224, 224, 3)\n",
    "lr = 1e-4\n",
    "batch_size = 32\n",
    "\n",
    "# Usaré solamente las imágenes a color\n",
    "df = df[df['Format'] == 'color'].copy()\n",
    "\n",
    "# Encodeamos las enfermedades\n",
    "le = LabelEncoder()\n",
    "df['label'] = le.fit_transform(df['Disease']).astype(str)\n",
    "num_classes = len(le.classes_)"
   ],
   "id": "da2f6bc828ebc98e",
   "outputs": [],
   "execution_count": 10
  },
  {
   "metadata": {
    "ExecuteTime": {
     "end_time": "2025-07-25T21:47:53.897530Z",
     "start_time": "2025-07-25T21:47:53.854634Z"
    }
   },
   "cell_type": "code",
   "source": [
    "# Split del dataset\n",
    "train_df, val_df = train_test_split(df, test_size=0.2, stratify=df['label'], random_state=42)"
   ],
   "id": "54a0d7d6521e2379",
   "outputs": [],
   "execution_count": 11
  },
  {
   "metadata": {
    "ExecuteTime": {
     "end_time": "2025-07-25T21:47:53.903196Z",
     "start_time": "2025-07-25T21:47:53.898475Z"
    }
   },
   "cell_type": "code",
   "source": [
    "# Data Augmentation\n",
    "\n",
    "def data_augmentation():\n",
    "    train_datagen = ImageDataGenerator(\n",
    "        rescale=1./255,\n",
    "        rotation_range=25,\n",
    "        width_shift_range=0.1,\n",
    "        height_shift_range=0.1,\n",
    "        zoom_range=0.2,\n",
    "        horizontal_flip=True,\n",
    "        brightness_range=[0.8, 1.2],\n",
    "        fill_mode='nearest'\n",
    "    )\n",
    "    \n",
    "    val_datagen = ImageDataGenerator(rescale=1./255)\n",
    "    \n",
    "    def dataframe_generator(datagen, dataframe, batch_size, img_size=(224, 224), num_classes=None, shuffle=True):\n",
    "        while True:\n",
    "            if shuffle:\n",
    "                dataframe = dataframe.sample(frac=1).reset_index(drop=True)\n",
    "    \n",
    "            for i in range(0, len(dataframe), batch_size):\n",
    "                batch_df = dataframe.iloc[i:i+batch_size]\n",
    "                batch_images = []\n",
    "                batch_labels = []\n",
    "    \n",
    "                for _, row in batch_df.iterrows():\n",
    "                    img_path = os.path.join(row['Folder'], row['FileName'])\n",
    "                    img = image.load_img(img_path, target_size=img_size)\n",
    "                    img_array = image.img_to_array(img)\n",
    "                    img_array = img_array.reshape((1,) + img_array.shape)\n",
    "                    aug_iter = datagen.flow(img_array, batch_size=1)\n",
    "                    aug_img = next(aug_iter)[0]\n",
    "                    batch_images.append(aug_img)\n",
    "                    batch_labels.append(row['label'])  # Guardamos el índice de clase\n",
    "    \n",
    "                batch_labels = to_categorical(batch_labels, num_classes=num_classes)\n",
    "                yield np.array(batch_images), np.array(batch_labels)\n",
    "    \n",
    "    train_gen = dataframe_generator(train_datagen, train_df, batch_size=batch_size, num_classes=num_classes)\n",
    "    val_gen = dataframe_generator(val_datagen, val_df, batch_size=batch_size, num_classes=num_classes, shuffle=False)\n",
    "    \n",
    "    return train_gen, val_gen"
   ],
   "id": "a7af0e9abec2b8f2",
   "outputs": [],
   "execution_count": 12
  },
  {
   "metadata": {
    "ExecuteTime": {
     "end_time": "2025-07-25T21:47:53.906597Z",
     "start_time": "2025-07-25T21:47:53.903885Z"
    }
   },
   "cell_type": "code",
   "source": [
    "def data_augmentationt():\n",
    "    train_datagen = ImageDataGenerator(rescale=1./255)\n",
    "    val_datagen = ImageDataGenerator(rescale=1./255)\n",
    "    \n",
    "    train_gen = train_datagen.flow_from_dataframe(\n",
    "        dataframe=train_df,\n",
    "        directory=None,\n",
    "        x_col='File',  # debe existir esta columna con la ruta completa\n",
    "        y_col='label',\n",
    "        target_size=(224, 224),\n",
    "        batch_size=32,\n",
    "        class_mode='categorical',\n",
    "        shuffle=True\n",
    "    )\n",
    "    \n",
    "    val_gen = val_datagen.flow_from_dataframe(\n",
    "        dataframe=val_df,\n",
    "        x_col='File',\n",
    "        y_col='label',\n",
    "        target_size=(224, 224),\n",
    "        batch_size=32,\n",
    "        class_mode='categorical',\n",
    "        shuffle=False\n",
    "    )\n",
    "    \n",
    "    return train_gen, val_gen"
   ],
   "id": "d1767a245f32c8f9",
   "outputs": [],
   "execution_count": 13
  },
  {
   "metadata": {
    "ExecuteTime": {
     "end_time": "2025-07-25T21:55:51.651701Z",
     "start_time": "2025-07-25T21:55:50.615537Z"
    }
   },
   "cell_type": "code",
   "source": [
    "epochs = 10\n",
    "steps_per_epoch = len(train_df) // batch_size\n",
    "validation_steps = len(val_df) // batch_size\n",
    "\n",
    "# === Cargar ResNet50 base (sin la cabeza final)\n",
    "base_model = ResNet50(\n",
    "    weights='imagenet',\n",
    "    include_top=False,\n",
    "    input_tensor=Input(shape=img_shape)\n",
    ")\n",
    "\n",
    "for layer in base_model.layers:\n",
    "    layer.trainable = False\n",
    "\n",
    "# === Agregar cabeza de clasificación\n",
    "x = base_model.output\n",
    "x = GlobalAveragePooling2D()(x)\n",
    "x = Dropout(0.3)(x)\n",
    "x = Dense(128, activation='relu')(x)\n",
    "x = Dropout(0.3)(x)\n",
    "output = Dense(num_classes, activation='softmax')(x)\n",
    "\n",
    "model = Model(inputs=base_model.input, outputs=output)\n",
    "\n",
    "# === Compilar el modelo\n",
    "model.compile(\n",
    "    optimizer=Adam(learning_rate=lr),\n",
    "    loss='categorical_crossentropy',\n",
    "    metrics=['accuracy']\n",
    ")"
   ],
   "id": "27e022b2a6bb1c1c",
   "outputs": [],
   "execution_count": 16
  },
  {
   "metadata": {
    "jupyter": {
     "is_executing": true
    },
    "ExecuteTime": {
     "start_time": "2025-07-25T21:55:53.319209Z"
    }
   },
   "cell_type": "code",
   "source": [
    "train_gen, val_gen = data_augmentation()\n",
    "\n",
    "# Train with data augmentation\n",
    "history = model.fit(\n",
    "    train_gen,\n",
    "    steps_per_epoch=steps_per_epoch,\n",
    "    epochs=epochs,\n",
    "    validation_data=val_gen,\n",
    "    validation_steps=validation_steps\n",
    ")"
   ],
   "id": "c1b8902f0739532c",
   "outputs": [
    {
     "name": "stdout",
     "output_type": "stream",
     "text": [
      "Epoch 1/10\n"
     ]
    },
    {
     "name": "stderr",
     "output_type": "stream",
     "text": [
      "/Users/christianpisani/Learning/Posgrado/venv/lib/python3.12/site-packages/keras/src/models/functional.py:238: UserWarning: The structure of `inputs` doesn't match the expected structure.\n",
      "Expected: ['keras_tensor_720']\n",
      "Received: inputs=Tensor(shape=(None, 224, 224, 3))\n",
      "  warnings.warn(msg)\n"
     ]
    },
    {
     "name": "stdout",
     "output_type": "stream",
     "text": [
      "\u001B[1m 280/1357\u001B[0m \u001B[32m━━━━\u001B[0m\u001B[37m━━━━━━━━━━━━━━━━\u001B[0m \u001B[1m4:07\u001B[0m 229ms/step - accuracy: 0.1347 - loss: 3.4605"
     ]
    }
   ],
   "execution_count": null
  },
  {
   "metadata": {},
   "cell_type": "code",
   "outputs": [],
   "execution_count": null,
   "source": "",
   "id": "f10168db83e55e43"
  }
 ],
 "metadata": {
  "kernelspec": {
   "display_name": "Python 3",
   "language": "python",
   "name": "python3"
  },
  "language_info": {
   "codemirror_mode": {
    "name": "ipython",
    "version": 2
   },
   "file_extension": ".py",
   "mimetype": "text/x-python",
   "name": "python",
   "nbconvert_exporter": "python",
   "pygments_lexer": "ipython2",
   "version": "2.7.6"
  }
 },
 "nbformat": 4,
 "nbformat_minor": 5
}
