{
 "cells": [
  {
   "cell_type": "code",
   "id": "initial_id",
   "metadata": {
    "collapsed": true,
    "ExecuteTime": {
     "end_time": "2025-07-24T14:25:49.296366Z",
     "start_time": "2025-07-24T14:25:40.621788Z"
    }
   },
   "source": [
    "from torchvision.models import ResNet50_Weights\n",
    "\n",
    "import src.utils as utils\n",
    "import os\n",
    "import numpy as np\n",
    "import pandas as pd\n",
    "from PIL import Image\n",
    "import torch\n",
    "from torch.utils.data import Dataset, DataLoader\n",
    "from torchvision import models, transforms\n",
    "import torch.nn as nn\n",
    "import torch.optim as optim\n",
    "from sklearn.model_selection import train_test_split\n"
   ],
   "outputs": [],
   "execution_count": 2
  },
  {
   "metadata": {
    "ExecuteTime": {
     "end_time": "2025-07-24T14:25:51.706060Z",
     "start_time": "2025-07-24T14:25:49.297430Z"
    }
   },
   "cell_type": "code",
   "source": [
    "df = utils.build_dataset('data/plantvillage/plantvillage dataset')\n",
    "df"
   ],
   "id": "c2ade5393cc36b9f",
   "outputs": [
    {
     "data": {
      "text/plain": [
       "           Format     Species  Healthy Disease  \\\n",
       "0           color  Strawberry     True    None   \n",
       "1           color  Strawberry     True    None   \n",
       "2           color  Strawberry     True    None   \n",
       "3           color  Strawberry     True    None   \n",
       "4           color  Strawberry     True    None   \n",
       "...           ...         ...      ...     ...   \n",
       "162911  segmented     Soybean     True    None   \n",
       "162912  segmented     Soybean     True    None   \n",
       "162913  segmented     Soybean     True    None   \n",
       "162914  segmented     Soybean     True    None   \n",
       "162915  segmented     Soybean     True    None   \n",
       "\n",
       "                                                   Folder  \\\n",
       "0       data/plantvillage/plantvillage dataset/color/S...   \n",
       "1       data/plantvillage/plantvillage dataset/color/S...   \n",
       "2       data/plantvillage/plantvillage dataset/color/S...   \n",
       "3       data/plantvillage/plantvillage dataset/color/S...   \n",
       "4       data/plantvillage/plantvillage dataset/color/S...   \n",
       "...                                                   ...   \n",
       "162911  data/plantvillage/plantvillage dataset/segment...   \n",
       "162912  data/plantvillage/plantvillage dataset/segment...   \n",
       "162913  data/plantvillage/plantvillage dataset/segment...   \n",
       "162914  data/plantvillage/plantvillage dataset/segment...   \n",
       "162915  data/plantvillage/plantvillage dataset/segment...   \n",
       "\n",
       "                                                 FileName  \n",
       "0       8f558908-aa1b-4a86-855a-5094c2392e5a___RS_HL 1...  \n",
       "1       b8e9ed27-8e37-4214-9206-f8c0ef21cf4d___RS_HL 4...  \n",
       "2       abdd34a0-ab02-41e0-95a3-a014ab863ec2___RS_HL 1...  \n",
       "3       d1aee44a-b6bb-45b9-b7b6-5d553add8fd1___RS_HL 2...  \n",
       "4       3d28c3ea-8419-4e09-addd-211e3828e39f___RS_HL 1...  \n",
       "...                                                   ...  \n",
       "162911  f6579a78-e6eb-4a65-82f7-7be30f100a07___RS_HL 5...  \n",
       "162912  356eb227-3e6d-4164-b84d-31f590293644___RS_HL 4...  \n",
       "162913  5d3def53-fdb2-4106-ad31-c020e75bccea___RS_HL 7...  \n",
       "162914  63d474df-5512-4ecc-9cd3-c0649c260668___RS_HL 7...  \n",
       "162915  304351e3-6619-402b-96c3-d730247701ff___RS_HL 3...  \n",
       "\n",
       "[162916 rows x 6 columns]"
      ],
      "text/html": [
       "<div>\n",
       "<style scoped>\n",
       "    .dataframe tbody tr th:only-of-type {\n",
       "        vertical-align: middle;\n",
       "    }\n",
       "\n",
       "    .dataframe tbody tr th {\n",
       "        vertical-align: top;\n",
       "    }\n",
       "\n",
       "    .dataframe thead th {\n",
       "        text-align: right;\n",
       "    }\n",
       "</style>\n",
       "<table border=\"1\" class=\"dataframe\">\n",
       "  <thead>\n",
       "    <tr style=\"text-align: right;\">\n",
       "      <th></th>\n",
       "      <th>Format</th>\n",
       "      <th>Species</th>\n",
       "      <th>Healthy</th>\n",
       "      <th>Disease</th>\n",
       "      <th>Folder</th>\n",
       "      <th>FileName</th>\n",
       "    </tr>\n",
       "  </thead>\n",
       "  <tbody>\n",
       "    <tr>\n",
       "      <th>0</th>\n",
       "      <td>color</td>\n",
       "      <td>Strawberry</td>\n",
       "      <td>True</td>\n",
       "      <td>None</td>\n",
       "      <td>data/plantvillage/plantvillage dataset/color/S...</td>\n",
       "      <td>8f558908-aa1b-4a86-855a-5094c2392e5a___RS_HL 1...</td>\n",
       "    </tr>\n",
       "    <tr>\n",
       "      <th>1</th>\n",
       "      <td>color</td>\n",
       "      <td>Strawberry</td>\n",
       "      <td>True</td>\n",
       "      <td>None</td>\n",
       "      <td>data/plantvillage/plantvillage dataset/color/S...</td>\n",
       "      <td>b8e9ed27-8e37-4214-9206-f8c0ef21cf4d___RS_HL 4...</td>\n",
       "    </tr>\n",
       "    <tr>\n",
       "      <th>2</th>\n",
       "      <td>color</td>\n",
       "      <td>Strawberry</td>\n",
       "      <td>True</td>\n",
       "      <td>None</td>\n",
       "      <td>data/plantvillage/plantvillage dataset/color/S...</td>\n",
       "      <td>abdd34a0-ab02-41e0-95a3-a014ab863ec2___RS_HL 1...</td>\n",
       "    </tr>\n",
       "    <tr>\n",
       "      <th>3</th>\n",
       "      <td>color</td>\n",
       "      <td>Strawberry</td>\n",
       "      <td>True</td>\n",
       "      <td>None</td>\n",
       "      <td>data/plantvillage/plantvillage dataset/color/S...</td>\n",
       "      <td>d1aee44a-b6bb-45b9-b7b6-5d553add8fd1___RS_HL 2...</td>\n",
       "    </tr>\n",
       "    <tr>\n",
       "      <th>4</th>\n",
       "      <td>color</td>\n",
       "      <td>Strawberry</td>\n",
       "      <td>True</td>\n",
       "      <td>None</td>\n",
       "      <td>data/plantvillage/plantvillage dataset/color/S...</td>\n",
       "      <td>3d28c3ea-8419-4e09-addd-211e3828e39f___RS_HL 1...</td>\n",
       "    </tr>\n",
       "    <tr>\n",
       "      <th>...</th>\n",
       "      <td>...</td>\n",
       "      <td>...</td>\n",
       "      <td>...</td>\n",
       "      <td>...</td>\n",
       "      <td>...</td>\n",
       "      <td>...</td>\n",
       "    </tr>\n",
       "    <tr>\n",
       "      <th>162911</th>\n",
       "      <td>segmented</td>\n",
       "      <td>Soybean</td>\n",
       "      <td>True</td>\n",
       "      <td>None</td>\n",
       "      <td>data/plantvillage/plantvillage dataset/segment...</td>\n",
       "      <td>f6579a78-e6eb-4a65-82f7-7be30f100a07___RS_HL 5...</td>\n",
       "    </tr>\n",
       "    <tr>\n",
       "      <th>162912</th>\n",
       "      <td>segmented</td>\n",
       "      <td>Soybean</td>\n",
       "      <td>True</td>\n",
       "      <td>None</td>\n",
       "      <td>data/plantvillage/plantvillage dataset/segment...</td>\n",
       "      <td>356eb227-3e6d-4164-b84d-31f590293644___RS_HL 4...</td>\n",
       "    </tr>\n",
       "    <tr>\n",
       "      <th>162913</th>\n",
       "      <td>segmented</td>\n",
       "      <td>Soybean</td>\n",
       "      <td>True</td>\n",
       "      <td>None</td>\n",
       "      <td>data/plantvillage/plantvillage dataset/segment...</td>\n",
       "      <td>5d3def53-fdb2-4106-ad31-c020e75bccea___RS_HL 7...</td>\n",
       "    </tr>\n",
       "    <tr>\n",
       "      <th>162914</th>\n",
       "      <td>segmented</td>\n",
       "      <td>Soybean</td>\n",
       "      <td>True</td>\n",
       "      <td>None</td>\n",
       "      <td>data/plantvillage/plantvillage dataset/segment...</td>\n",
       "      <td>63d474df-5512-4ecc-9cd3-c0649c260668___RS_HL 7...</td>\n",
       "    </tr>\n",
       "    <tr>\n",
       "      <th>162915</th>\n",
       "      <td>segmented</td>\n",
       "      <td>Soybean</td>\n",
       "      <td>True</td>\n",
       "      <td>None</td>\n",
       "      <td>data/plantvillage/plantvillage dataset/segment...</td>\n",
       "      <td>304351e3-6619-402b-96c3-d730247701ff___RS_HL 3...</td>\n",
       "    </tr>\n",
       "  </tbody>\n",
       "</table>\n",
       "<p>162916 rows × 6 columns</p>\n",
       "</div>"
      ]
     },
     "execution_count": 3,
     "metadata": {},
     "output_type": "execute_result"
    }
   ],
   "execution_count": 3
  },
  {
   "metadata": {
    "ExecuteTime": {
     "end_time": "2025-07-24T14:25:51.712722Z",
     "start_time": "2025-07-24T14:25:51.708491Z"
    }
   },
   "cell_type": "code",
   "source": [
    "class PlantDataset(Dataset):\n",
    "    def __init__(self, df, transform=None):\n",
    "        self.df = df\n",
    "        self.transform = transform\n",
    "\n",
    "    def __len__(self):\n",
    "        return len(self.df)\n",
    "\n",
    "    def __getitem__(self, idx):\n",
    "        img_path = os.path.join(self.df.iloc[idx]['Folder'], self.df.iloc[idx]['FileName'])\n",
    "        image = Image.open(img_path).convert('RGB')\n",
    "        label = 1 if self.df.iloc[idx]['Healthy'] else 0  # binary classification\n",
    "\n",
    "        if self.transform:\n",
    "            image = self.transform(image)\n",
    "        return image, label\n"
   ],
   "id": "8a7fe64b3466819f",
   "outputs": [],
   "execution_count": 4
  },
  {
   "metadata": {
    "ExecuteTime": {
     "end_time": "2025-07-24T14:25:51.724177Z",
     "start_time": "2025-07-24T14:25:51.720452Z"
    }
   },
   "cell_type": "code",
   "source": [
    "train_transform = transforms.Compose([\n",
    "    transforms.RandomHorizontalFlip(),\n",
    "    transforms.RandomRotation(15),\n",
    "    transforms.ColorJitter(brightness=0.2, contrast=0.2),\n",
    "    transforms.Resize((224, 224)),\n",
    "    transforms.ToTensor()\n",
    "])\n",
    "\n",
    "val_transform = transforms.Compose([\n",
    "    transforms.Resize((224, 224)),\n",
    "    transforms.ToTensor()\n",
    "])"
   ],
   "id": "79c037ba65f2f797",
   "outputs": [],
   "execution_count": 5
  },
  {
   "metadata": {
    "ExecuteTime": {
     "end_time": "2025-07-24T14:25:51.792321Z",
     "start_time": "2025-07-24T14:25:51.725406Z"
    }
   },
   "cell_type": "code",
   "source": [
    "df = df[df['Healthy'].notna()]  # eliminamos filas sin etiqueta\n",
    "\n",
    "train_df, val_df = train_test_split(df, test_size=0.2, stratify=df['Healthy'], random_state=42)\n",
    "\n",
    "train_dataset = PlantDataset(train_df, transform=train_transform)\n",
    "val_dataset = PlantDataset(val_df, transform=val_transform)\n",
    "\n",
    "train_loader = DataLoader(train_dataset, batch_size=32, shuffle=True)\n",
    "val_loader = DataLoader(val_dataset, batch_size=32)"
   ],
   "id": "d1767a245f32c8f9",
   "outputs": [],
   "execution_count": 6
  },
  {
   "metadata": {
    "ExecuteTime": {
     "end_time": "2025-07-24T14:25:51.800207Z",
     "start_time": "2025-07-24T14:25:51.795266Z"
    }
   },
   "cell_type": "code",
   "source": [
    "device = \"cpu\"\n",
    "if torch.cuda.is_available():\n",
    "  device = \"cuda:0\"\n",
    "\n",
    "device"
   ],
   "id": "714d33a2657fc4d7",
   "outputs": [
    {
     "data": {
      "text/plain": [
       "'cpu'"
      ]
     },
     "execution_count": 7,
     "metadata": {},
     "output_type": "execute_result"
    }
   ],
   "execution_count": 7
  },
  {
   "metadata": {
    "jupyter": {
     "is_executing": true
    },
    "ExecuteTime": {
     "start_time": "2025-07-24T14:25:51.801334Z"
    }
   },
   "cell_type": "code",
   "source": [
    "device = torch.device(\"cuda\" if torch.cuda.is_available() else \"cpu\")\n",
    "\n",
    "model = models.resnet50(weights=ResNet50_Weights.DEFAULT)\n",
    "\n",
    "# Reemplazamos la última capa para clasificación binaria\n",
    "num_ftrs = model.fc.in_features\n",
    "model.fc = nn.Linear(num_ftrs, 1)\n",
    "\n",
    "model = model.to(device)\n",
    "\n",
    "# Congelamos todos los parámetros del modelo\n",
    "for param in model.parameters():\n",
    "    param.requires_grad = False\n",
    "\n",
    "# Activamos solo los parámetros de la última capa (la nueva capa fc)\n",
    "for param in model.fc.parameters():\n",
    "    param.requires_grad = True\n",
    "\n",
    "for name, param in model.named_parameters():\n",
    "    print(f\"{name}: requires_grad = {param.requires_grad}\")\n"
   ],
   "id": "73d97dd864f4c2",
   "outputs": [],
   "execution_count": null
  },
  {
   "metadata": {
    "jupyter": {
     "is_executing": true
    }
   },
   "cell_type": "code",
   "source": [
    "criterion = nn.BCEWithLogitsLoss()  # para clasificación binaria\n",
    "\n",
    "optimizer = optim.Adam(filter(lambda p: p.requires_grad, model.parameters()), lr=1e-3)\n",
    "\n",
    "for epoch in range(5):\n",
    "    model.train()\n",
    "    running_loss = 0.0\n",
    "    for inputs, labels in train_loader:\n",
    "        inputs, labels = inputs.to(device), labels.to(device).float().unsqueeze(1)\n",
    "\n",
    "        optimizer.zero_grad()\n",
    "        outputs = model(inputs)\n",
    "        loss = criterion(outputs, labels)\n",
    "        loss.backward()\n",
    "        optimizer.step()\n",
    "\n",
    "        running_loss += loss.item()\n",
    "\n",
    "    print(f\"Epoch {epoch+1}, Loss: {running_loss/len(train_loader):.4f}\")\n"
   ],
   "id": "27e022b2a6bb1c1c",
   "outputs": [],
   "execution_count": null
  }
 ],
 "metadata": {
  "kernelspec": {
   "display_name": "Python 3",
   "language": "python",
   "name": "python3"
  },
  "language_info": {
   "codemirror_mode": {
    "name": "ipython",
    "version": 2
   },
   "file_extension": ".py",
   "mimetype": "text/x-python",
   "name": "python",
   "nbconvert_exporter": "python",
   "pygments_lexer": "ipython2",
   "version": "2.7.6"
  }
 },
 "nbformat": 4,
 "nbformat_minor": 5
}
