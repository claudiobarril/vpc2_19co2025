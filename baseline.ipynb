{
 "cells": [
  {
   "cell_type": "code",
   "id": "initial_id",
   "metadata": {
    "collapsed": true,
    "ExecuteTime": {
     "end_time": "2025-07-24T14:45:59.202499Z",
     "start_time": "2025-07-24T14:45:59.072302Z"
    }
   },
   "source": [
    "import src.utils as utils\n",
    "import os\n",
    "import numpy as np\n",
    "from tensorflow.keras.preprocessing.image import ImageDataGenerator\n",
    "from tensorflow.keras.preprocessing import image\n",
    "import tensorflow as tf\n",
    "from tensorflow.keras.applications import ResNet50\n",
    "from tensorflow.keras.models import Model\n",
    "from tensorflow.keras.layers import GlobalAveragePooling2D, Dense, Dropout, Input\n",
    "from tensorflow.keras.optimizers import Adam\n"
   ],
   "outputs": [],
   "execution_count": 2
  },
  {
   "metadata": {
    "ExecuteTime": {
     "end_time": "2025-07-24T14:46:01.860880Z",
     "start_time": "2025-07-24T14:45:59.203629Z"
    }
   },
   "cell_type": "code",
   "source": [
    "df = utils.build_dataset('data/plantvillage/plantvillage dataset')\n",
    "df"
   ],
   "id": "c2ade5393cc36b9f",
   "outputs": [
    {
     "data": {
      "text/plain": [
       "           Format     Species  Healthy Disease  \\\n",
       "0           color  Strawberry     True    None   \n",
       "1           color  Strawberry     True    None   \n",
       "2           color  Strawberry     True    None   \n",
       "3           color  Strawberry     True    None   \n",
       "4           color  Strawberry     True    None   \n",
       "...           ...         ...      ...     ...   \n",
       "162911  segmented     Soybean     True    None   \n",
       "162912  segmented     Soybean     True    None   \n",
       "162913  segmented     Soybean     True    None   \n",
       "162914  segmented     Soybean     True    None   \n",
       "162915  segmented     Soybean     True    None   \n",
       "\n",
       "                                                   Folder  \\\n",
       "0       data/plantvillage/plantvillage dataset/color/S...   \n",
       "1       data/plantvillage/plantvillage dataset/color/S...   \n",
       "2       data/plantvillage/plantvillage dataset/color/S...   \n",
       "3       data/plantvillage/plantvillage dataset/color/S...   \n",
       "4       data/plantvillage/plantvillage dataset/color/S...   \n",
       "...                                                   ...   \n",
       "162911  data/plantvillage/plantvillage dataset/segment...   \n",
       "162912  data/plantvillage/plantvillage dataset/segment...   \n",
       "162913  data/plantvillage/plantvillage dataset/segment...   \n",
       "162914  data/plantvillage/plantvillage dataset/segment...   \n",
       "162915  data/plantvillage/plantvillage dataset/segment...   \n",
       "\n",
       "                                                 FileName  \n",
       "0       8f558908-aa1b-4a86-855a-5094c2392e5a___RS_HL 1...  \n",
       "1       b8e9ed27-8e37-4214-9206-f8c0ef21cf4d___RS_HL 4...  \n",
       "2       abdd34a0-ab02-41e0-95a3-a014ab863ec2___RS_HL 1...  \n",
       "3       d1aee44a-b6bb-45b9-b7b6-5d553add8fd1___RS_HL 2...  \n",
       "4       3d28c3ea-8419-4e09-addd-211e3828e39f___RS_HL 1...  \n",
       "...                                                   ...  \n",
       "162911  f6579a78-e6eb-4a65-82f7-7be30f100a07___RS_HL 5...  \n",
       "162912  356eb227-3e6d-4164-b84d-31f590293644___RS_HL 4...  \n",
       "162913  5d3def53-fdb2-4106-ad31-c020e75bccea___RS_HL 7...  \n",
       "162914  63d474df-5512-4ecc-9cd3-c0649c260668___RS_HL 7...  \n",
       "162915  304351e3-6619-402b-96c3-d730247701ff___RS_HL 3...  \n",
       "\n",
       "[162916 rows x 6 columns]"
      ],
      "text/html": [
       "<div>\n",
       "<style scoped>\n",
       "    .dataframe tbody tr th:only-of-type {\n",
       "        vertical-align: middle;\n",
       "    }\n",
       "\n",
       "    .dataframe tbody tr th {\n",
       "        vertical-align: top;\n",
       "    }\n",
       "\n",
       "    .dataframe thead th {\n",
       "        text-align: right;\n",
       "    }\n",
       "</style>\n",
       "<table border=\"1\" class=\"dataframe\">\n",
       "  <thead>\n",
       "    <tr style=\"text-align: right;\">\n",
       "      <th></th>\n",
       "      <th>Format</th>\n",
       "      <th>Species</th>\n",
       "      <th>Healthy</th>\n",
       "      <th>Disease</th>\n",
       "      <th>Folder</th>\n",
       "      <th>FileName</th>\n",
       "    </tr>\n",
       "  </thead>\n",
       "  <tbody>\n",
       "    <tr>\n",
       "      <th>0</th>\n",
       "      <td>color</td>\n",
       "      <td>Strawberry</td>\n",
       "      <td>True</td>\n",
       "      <td>None</td>\n",
       "      <td>data/plantvillage/plantvillage dataset/color/S...</td>\n",
       "      <td>8f558908-aa1b-4a86-855a-5094c2392e5a___RS_HL 1...</td>\n",
       "    </tr>\n",
       "    <tr>\n",
       "      <th>1</th>\n",
       "      <td>color</td>\n",
       "      <td>Strawberry</td>\n",
       "      <td>True</td>\n",
       "      <td>None</td>\n",
       "      <td>data/plantvillage/plantvillage dataset/color/S...</td>\n",
       "      <td>b8e9ed27-8e37-4214-9206-f8c0ef21cf4d___RS_HL 4...</td>\n",
       "    </tr>\n",
       "    <tr>\n",
       "      <th>2</th>\n",
       "      <td>color</td>\n",
       "      <td>Strawberry</td>\n",
       "      <td>True</td>\n",
       "      <td>None</td>\n",
       "      <td>data/plantvillage/plantvillage dataset/color/S...</td>\n",
       "      <td>abdd34a0-ab02-41e0-95a3-a014ab863ec2___RS_HL 1...</td>\n",
       "    </tr>\n",
       "    <tr>\n",
       "      <th>3</th>\n",
       "      <td>color</td>\n",
       "      <td>Strawberry</td>\n",
       "      <td>True</td>\n",
       "      <td>None</td>\n",
       "      <td>data/plantvillage/plantvillage dataset/color/S...</td>\n",
       "      <td>d1aee44a-b6bb-45b9-b7b6-5d553add8fd1___RS_HL 2...</td>\n",
       "    </tr>\n",
       "    <tr>\n",
       "      <th>4</th>\n",
       "      <td>color</td>\n",
       "      <td>Strawberry</td>\n",
       "      <td>True</td>\n",
       "      <td>None</td>\n",
       "      <td>data/plantvillage/plantvillage dataset/color/S...</td>\n",
       "      <td>3d28c3ea-8419-4e09-addd-211e3828e39f___RS_HL 1...</td>\n",
       "    </tr>\n",
       "    <tr>\n",
       "      <th>...</th>\n",
       "      <td>...</td>\n",
       "      <td>...</td>\n",
       "      <td>...</td>\n",
       "      <td>...</td>\n",
       "      <td>...</td>\n",
       "      <td>...</td>\n",
       "    </tr>\n",
       "    <tr>\n",
       "      <th>162911</th>\n",
       "      <td>segmented</td>\n",
       "      <td>Soybean</td>\n",
       "      <td>True</td>\n",
       "      <td>None</td>\n",
       "      <td>data/plantvillage/plantvillage dataset/segment...</td>\n",
       "      <td>f6579a78-e6eb-4a65-82f7-7be30f100a07___RS_HL 5...</td>\n",
       "    </tr>\n",
       "    <tr>\n",
       "      <th>162912</th>\n",
       "      <td>segmented</td>\n",
       "      <td>Soybean</td>\n",
       "      <td>True</td>\n",
       "      <td>None</td>\n",
       "      <td>data/plantvillage/plantvillage dataset/segment...</td>\n",
       "      <td>356eb227-3e6d-4164-b84d-31f590293644___RS_HL 4...</td>\n",
       "    </tr>\n",
       "    <tr>\n",
       "      <th>162913</th>\n",
       "      <td>segmented</td>\n",
       "      <td>Soybean</td>\n",
       "      <td>True</td>\n",
       "      <td>None</td>\n",
       "      <td>data/plantvillage/plantvillage dataset/segment...</td>\n",
       "      <td>5d3def53-fdb2-4106-ad31-c020e75bccea___RS_HL 7...</td>\n",
       "    </tr>\n",
       "    <tr>\n",
       "      <th>162914</th>\n",
       "      <td>segmented</td>\n",
       "      <td>Soybean</td>\n",
       "      <td>True</td>\n",
       "      <td>None</td>\n",
       "      <td>data/plantvillage/plantvillage dataset/segment...</td>\n",
       "      <td>63d474df-5512-4ecc-9cd3-c0649c260668___RS_HL 7...</td>\n",
       "    </tr>\n",
       "    <tr>\n",
       "      <th>162915</th>\n",
       "      <td>segmented</td>\n",
       "      <td>Soybean</td>\n",
       "      <td>True</td>\n",
       "      <td>None</td>\n",
       "      <td>data/plantvillage/plantvillage dataset/segment...</td>\n",
       "      <td>304351e3-6619-402b-96c3-d730247701ff___RS_HL 3...</td>\n",
       "    </tr>\n",
       "  </tbody>\n",
       "</table>\n",
       "<p>162916 rows × 6 columns</p>\n",
       "</div>"
      ]
     },
     "execution_count": 3,
     "metadata": {},
     "output_type": "execute_result"
    }
   ],
   "execution_count": 3
  },
  {
   "metadata": {
    "ExecuteTime": {
     "end_time": "2025-07-24T14:46:02.007622Z",
     "start_time": "2025-07-24T14:46:01.861951Z"
    }
   },
   "cell_type": "code",
   "source": [
    "# === Filtramos por formato 'color' y armamos etiquetas ===\n",
    "df = df[df['Format'] == 'color'].copy()\n",
    "df['label'] = df['Healthy'].apply(lambda x: 0 if x else 1)  # 0: sana, 1: enferma\n",
    "\n",
    "# === Split Train / Validation ===\n",
    "from sklearn.model_selection import train_test_split\n",
    "train_df, val_df = train_test_split(df, test_size=0.2, stratify=df['label'], random_state=42)\n",
    "\n",
    "# === Aumentos para entrenamiento ===\n",
    "train_datagen = ImageDataGenerator(\n",
    "    rescale=1./255,\n",
    "    rotation_range=25,\n",
    "    width_shift_range=0.1,\n",
    "    height_shift_range=0.1,\n",
    "    zoom_range=0.2,\n",
    "    horizontal_flip=True,\n",
    "    brightness_range=[0.8, 1.2],\n",
    "    fill_mode='nearest'\n",
    ")\n",
    "\n",
    "val_datagen = ImageDataGenerator(rescale=1./255)\n",
    "\n",
    "# === Custom DataFrame-based Generator ===\n",
    "def dataframe_generator(datagen, dataframe, batch_size, img_size=(224, 224), shuffle=True):\n",
    "    while True:\n",
    "        if shuffle:\n",
    "            dataframe = dataframe.sample(frac=1).reset_index(drop=True)\n",
    "\n",
    "        for i in range(0, len(dataframe), batch_size):\n",
    "            batch_df = dataframe.iloc[i:i+batch_size]\n",
    "            batch_images = []\n",
    "            batch_labels = []\n",
    "\n",
    "            for _, row in batch_df.iterrows():\n",
    "                img_path = os.path.join(row['Folder'], row['FileName'])\n",
    "                img = image.load_img(img_path, target_size=img_size)\n",
    "                img_array = image.img_to_array(img)\n",
    "                img_array = img_array.reshape((1,) + img_array.shape)\n",
    "                aug_iter = datagen.flow(img_array, batch_size=1)\n",
    "                aug_img = next(aug_iter)[0]\n",
    "                batch_images.append(aug_img)\n",
    "                batch_labels.append(row['label'])\n",
    "\n",
    "            yield np.array(batch_images), np.array(batch_labels)\n",
    "\n",
    "# === Crear generadores ===\n",
    "batch_size = 32\n",
    "train_gen = dataframe_generator(train_datagen, train_df, batch_size=batch_size)\n",
    "val_gen = dataframe_generator(val_datagen, val_df, batch_size=batch_size, shuffle=False)\n",
    "\n",
    "train_gen"
   ],
   "id": "d1767a245f32c8f9",
   "outputs": [
    {
     "data": {
      "text/plain": [
       "<generator object dataframe_generator at 0x320691900>"
      ]
     },
     "execution_count": 4,
     "metadata": {},
     "output_type": "execute_result"
    }
   ],
   "execution_count": 4
  },
  {
   "metadata": {
    "ExecuteTime": {
     "end_time": "2025-07-24T14:46:02.011475Z",
     "start_time": "2025-07-24T14:46:02.008384Z"
    }
   },
   "cell_type": "code",
   "source": [
    "import tensorflow as tf\n",
    "\n",
    "print(\"Versión de TensorFlow:\", tf.__version__)\n",
    "print(\"Dispositivos disponibles:\")\n",
    "print(tf.config.list_physical_devices())"
   ],
   "id": "3635d5ba5f22a62c",
   "outputs": [
    {
     "name": "stdout",
     "output_type": "stream",
     "text": [
      "Versión de TensorFlow: 2.16.2\n",
      "Dispositivos disponibles:\n",
      "[PhysicalDevice(name='/physical_device:CPU:0', device_type='CPU'), PhysicalDevice(name='/physical_device:GPU:0', device_type='GPU')]\n"
     ]
    }
   ],
   "execution_count": 5
  },
  {
   "metadata": {
    "jupyter": {
     "is_executing": true
    },
    "ExecuteTime": {
     "start_time": "2025-07-24T14:46:02.013265Z"
    }
   },
   "cell_type": "code",
   "source": [
    "# === Parámetros\n",
    "img_shape = (224, 224, 3)\n",
    "lr = 1e-4\n",
    "epochs = 10\n",
    "steps_per_epoch = len(train_df) // batch_size\n",
    "validation_steps = len(val_df) // batch_size\n",
    "\n",
    "# === Cargar ResNet50 base (sin la cabeza final)\n",
    "base_model = ResNet50(\n",
    "    weights='imagenet',\n",
    "    include_top=False,\n",
    "    input_tensor=Input(shape=img_shape)\n",
    ")\n",
    "\n",
    "for layer in base_model.layers:\n",
    "    layer.trainable = False\n",
    "\n",
    "# # === Congelar capas del modelo base\n",
    "# base_model.trainable = False\n",
    "\n",
    "# === Agregar nuevas capas\n",
    "x = base_model.output\n",
    "x = GlobalAveragePooling2D()(x)\n",
    "x = Dropout(0.3)(x)\n",
    "x = Dense(128, activation='relu')(x)\n",
    "x = Dropout(0.3)(x)\n",
    "output = Dense(1, activation='sigmoid')(x)  # salida binaria\n",
    "\n",
    "model = Model(inputs=base_model.input, outputs=output)\n",
    "\n",
    "# === Compilar el modelo\n",
    "model.compile(\n",
    "    optimizer=Adam(learning_rate=lr),\n",
    "    loss='binary_crossentropy',\n",
    "    metrics=['accuracy']\n",
    ")\n",
    "\n",
    "# === Entrenamiento\n",
    "history = model.fit(\n",
    "    train_gen,\n",
    "    steps_per_epoch=steps_per_epoch,\n",
    "    epochs=epochs,\n",
    "    validation_data=val_gen,\n",
    "    validation_steps=validation_steps\n",
    ")\n"
   ],
   "id": "27e022b2a6bb1c1c",
   "outputs": [
    {
     "name": "stderr",
     "output_type": "stream",
     "text": [
      "2025-07-24 11:46:02.026468: I metal_plugin/src/device/metal_device.cc:1154] Metal device set to: Apple M2\n",
      "2025-07-24 11:46:02.026509: I metal_plugin/src/device/metal_device.cc:296] systemMemory: 16.00 GB\n",
      "2025-07-24 11:46:02.026512: I metal_plugin/src/device/metal_device.cc:313] maxCacheSize: 5.33 GB\n",
      "2025-07-24 11:46:02.026939: I tensorflow/core/common_runtime/pluggable_device/pluggable_device_factory.cc:305] Could not identify NUMA node of platform GPU ID 0, defaulting to 0. Your kernel may not have been built with NUMA support.\n",
      "2025-07-24 11:46:02.026989: I tensorflow/core/common_runtime/pluggable_device/pluggable_device_factory.cc:271] Created TensorFlow device (/job:localhost/replica:0/task:0/device:GPU:0 with 0 MB memory) -> physical PluggableDevice (device: 0, name: METAL, pci bus id: <undefined>)\n"
     ]
    },
    {
     "name": "stdout",
     "output_type": "stream",
     "text": [
      "Epoch 1/10\n"
     ]
    },
    {
     "name": "stderr",
     "output_type": "stream",
     "text": [
      "/Users/christianpisani/Learning/Posgrado/venv/lib/python3.12/site-packages/keras/src/models/functional.py:238: UserWarning: The structure of `inputs` doesn't match the expected structure.\n",
      "Expected: ['keras_tensor']\n",
      "Received: inputs=Tensor(shape=(None, 224, 224, 3))\n",
      "  warnings.warn(msg)\n",
      "2025-07-24 11:46:05.524247: I tensorflow/core/grappler/optimizers/custom_graph_optimizer_registry.cc:117] Plugin optimizer for device_type GPU is enabled.\n"
     ]
    },
    {
     "name": "stdout",
     "output_type": "stream",
     "text": [
      "\u001B[1m1357/1357\u001B[0m \u001B[32m━━━━━━━━━━━━━━━━━━━━\u001B[0m\u001B[37m\u001B[0m \u001B[1m403s\u001B[0m 291ms/step - accuracy: 0.6585 - loss: 0.6950 - val_accuracy: 0.7223 - val_loss: 0.5561\n",
      "Epoch 2/10\n",
      "\u001B[1m 479/1357\u001B[0m \u001B[32m━━━━━━━\u001B[0m\u001B[37m━━━━━━━━━━━━━\u001B[0m \u001B[1m3:29\u001B[0m 238ms/step - accuracy: 0.6834 - loss: 0.6522"
     ]
    }
   ],
   "execution_count": null
  },
  {
   "metadata": {
    "jupyter": {
     "is_executing": true
    }
   },
   "cell_type": "code",
   "source": "",
   "id": "1a882c44408e58ea",
   "outputs": [],
   "execution_count": null
  }
 ],
 "metadata": {
  "kernelspec": {
   "display_name": "Python 3",
   "language": "python",
   "name": "python3"
  },
  "language_info": {
   "codemirror_mode": {
    "name": "ipython",
    "version": 2
   },
   "file_extension": ".py",
   "mimetype": "text/x-python",
   "name": "python",
   "nbconvert_exporter": "python",
   "pygments_lexer": "ipython2",
   "version": "2.7.6"
  }
 },
 "nbformat": 4,
 "nbformat_minor": 5
}
