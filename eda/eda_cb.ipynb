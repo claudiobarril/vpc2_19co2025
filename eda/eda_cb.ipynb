{
 "cells": [
  {
   "metadata": {},
   "cell_type": "markdown",
   "source": "Análisis exploratorio de datos",
   "id": "e974ed47e106c30a"
  },
  {
   "metadata": {
    "ExecuteTime": {
     "end_time": "2025-07-09T19:44:03.088513Z",
     "start_time": "2025-07-09T19:44:03.080122Z"
    }
   },
   "cell_type": "code",
   "source": [
    "import sys\n",
    "print(sys.executable)"
   ],
   "id": "bbe2ec74af3be7a7",
   "outputs": [
    {
     "name": "stdout",
     "output_type": "stream",
     "text": [
      "/Users/cbarril/dev/posgrado/vpc2_19co2025/vpc2/bin/python\n"
     ]
    }
   ],
   "execution_count": 2
  },
  {
   "metadata": {
    "ExecuteTime": {
     "end_time": "2025-07-09T20:20:34.477723Z",
     "start_time": "2025-07-09T20:18:38.995622Z"
    }
   },
   "cell_type": "code",
   "source": [
    "import src.utils as utils\n",
    "\n",
    "utils.download_plantvillage_dataset()"
   ],
   "id": "5a2a2ef5f41792ac",
   "outputs": [
    {
     "name": "stdout",
     "output_type": "stream",
     "text": [
      "Warning: Your Kaggle API key is readable by other users on this system! To fix this, you can run 'chmod 600 /Users/cbarril/.kaggle/kaggle.json'\n",
      "Dataset URL: https://www.kaggle.com/datasets/abdallahalidev/plantvillage-dataset\n",
      "Dataset downloaded and extracted to data/plantvillage\n"
     ]
    }
   ],
   "execution_count": 3
  },
  {
   "metadata": {},
   "cell_type": "code",
   "outputs": [],
   "execution_count": null,
   "source": "",
   "id": "350689a66c0ad80b"
  }
 ],
 "metadata": {
  "kernelspec": {
   "display_name": "Python (vpc3)",
   "language": "python",
   "name": "vpc3"
  },
  "language_info": {
   "codemirror_mode": {
    "name": "ipython",
    "version": 2
   },
   "file_extension": ".py",
   "mimetype": "text/x-python",
   "name": "python",
   "nbconvert_exporter": "python",
   "pygments_lexer": "ipython2",
   "version": "2.7.6"
  }
 },
 "nbformat": 4,
 "nbformat_minor": 5
}
