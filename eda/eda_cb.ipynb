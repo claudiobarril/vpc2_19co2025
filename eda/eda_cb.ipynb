{
 "cells": [
  {
   "metadata": {},
   "cell_type": "markdown",
   "source": "Análisis exploratorio de datos",
   "id": "e974ed47e106c30a"
  },
  {
   "metadata": {
    "ExecuteTime": {
     "end_time": "2025-07-09T19:44:03.088513Z",
     "start_time": "2025-07-09T19:44:03.080122Z"
    }
   },
   "cell_type": "code",
   "source": [
    "import sys\n",
    "print(sys.executable)"
   ],
   "id": "bbe2ec74af3be7a7",
   "outputs": [
    {
     "name": "stdout",
     "output_type": "stream",
     "text": [
      "/Users/cbarril/dev/posgrado/vpc2_19co2025/vpc2/bin/python\n"
     ]
    }
   ],
   "execution_count": 2
  },
  {
   "metadata": {
    "ExecuteTime": {
     "end_time": "2025-07-09T20:20:34.477723Z",
     "start_time": "2025-07-09T20:18:38.995622Z"
    }
   },
   "cell_type": "code",
   "source": [
    "import src.utils as utils\n",
    "\n",
    "utils.download_plantvillage_dataset()"
   ],
   "id": "5a2a2ef5f41792ac",
   "outputs": [
    {
     "name": "stdout",
     "output_type": "stream",
     "text": [
      "Warning: Your Kaggle API key is readable by other users on this system! To fix this, you can run 'chmod 600 /Users/cbarril/.kaggle/kaggle.json'\n",
      "Dataset URL: https://www.kaggle.com/datasets/abdallahalidev/plantvillage-dataset\n",
      "Dataset downloaded and extracted to data/plantvillage\n"
     ]
    }
   ],
   "execution_count": 3
  },
  {
   "metadata": {},
   "cell_type": "markdown",
   "source": [
    "Tenemos un dataset de imágenes de plantas que pueden estar sanas o enfermas. El dataset contiene imágenes de 14 especies de plantas, algunas con ciertas enfermedades, y otras con ejemplos de la planta únicamente sanas. Las imágenes están organizadas en carpetas por especie y enfermedad.\n",
    "\n",
    "Traducción de las especies:\n",
    "\n",
    "* Apple: Manzana\n",
    "* Blueberry: Arándano\n",
    "* Cherry: Cereza\n",
    "* Corn: Maíz\n",
    "* Grape: Uva\n",
    "* Peach: Durazno\n",
    "* Pepper: Pimiento\n",
    "* Potato: Papa\n",
    "* Raspberry: Frambuesa\n",
    "* Soybean: Soja\n",
    "* Strawberry: Fresa\n",
    "* Tomato: Tomate\n",
    "\n",
    "Traducción de las enfermedades:\n",
    "\n",
    "* scab: sarna\n",
    "* black rot: podredumbre negra\n",
    "* cedar apple rust: roya del manzano y cedro (hinchazón color rojizo a naranja producida por un hongo)\n",
    "* powdery mildew: oídio (cenicilla o polvillo blanco - enfermedad fúngica)\n",
    "* cercospora leaf spot / gray leaf spot: mancha foliar por cercospora / mancha foliar gris\n",
    "* common rust: roya común\n",
    "* northern leaf blight: tizón foliar del norte\n",
    "* esca (black measles): esca (manchas negras)\n",
    "* leaf blight (Isariopsis leaf spot): tizón de la hoja (mancha foliar por Isariopsis)\n",
    "* Haunglongbing (HLB) / citrus greening: Huanglongbing (HLB) / enverdecimiento de los cítricos\n",
    "* bacterial spot: mancha bacteriana\n",
    "* early blight: tizón temprano\n",
    "* late blight: tizón tardío\n",
    "* leaf scorch: quemadura de la hoja\n",
    "* bacterial spot: mancha bacteriana\n",
    "* leaf mold: moho de la hoja\n",
    "* septoria leaf spot: mancha foliar por septoria\n",
    "* spider mites two-spotted spider mite: ácaros araña de dos manchas\n",
    "* target spot: mancha diana\n",
    "* mosaic virus: virus del mosaico\n",
    "* yellow leaf curl virus: virus del rizado amarillo de la hoja\n",
    "\n",
    "Clases disponibles por especie:\n",
    "\n",
    "* Apple:\n",
    "    * healthy\n",
    "    * scab\n",
    "    * black rot\n",
    "    * cedar apple rust\n",
    "* Blueberry:\n",
    "    * healthy\n",
    "* Cherry:\n",
    "    * healthy\n",
    "    * powdery mildew\n",
    "* Corn:\n",
    "    * healthy\n",
    "    * cercospora leaf spot / gray leaf spot\n",
    "    * common rust\n",
    "    * northern leaf blight\n",
    "* Grape:\n",
    "    * healthy\n",
    "    * black rot\n",
    "    * esca (black measles)\n",
    "    * leaf blight (Isariopsis leaf spot)\n",
    "* Orange:\n",
    "    * Haunglongbing (HLB) / citrus greening\n",
    "* Peach:\n",
    "    * healthy\n",
    "    * bacterial spot\n",
    "* Pepper:\n",
    "    * healthy\n",
    "    * bacterial spot\n",
    "* Potato:\n",
    "    * healthy\n",
    "    * early blight\n",
    "    * late blight\n",
    "* Raspberry:\n",
    "    * healthy\n",
    "* Soybean:\n",
    "    * healthy\n",
    "* Squash:\n",
    "    * healthy\n",
    "* Strawberry:\n",
    "    * healthy\n",
    "    * leaf scorch\n",
    "* Tomato:\n",
    "    * healthy\n",
    "    * bacterial spot\n",
    "    * early blight\n",
    "    * late blight\n",
    "    * leaf mold\n",
    "    * septoria leaf spot\n",
    "    * spider mites two-spotted spider mite\n",
    "    * target spot\n",
    "    * mosaic virus\n",
    "    * yellow leaf curl virus\n",
    "\n",
    "Plantas disponibles por clase:\n",
    "\n",
    "* healthy: Apple, Blueberry, Cherry, Corn, Grape, Peach, Pepper, Potato, Raspberry, Soybean, Strawberry, Tomato\n",
    "* scab: Apple\n",
    "* black rot: Apple, Grape\n",
    "* cedar apple rust: Apple\n",
    "* powdery mildew: Cherry\n",
    "* cercospora leaf spot / gray leaf spot: Corn\n",
    "* common rust: Corn\n",
    "* northern leaf blight: Corn\n",
    "* esca (black measles): Grape\n",
    "* leaf blight (Isariopsis leaf spot): Grape\n",
    "* Haunglongbing (HLB) / citrus greening: Orange\n",
    "* bacterial spot: Peach, Pepper, Tomato\n",
    "* early blight: Potato, Tomato\n",
    "* late blight: Potato, Tomato\n",
    "* leaf scorch: Strawberry\n",
    "* bacterial spot: Tomato\n",
    "* leaf mold: Tomato\n",
    "* septoria leaf spot: Tomato\n",
    "* spider mites two-spotted spider mite: Tomato\n",
    "* target spot: Tomato\n",
    "* mosaic virus: Tomato\n",
    "* yellow leaf curl virus: Tomato"
   ],
   "id": "8475763f94faabea"
  },
  {
   "metadata": {
    "ExecuteTime": {
     "end_time": "2025-07-09T22:07:08.140778Z",
     "start_time": "2025-07-09T22:07:08.137100Z"
    }
   },
   "cell_type": "code",
   "source": "",
   "id": "fc9d505e75bc9e8",
   "outputs": [],
   "execution_count": null
  },
  {
   "metadata": {},
   "cell_type": "code",
   "outputs": [],
   "execution_count": null,
   "source": "",
   "id": "df13fc9633f5c194"
  }
 ],
 "metadata": {
  "kernelspec": {
   "display_name": "Python (vpc3)",
   "language": "python",
   "name": "vpc3"
  },
  "language_info": {
   "codemirror_mode": {
    "name": "ipython",
    "version": 2
   },
   "file_extension": ".py",
   "mimetype": "text/x-python",
   "name": "python",
   "nbconvert_exporter": "python",
   "pygments_lexer": "ipython2",
   "version": "2.7.6"
  }
 },
 "nbformat": 4,
 "nbformat_minor": 5
}
